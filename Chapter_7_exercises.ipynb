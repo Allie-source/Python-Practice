{
 "cells": [
  {
   "cell_type": "markdown",
   "metadata": {},
   "source": [
    "# Coding Set 7"
   ]
  },
  {
   "cell_type": "markdown",
   "metadata": {},
   "source": [
    "## Algorithm Workbench  #2 \n",
    "Assume names references a list. Write a for loop that displays each element of the list.\n",
    "\n",
    "I wrote a basic for loop to iterate over the elements in the list names and print them. "
   ]
  },
  {
   "cell_type": "code",
   "execution_count": 2,
   "metadata": {},
   "outputs": [
    {
     "name": "stdout",
     "output_type": "stream",
     "text": [
      "Joe\n",
      "Moe\n",
      "Ted\n",
      "Mike\n"
     ]
    }
   ],
   "source": [
    "# call main\n",
    "def main():\n",
    "    # make a list of names \n",
    "    names = ['Joe', 'Moe', 'Ted', 'Mike']\n",
    "\n",
    "    # a for loop that iterates over name in names\n",
    "    for name in names:\n",
    "        # print the name for this iteration of the for loop\n",
    "        print(name)\n",
    "# if clause to assign main\n",
    "if __name__ == '__main__':\n",
    "    # call main \n",
    "    main()"
   ]
  },
  {
   "cell_type": "markdown",
   "metadata": {},
   "source": [
    "## Algorithm Workbench #5\n",
    "Write a function that accepts a list as an argument (assume the list contains integers) \n",
    "and returns the total of the values in the list.\n",
    "\n",
    "For this problem I defined the function total_value which iterates over a list that is passed to it as an argument. Each iteration of the list adds the element to the total sum accumulator. Then in main I called it and printed it.  "
   ]
  },
  {
   "cell_type": "code",
   "execution_count": 3,
   "metadata": {},
   "outputs": [
    {
     "name": "stdout",
     "output_type": "stream",
     "text": [
      "15\n"
     ]
    }
   ],
   "source": [
    "# define main\n",
    "def main():\n",
    "    # create a list of integers\n",
    "    numbers = [1, 2, 3, 4, 5]\n",
    "    # call the function total_value and pass the list numbers too it\n",
    "    # and assign the output of the function to the variable total\n",
    "    total = total_value(numbers)\n",
    "    # print the total of the list \n",
    "    print(total)\n",
    "# define the function that sums the integers in a list\n",
    "def total_value(total):\n",
    "    # accumulator for the overall total\n",
    "    total_sum = 0\n",
    "    # for loop iterating over a lit\n",
    "    for item in total:\n",
    "        # for each iteration of the loop the item is added to the total_sum\n",
    "        total_sum += item\n",
    "    # return the sum of all the integers\n",
    "    return total_sum \n",
    "\n",
    "# if clause to assign main\n",
    "if __name__ == '__main__':\n",
    "    # call main\n",
    "    main()"
   ]
  },
  {
   "cell_type": "markdown",
   "metadata": {},
   "source": [
    "## Programming Exercise #1 Total Sales\n",
    "Design a program that asks the user to enter a store’s sales for each day of the week. The \n",
    "amounts should be stored in a list. Use a loop to calculate the total sales for the week and \n",
    "display the result."
   ]
  },
  {
   "cell_type": "code",
   "execution_count": 4,
   "metadata": {},
   "outputs": [
    {
     "ename": "TypeError",
     "evalue": "sales_total() missing 1 required positional argument: 'list'",
     "output_type": "error",
     "traceback": [
      "\u001b[1;31m---------------------------------------------------------------------------\u001b[0m",
      "\u001b[1;31mTypeError\u001b[0m                                 Traceback (most recent call last)",
      "\u001b[1;32mc:\\Users\\Allison\\Documents\\GitHub\\Python-Practice\\Chapter_7_exercises.ipynb Cell 7\u001b[0m line \u001b[0;36m2\n\u001b[0;32m     <a href='vscode-notebook-cell:/c%3A/Users/Allison/Documents/GitHub/Python-Practice/Chapter_7_exercises.ipynb#W5sZmlsZQ%3D%3D?line=20'>21</a>\u001b[0m     \u001b[39mreturn\u001b[39;00m total_sum \n\u001b[0;32m     <a href='vscode-notebook-cell:/c%3A/Users/Allison/Documents/GitHub/Python-Practice/Chapter_7_exercises.ipynb#W5sZmlsZQ%3D%3D?line=22'>23</a>\u001b[0m \u001b[39mif\u001b[39;00m \u001b[39m__name__\u001b[39m \u001b[39m==\u001b[39m \u001b[39m'\u001b[39m\u001b[39m__main__\u001b[39m\u001b[39m'\u001b[39m:\n\u001b[1;32m---> <a href='vscode-notebook-cell:/c%3A/Users/Allison/Documents/GitHub/Python-Practice/Chapter_7_exercises.ipynb#W5sZmlsZQ%3D%3D?line=23'>24</a>\u001b[0m     main()\n",
      "\u001b[1;32mc:\\Users\\Allison\\Documents\\GitHub\\Python-Practice\\Chapter_7_exercises.ipynb Cell 7\u001b[0m line \u001b[0;36m3\n\u001b[0;32m      <a href='vscode-notebook-cell:/c%3A/Users/Allison/Documents/GitHub/Python-Practice/Chapter_7_exercises.ipynb#W5sZmlsZQ%3D%3D?line=0'>1</a>\u001b[0m \u001b[39mdef\u001b[39;00m \u001b[39mmain\u001b[39m():\n\u001b[0;32m      <a href='vscode-notebook-cell:/c%3A/Users/Allison/Documents/GitHub/Python-Practice/Chapter_7_exercises.ipynb#W5sZmlsZQ%3D%3D?line=1'>2</a>\u001b[0m     sales \u001b[39m=\u001b[39m enter_sales()\n\u001b[1;32m----> <a href='vscode-notebook-cell:/c%3A/Users/Allison/Documents/GitHub/Python-Practice/Chapter_7_exercises.ipynb#W5sZmlsZQ%3D%3D?line=2'>3</a>\u001b[0m     total_sales \u001b[39m=\u001b[39m sales_total()\n\u001b[0;32m      <a href='vscode-notebook-cell:/c%3A/Users/Allison/Documents/GitHub/Python-Practice/Chapter_7_exercises.ipynb#W5sZmlsZQ%3D%3D?line=4'>5</a>\u001b[0m     \u001b[39mprint\u001b[39m(\u001b[39mf\u001b[39m\u001b[39m'\u001b[39m\u001b[39mThe total sales for the week are $\u001b[39m\u001b[39m{\u001b[39;00mtotal_sales\u001b[39m:\u001b[39;00m\u001b[39m,.2f\u001b[39m\u001b[39m}\u001b[39;00m\u001b[39m.\u001b[39m\u001b[39m'\u001b[39m)\n",
      "\u001b[1;31mTypeError\u001b[0m: sales_total() missing 1 required positional argument: 'list'"
     ]
    }
   ],
   "source": [
    "def main():\n",
    "    sales = enter_sales()\n",
    "    total_sales = sales_total()\n",
    "    \n",
    "    print(f'The total sales for the week are ${total_sales:,.2f}.')\n",
    "def enter_sales():\n",
    "    DAYS = 7\n",
    "    sales = []\n",
    "    for sale in range(DAYS):\n",
    "        daily = float(input(f'Enter sales for day {sale + 1}: '))\n",
    "        sales.append(daily)\n",
    "    return sales\n",
    "\n",
    "def sales_total(list):\n",
    "    total_sum = 0\n",
    "    # for loop iterating over a lit\n",
    "    for item in list:\n",
    "        # for each iteration of the loop the item is added to the total_sum\n",
    "        total_sum += item\n",
    "    # return the sum of all the integers\n",
    "    return total_sum \n",
    "\n",
    "if __name__ == '__main__':\n",
    "    main()\n",
    "\n",
    "    "
   ]
  },
  {
   "cell_type": "code",
   "execution_count": null,
   "metadata": {},
   "outputs": [],
   "source": []
  }
 ],
 "metadata": {
  "kernelspec": {
   "display_name": "Python 3",
   "language": "python",
   "name": "python3"
  },
  "language_info": {
   "codemirror_mode": {
    "name": "ipython",
    "version": 3
   },
   "file_extension": ".py",
   "mimetype": "text/x-python",
   "name": "python",
   "nbconvert_exporter": "python",
   "pygments_lexer": "ipython3",
   "version": "3.11.5"
  },
  "orig_nbformat": 4
 },
 "nbformat": 4,
 "nbformat_minor": 2
}
