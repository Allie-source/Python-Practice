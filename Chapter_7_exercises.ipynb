{
 "cells": [
  {
   "cell_type": "markdown",
   "metadata": {},
   "source": [
    "# Coding Set 7"
   ]
  },
  {
   "cell_type": "markdown",
   "metadata": {},
   "source": [
    "## Algorithm Workbench  #2 \n",
    "Assume names references a list. Write a for loop that displays each element of the list.\n",
    "\n",
    "I wrote a basic for loop to iterate over the elements in the list names and print them. "
   ]
  },
  {
   "cell_type": "code",
   "execution_count": 2,
   "metadata": {},
   "outputs": [
    {
     "name": "stdout",
     "output_type": "stream",
     "text": [
      "Joe\n",
      "Moe\n",
      "Ted\n",
      "Mike\n"
     ]
    }
   ],
   "source": [
    "# call main\n",
    "def main():\n",
    "    # make a list of names \n",
    "    names = ['Joe', 'Moe', 'Ted', 'Mike']\n",
    "\n",
    "    # a for loop that iterates over name in names\n",
    "    for name in names:\n",
    "        # print the name for this iteration of the for loop\n",
    "        print(name)\n",
    "# if clause to assign main\n",
    "if __name__ == '__main__':\n",
    "    # call main \n",
    "    main()"
   ]
  },
  {
   "cell_type": "markdown",
   "metadata": {},
   "source": [
    "## Algorithm Workbench #5\n",
    "Write a function that accepts a list as an argument (assume the list contains integers) \n",
    "and returns the total of the values in the list.\n",
    "\n",
    "For this problem I defined the function total_value which iterates over a list that is passed to it as an argument. Each iteration of the list adds the element to the total sum accumulator. Then in main I called it and printed it.  "
   ]
  },
  {
   "cell_type": "code",
   "execution_count": 3,
   "metadata": {},
   "outputs": [
    {
     "name": "stdout",
     "output_type": "stream",
     "text": [
      "15\n"
     ]
    }
   ],
   "source": [
    "# define main\n",
    "def main():\n",
    "    # create a list of integers\n",
    "    numbers = [1, 2, 3, 4, 5]\n",
    "    # call the function total_value and pass the list numbers too it\n",
    "    # and assign the output of the function to the variable total\n",
    "    total = total_value(numbers)\n",
    "    # print the total of the list \n",
    "    print(total)\n",
    "# define the function that sums the integers in a list\n",
    "def total_value(total):\n",
    "    # accumulator for the overall total\n",
    "    total_sum = 0\n",
    "    # for loop iterating over a lit\n",
    "    for item in total:\n",
    "        # for each iteration of the loop the item is added to the total_sum\n",
    "        total_sum += item\n",
    "    # return the sum of all the integers\n",
    "    return total_sum \n",
    "\n",
    "# if clause to assign main\n",
    "if __name__ == '__main__':\n",
    "    # call main\n",
    "    main()"
   ]
  },
  {
   "cell_type": "markdown",
   "metadata": {},
   "source": [
    "## Programming Exercise #1 Total Sales\n",
    "Design a program that asks the user to enter a store’s sales for each day of the week. The \n",
    "amounts should be stored in a list. Use a loop to calculate the total sales for the week and \n",
    "display the result.\n",
    "\n",
    "For this problem I created two functions one to ask for 7 days of sales and append it to an empty list. The second function I copied from my algorithm workbench #5 to add the sum of a list. The main function gets sales from the enter_sales function and then passes that list as an argument to sales_total function. Then prints the sales_total(sales)"
   ]
  },
  {
   "cell_type": "code",
   "execution_count": 5,
   "metadata": {},
   "outputs": [
    {
     "name": "stdout",
     "output_type": "stream",
     "text": [
      "The total sales for the week are $700.00.\n"
     ]
    }
   ],
   "source": [
    "# define main\n",
    "def main():\n",
    "    # get the sales for 7 days returned as a list from enter_sales\n",
    "    sales = enter_sales()\n",
    "    # uses sales_total function to calculate the total sales and assigns it to total_sales\n",
    "    total_sales = sales_total(sales)\n",
    "    # print total sales\n",
    "    print(f'The total sales for the week are ${total_sales:,.2f}.')\n",
    "# define the function that asks for 7 days of sales and assigns\n",
    "# the numbers to a list    \n",
    "def enter_sales():\n",
    "    # constant for the days in a week\n",
    "    DAYS = 7\n",
    "    # empty list that will hole sales for the week\n",
    "    sales = []\n",
    "    # for sale in day range(7) ask for sales that day and append to list\n",
    "    for sale in range(DAYS):\n",
    "        # ask for sales for sale+1 day of the week\n",
    "        daily = float(input(f'Enter sales for day {sale + 1}: '))\n",
    "        # add the daily sale to the list sales\n",
    "        sales.append(daily)\n",
    "    # returns a list to the part of the program that calls it\n",
    "    return sales\n",
    "# I copied this function from my algorithm workbench #5\n",
    "# adds the elements in a list and returns the total\n",
    "def sales_total(list):\n",
    "    total_sum = 0\n",
    "    # for loop iterating over a lit\n",
    "    for item in list:\n",
    "        # for each iteration of the loop the item is added to the total_sum\n",
    "        total_sum += item\n",
    "    # return the sum of all the integers\n",
    "    return total_sum \n",
    "# call main\n",
    "if __name__ == '__main__':\n",
    "    # call main \n",
    "    main()\n",
    "\n",
    "    "
   ]
  },
  {
   "cell_type": "markdown",
   "metadata": {},
   "source": [
    "## Programming Exercise #14 Expense Pie Chart\n",
    "Create a text file that contains your expenses for last month in the following categories:\n",
    "\n",
    "• Rent\n",
    "\n",
    "• Gas\n",
    "\n",
    "• Food\n",
    "\n",
    "• Clothing\n",
    "\n",
    "• Car payment\n",
    "\n",
    "• Misc\n",
    "\n",
    "Write a Python program that reads the data from the file and uses matplotlib to plot a pie \n",
    "chart showing how you spend your money.\n",
    "\n",
    "I approached this problem by creating a txt file by asking for the monthly expenses. Then I had the program open the txt file and append its lines contents to the a list and the pie function creates a graph from the list."
   ]
  },
  {
   "cell_type": "code",
   "execution_count": 24,
   "metadata": {},
   "outputs": [
    {
     "name": "stderr",
     "output_type": "stream",
     "text": [
      "Matplotlib is building the font cache; this may take a moment.\n"
     ]
    },
    {
     "data": {
      "image/png": "[encoded data removed]",
      "text/plain": [
       "<Figure size 640x480 with 1 Axes>"
      ]
     },
     "metadata": {},
     "output_type": "display_data"
    }
   ],
   "source": [
    "# import matplotlib as plt\n",
    "import matplotlib.pyplot as plt\n",
    "#define main\n",
    "def main():\n",
    "    # categories of expenses in a list\n",
    "    categories = ['Rent', 'Gas', 'Food', 'Clothing', 'Car Payment', 'Misc']\n",
    "    # empty list that will contain monthly expenses\n",
    "    pie_list = []\n",
    "    # open file as expense \n",
    "    with open('Expenses.txt', 'w') as expense:\n",
    "        # for loop that ranges to the length of categories\n",
    "        for category in range(len(categories)):\n",
    "         # ask for the expense for the category and write to the file\n",
    "         # add \\n to the end\n",
    "         expense.write(input(f'enter {categories[category]} expenses for the month: ') + '\\n')\n",
    "\n",
    "    # open expenses.txt in read mode\n",
    "    with open('Expenses.txt', 'r') as expense:\n",
    "       # for loop that iterates for length of categories list times\n",
    "       for category in range(len(categories)):\n",
    "          # line from file is assigned to cost\n",
    "          cost = expense.readline()\n",
    "          # append the cost to the list and strip the \\n\n",
    "          pie_list.append(cost.rstrip('\\n'))\n",
    "    # call matplotlib.pyplot.pie and put the pie_list and categories as arguments\n",
    "    plt.pie(pie_list, labels=categories)\n",
    "    # make sure the chart displays \n",
    "    plt.show()\n",
    "           \n",
    "# call main\n",
    "if __name__ =='__main__':\n",
    "    # call main \n",
    "    main()"
   ]
  },
  {
   "cell_type": "markdown",
   "metadata": {},
   "source": [
    "## Programming Exercise #2 Lottery Number Generator \n",
    "Design a program that generates a seven-digit lottery number. The program should generate seven random numbers, each in the range of 0 through 9, and assign each number to a \n",
    "list element. (Random numbers were discussed in Chapter 5.) Then write another loop that \n",
    "displays the contents of the list.\n",
    "\n",
    "I started by trying to make a seperate function that returns a list with the random integers, it didn't work so I created it all in main. I made a loop iterate 7 times and append a random int to the list lotto_num each time. Then I made a for loop that reads the list and prints its elements"
   ]
  },
  {
   "cell_type": "code",
   "execution_count": 2,
   "metadata": {},
   "outputs": [
    {
     "name": "stdout",
     "output_type": "stream",
     "text": [
      "6, 2, 5, 5, 3, 6, 6, "
     ]
    }
   ],
   "source": [
    "# import random \n",
    "import random\n",
    "# define main\n",
    "def main():\n",
    "    # number of lotto numbers to pick\n",
    "    NUM = 7\n",
    "    # empty list of lotto numbers \n",
    "    lotto_num = []\n",
    "    # for loop that runs for 7 times \n",
    "    for r in range(NUM):\n",
    "        # each iteration assign a random number to lotto_n\n",
    "        lotto_n = random.randint(0,9)\n",
    "        # append the random number to the list lotto_num\n",
    "        lotto_num.append(lotto_n)\n",
    "    # for loop to iterate iver the elements in lotto_num\n",
    "    for item in lotto_num:\n",
    "        # print the element of the list \n",
    "        print(item, end=', ')\n",
    "# call main     \n",
    "if __name__ == '__main__':\n",
    "    # call main \n",
    "    main()"
   ]
  },
  {
   "cell_type": "markdown",
   "metadata": {},
   "source": [
    "## Programming Exercise #13 Magic 8 Ball\n",
    "Write a program that simulates a Magic 8 Ball, which is a fortune-telling toy that displays a \n",
    "random response to a yes or no question. In the student sample programs for this book, you \n",
    "will find a text file named 8_ball_responses.txt. The file contains 12 responses, such \n",
    "as “I don’t think so”, “Yes, of course!”, “I’m not sure”, and so forth. The program should \n",
    "read the responses from the file into a list. It should prompt the user to ask a question, then \n",
    "display one of the responses, randomly selected from the list. The program should repeat \n",
    "until the user is ready to quit.\n",
    "\n",
    "For this problem I made the file with the 8 ball responses and I made a function that reads the 8_ball.txt file into a list and then picks an element from the list with a random index in range 0 - len(list). The len() function only wanted to work when I put parentheses around it. Not sure why. I also had trouble adding the readline to the list. at first I used answers += readline() but the += doesn't work for lists even though the chapter says it does. When the user enters a question the main calls the magic 8 ball function "
   ]
  },
  {
   "cell_type": "code",
   "execution_count": 1,
   "metadata": {},
   "outputs": [
    {
     "name": "stdout",
     "output_type": "stream",
     "text": [
      "This is a magic 8 ball game.\n",
      "I can't tell you right now.\n",
      "Ask me later.\n"
     ]
    }
   ],
   "source": [
    "#import random\n",
    "import random\n",
    "\n",
    "# define main\n",
    "def main():\n",
    "    # print what the game is\n",
    "    print('This is a magic 8 ball game.')\n",
    "\n",
    "    # variable for the loop to start\n",
    "    again = 'y'\n",
    "    # while again is yes then run the game\n",
    "    while again == 'y':\n",
    "        # get the question from the user\n",
    "        input('Enter your question: ')\n",
    "        # fall the 8 ball function which returns a string\n",
    "        answer = magic_8_ball()\n",
    "        # print the answer\n",
    "        print(answer)\n",
    "        # usk user if they want to play again. \n",
    "        again = input('Press y to play again or anything else to quit: ')\n",
    "\n",
    "# defining magic 8 ball function\n",
    "def magic_8_ball():\n",
    "    # create a empty list\n",
    "    answers = []\n",
    "    # open 8_ball.txt in read mode\n",
    "    with open('8_ball.txt', 'r') as ball_response:\n",
    "        # for loop to iterate over the lines of the file\n",
    "        for line in ball_response:\n",
    "            # add the line from the file to the list answers and remove \\n\n",
    "            answers.append(line.rstrip('\\n'))\n",
    "    # pick a random answer from the list answers\n",
    "    answer = answers[random.randint(0, (len(answers)))]\n",
    "    # return answer to the part of the program that called it\n",
    "    return answer \n",
    "\n",
    "\n",
    "\n",
    "# call main\n",
    "if __name__ == '__main__':\n",
    "    # call main \n",
    "    main()\n",
    "\n"
   ]
  },
  {
   "cell_type": "code",
   "execution_count": null,
   "metadata": {},
   "outputs": [],
   "source": []
  }
 ],
 "metadata": {
  "kernelspec": {
   "display_name": "Python 3",
   "language": "python",
   "name": "python3"
  },
  "language_info": {
   "codemirror_mode": {
    "name": "ipython",
    "version": 3
   },
   "file_extension": ".py",
   "mimetype": "text/x-python",
   "name": "python",
   "nbconvert_exporter": "python",
   "pygments_lexer": "ipython3",
   "version": "3.11.5"
  },
  "orig_nbformat": 4
 },
 "nbformat": 4,
 "nbformat_minor": 2
}
