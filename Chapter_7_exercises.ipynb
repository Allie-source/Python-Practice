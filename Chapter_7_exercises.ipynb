{
 "cells": [
  {
   "cell_type": "markdown",
   "metadata": {},
   "source": [
    "# Coding Set 7"
   ]
  },
  {
   "cell_type": "markdown",
   "metadata": {},
   "source": [
    "## Algorithm Workbench  #2 \n",
    "Assume names references a list. Write a for loop that displays each element of the list.\n",
    "\n",
    "I wrote a basic for loop to iterate over the elements in the list names and print them. "
   ]
  },
  {
   "cell_type": "code",
   "execution_count": 2,
   "metadata": {},
   "outputs": [
    {
     "name": "stdout",
     "output_type": "stream",
     "text": [
      "Joe\n",
      "Moe\n",
      "Ted\n",
      "Mike\n"
     ]
    }
   ],
   "source": [
    "# call main\n",
    "def main():\n",
    "    # make a list of names \n",
    "    names = ['Joe', 'Moe', 'Ted', 'Mike']\n",
    "\n",
    "    # a for loop that iterates over name in names\n",
    "    for name in names:\n",
    "        # print the name for this iteration of the for loop\n",
    "        print(name)\n",
    "# if clause to assign main\n",
    "if __name__ == '__main__':\n",
    "    # call main \n",
    "    main()"
   ]
  },
  {
   "cell_type": "markdown",
   "metadata": {},
   "source": [
    "## Algorithm Workbench #5\n",
    "Write a function that accepts a list as an argument (assume the list contains integers) \n",
    "and returns the total of the values in the list."
   ]
  },
  {
   "cell_type": "code",
   "execution_count": null,
   "metadata": {},
   "outputs": [],
   "source": [
    "def main():\n",
    "    numbers = [1, 2, 3, 4, 5]\n",
    "    total = total_value(numbers)\n",
    "    print(total)\n",
    "\n",
    "def total_value(total):\n",
    "    total_sum = 0\n",
    "    for item in total:\n",
    "        total_sum += item\n",
    "    return total_sum \n",
    "\n"
   ]
  }
 ],
 "metadata": {
  "kernelspec": {
   "display_name": "Python 3",
   "language": "python",
   "name": "python3"
  },
  "language_info": {
   "codemirror_mode": {
    "name": "ipython",
    "version": 3
   },
   "file_extension": ".py",
   "mimetype": "text/x-python",
   "name": "python",
   "nbconvert_exporter": "python",
   "pygments_lexer": "ipython3",
   "version": "3.11.5"
  },
  "orig_nbformat": 4
 },
 "nbformat": 4,
 "nbformat_minor": 2
}
