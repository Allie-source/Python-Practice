{
 "cells": [
  {
   "cell_type": "markdown",
   "metadata": {},
   "source": [
    "# Coding Set 7"
   ]
  },
  {
   "cell_type": "markdown",
   "metadata": {},
   "source": [
    "## Algorithm Workbench  #2 \n",
    "Assume names references a list. Write a for loop that displays each element of the list.\n",
    "\n",
    "I wrote a basic for loop to iterate over the elements in the list names and print them. "
   ]
  },
  {
   "cell_type": "code",
   "execution_count": 2,
   "metadata": {},
   "outputs": [
    {
     "name": "stdout",
     "output_type": "stream",
     "text": [
      "Joe\n",
      "Moe\n",
      "Ted\n",
      "Mike\n"
     ]
    }
   ],
   "source": [
    "# call main\n",
    "def main():\n",
    "    # make a list of names \n",
    "    names = ['Joe', 'Moe', 'Ted', 'Mike']\n",
    "\n",
    "    # a for loop that iterates over name in names\n",
    "    for name in names:\n",
    "        # print the name for this iteration of the for loop\n",
    "        print(name)\n",
    "# if clause to assign main\n",
    "if __name__ == '__main__':\n",
    "    # call main \n",
    "    main()"
   ]
  },
  {
   "cell_type": "markdown",
   "metadata": {},
   "source": [
    "## Algorithm Workbench #5\n",
    "Write a function that accepts a list as an argument (assume the list contains integers) \n",
    "and returns the total of the values in the list.\n",
    "\n",
    "For this problem I defined the function total_value which iterates over a list that is passed to it as an argument. Each iteration of the list adds the element to the total sum accumulator. Then in main I called it and printed it.  "
   ]
  },
  {
   "cell_type": "code",
   "execution_count": 3,
   "metadata": {},
   "outputs": [
    {
     "name": "stdout",
     "output_type": "stream",
     "text": [
      "15\n"
     ]
    }
   ],
   "source": [
    "# define main\n",
    "def main():\n",
    "    # create a list of integers\n",
    "    numbers = [1, 2, 3, 4, 5]\n",
    "    # call the function total_value and pass the list numbers too it\n",
    "    # and assign the output of the function to the variable total\n",
    "    total = total_value(numbers)\n",
    "    # print the total of the list \n",
    "    print(total)\n",
    "# define the function that sums the integers in a list\n",
    "def total_value(total):\n",
    "    # accumulator for the overall total\n",
    "    total_sum = 0\n",
    "    # for loop iterating over a lit\n",
    "    for item in total:\n",
    "        # for each iteration of the loop the item is added to the total_sum\n",
    "        total_sum += item\n",
    "    # return the sum of all the integers\n",
    "    return total_sum \n",
    "\n",
    "# if clause to assign main\n",
    "if __name__ == '__main__':\n",
    "    # call main\n",
    "    main()"
   ]
  },
  {
   "cell_type": "markdown",
   "metadata": {},
   "source": [
    "## Programming Exercise #1 Total Sales\n",
    "Design a program that asks the user to enter a store’s sales for each day of the week. The \n",
    "amounts should be stored in a list. Use a loop to calculate the total sales for the week and \n",
    "display the result."
   ]
  },
  {
   "cell_type": "code",
   "execution_count": null,
   "metadata": {},
   "outputs": [],
   "source": [
    "def main():\n",
    "    \n",
    "def enter_sales():\n",
    "    DAYS = 7\n",
    "    sales = []\n",
    "    for sale in range(DAYS):\n",
    "        daily = float(input(f'Enter sales for day {sale + 1}: '))\n",
    "        sales.append(daily)\n",
    "    return sales\n",
    "\n",
    "\n",
    "    "
   ]
  }
 ],
 "metadata": {
  "kernelspec": {
   "display_name": "Python 3",
   "language": "python",
   "name": "python3"
  },
  "language_info": {
   "codemirror_mode": {
    "name": "ipython",
    "version": 3
   },
   "file_extension": ".py",
   "mimetype": "text/x-python",
   "name": "python",
   "nbconvert_exporter": "python",
   "pygments_lexer": "ipython3",
   "version": "3.11.5"
  },
  "orig_nbformat": 4
 },
 "nbformat": 4,
 "nbformat_minor": 2
}
