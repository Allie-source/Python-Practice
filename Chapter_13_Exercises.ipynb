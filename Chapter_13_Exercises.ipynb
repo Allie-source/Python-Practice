{
 "cells": [
  {
   "cell_type": "markdown",
   "metadata": {},
   "source": [
    "# 2. Latin Translator\n",
    "Look at the following list of Latin words and their meanings:\n",
    "\n",
    "Latin | English\n",
    "\n",
    "sinister | left\n",
    "\n",
    "dexter | right\n",
    "\n",
    "medium | center\n",
    "\n",
    "Write a GUI program that translates the Latin words to English. The window should have \n",
    "three buttons, one for each Latin word. When the user clicks a button, the program displays \n",
    "the English translation in a label."
   ]
  },
  {
   "cell_type": "code",
   "execution_count": 9,
   "metadata": {},
   "outputs": [],
   "source": [
    "import tkinter\n",
    "\n",
    "class MyGUI:\n",
    "\tdef __init__(self):\n",
    "\t\tself.main_window = tkinter.Tk()\n",
    "\t\tself.top_frame = tkinter.Frame(self.main_window)\n",
    "\t\tself.middle_frame = tkinter.Frame(self.main_window)\n",
    "\t\tself.bottom_frame = tkinter.Frame(self.main_window)\n",
    "\t\tself.word = tkinter.StringVar() \n",
    "\t\tself.result = tkinter.Label(self.top_frame, textvariable=self.word)\n",
    "\t\tself.result.pack()\n",
    "        \n",
    "\t\tself.button1 = tkinter.Button(self.middle_frame, text='Medium', command=self.middle)\n",
    "        \n",
    "\t\tself.button2 = tkinter.Button(self.middle_frame, text='Sinister', command=self.left)\n",
    "\t\t\n",
    "\t\tself.button3 = tkinter.Button(self.middle_frame, text='Dexter', command=self.right)\n",
    "\t\t\n",
    "\t\tself.button2.pack(side='left')\n",
    "\t\tself.button3.pack(side='left')\n",
    "\t\tself.button1.pack(side='left')\n",
    "\t\t\n",
    "\t\t\n",
    "\t\t\t\t\n",
    "\t\t\n",
    "\t\t\n",
    "\t\t\n",
    "\t\t\n",
    "        \n",
    "\t\t\n",
    "\t\tself.quit_button = tkinter.Button(self.bottom_frame, text='Quit', command=self.main_window.destroy)\n",
    "\t\t\n",
    "\t\tself.quit_button.pack()\n",
    "\t\tself.top_frame.pack()\n",
    "\t\tself.middle_frame.pack()\n",
    "\t\tself.bottom_frame.pack()\n",
    "\t\t\n",
    "\t\ttkinter.mainloop()\n",
    "\tdef left(self):\n",
    "\t\tself.word.set('Left')\n",
    "\tdef right(self):\n",
    "\t\tself.word.set('Right')\n",
    "\tdef middle(self):\n",
    "\t\tself.word.set('Center')\n",
    "\n",
    "\n",
    "\n",
    "if __name__ == '__main__':\n",
    "\tmy_gui = MyGUI()"
   ]
  },
  {
   "cell_type": "code",
   "execution_count": null,
   "metadata": {},
   "outputs": [],
   "source": []
  },
  {
   "cell_type": "code",
   "execution_count": null,
   "metadata": {},
   "outputs": [],
   "source": []
  }
 ],
 "metadata": {
  "kernelspec": {
   "display_name": "Python 3",
   "language": "python",
   "name": "python3"
  },
  "language_info": {
   "codemirror_mode": {
    "name": "ipython",
    "version": 3
   },
   "file_extension": ".py",
   "mimetype": "text/x-python",
   "name": "python",
   "nbconvert_exporter": "python",
   "pygments_lexer": "ipython3",
   "version": "3.11.5"
  }
 },
 "nbformat": 4,
 "nbformat_minor": 2
}
