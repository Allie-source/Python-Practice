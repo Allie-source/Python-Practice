{
 "cells": [
  {
   "cell_type": "markdown",
   "metadata": {},
   "source": [
    "# Coding Set 8"
   ]
  },
  {
   "cell_type": "markdown",
   "metadata": {},
   "source": [
    "## Algorithm Workbench #7\n",
    "Write a function that accepts a string as an argument and displays the string backwards."
   ]
  },
  {
   "cell_type": "code",
   "execution_count": 12,
   "metadata": {},
   "outputs": [
    {
     "name": "stdout",
     "output_type": "stream",
     "text": [
      "racecar\n"
     ]
    }
   ],
   "source": [
    "def main():\n",
    "    string1 = input('Enter a string to display backwards: ')\n",
    "    string2 = backwards(string1)\n",
    "    print(string2)\n",
    "\n",
    "def backwards(string):\n",
    "    string2 = ''\n",
    "    for index in range(-1, ((-(len(string))) - 1), -1):\n",
    "\n",
    "        string2 += string[index]\n",
    "    return string2\n",
    "      \n",
    "\n",
    "if __name__ == '__main__':\n",
    "        main() \n"
   ]
  },
  {
   "cell_type": "code",
   "execution_count": null,
   "metadata": {},
   "outputs": [],
   "source": []
  }
 ],
 "metadata": {
  "kernelspec": {
   "display_name": "Python 3",
   "language": "python",
   "name": "python3"
  },
  "language_info": {
   "codemirror_mode": {
    "name": "ipython",
    "version": 3
   },
   "file_extension": ".py",
   "mimetype": "text/x-python",
   "name": "python",
   "nbconvert_exporter": "python",
   "pygments_lexer": "ipython3",
   "version": "3.11.5"
  }
 },
 "nbformat": 4,
 "nbformat_minor": 2
}
