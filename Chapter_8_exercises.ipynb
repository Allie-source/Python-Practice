{
 "cells": [
  {
   "cell_type": "markdown",
   "metadata": {},
   "source": [
    "# Coding Set 8"
   ]
  },
  {
   "cell_type": "markdown",
   "metadata": {},
   "source": [
    "## Algorithm Workbench #7\n",
    "Write a function that accepts a string as an argument and displays the string backwards.\n",
    "\n",
    "For this problem I approached it by having a for loop iterate for the length of the string in negative indexes. Then the character at the given index is concatenated to a string that started as empty. Then I printed the backwards string"
   ]
  },
  {
   "cell_type": "code",
   "execution_count": 15,
   "metadata": {},
   "outputs": [
    {
     "name": "stdout",
     "output_type": "stream",
     "text": [
      "nascar spelled backwards is racsan\n"
     ]
    }
   ],
   "source": [
    "# call main function\n",
    "def main():\n",
    "    # get string from user and assign to string1\n",
    "    string1 = input('Enter a string to display backwards: ')\n",
    "    # create string2 by calling the backwards function for string 1\n",
    "    string2 = backwards(string1)\n",
    "    # print the input string and the backwards string \n",
    "    print(f'{string1} spelled backwards is {string2}')\n",
    "# define the function to copy a string backwards\n",
    "def backwards(string):\n",
    "    # create a empty string that will have characters added to it\n",
    "    string2 = ''\n",
    "    # use the length of the string in negative indexes for a loop\n",
    "    for index in range(-1, ((-(len(string))) - 1), -1):\n",
    "        # concatenate string at index to string2\n",
    "        string2 += string[index]\n",
    "    # return the backwards string\n",
    "    return string2\n",
    "# call main      \n",
    "if __name__ == '__main__':\n",
    "        # run main\n",
    "        main() \n"
   ]
  },
  {
   "cell_type": "markdown",
   "metadata": {},
   "source": [
    "# Algoithm Workbench #10 \n",
    " Look at the following statement:\n",
    "\n",
    "mystring = 'cookies>milk>fudge>cake>ice cream'\n",
    "\n",
    "Write a statement that splits this string, creating the following list:\n",
    "\n",
    "['cookies', 'milk', 'fudge', 'cake', 'ice cream']\n",
    "\n",
    "For this problem I tokenized the string with the split method and passed the '>' character as the delimiter. Then printed the list."
   ]
  },
  {
   "cell_type": "code",
   "execution_count": 16,
   "metadata": {},
   "outputs": [
    {
     "name": "stdout",
     "output_type": "stream",
     "text": [
      "['cookies', 'milk', 'fudge', 'cake', 'icecream']\n"
     ]
    }
   ],
   "source": [
    "# define main\n",
    "def main():\n",
    "    # input the string from the problem\n",
    "    mystring = 'cookies>milk>fudge>cake>icecream'\n",
    "    # split the string into a list with > as a delimiter\n",
    "    mystring_list = mystring.split('>')\n",
    "    # print the list\n",
    "    print(mystring_list)\n",
    "\n",
    "# call main\n",
    "if __name__ == '__main__':\n",
    "    # call main \n",
    "    main()"
   ]
  },
  {
   "cell_type": "markdown",
   "metadata": {},
   "source": [
    "# Programming Exercise #1 Initials\n",
    "\n",
    "Write a program that gets a string containing a person’s first, middle, and last names, and \n",
    "displays their first, middle, and last initials. For example, if the user enters John William \n",
    "Smith, the program should display J. W. S.\n",
    "\n",
    "For this problem I split the string a user inputs into a list and then take the elements in the list at index 0 and prints it with a '.' character after. "
   ]
  },
  {
   "cell_type": "code",
   "execution_count": 21,
   "metadata": {},
   "outputs": [
    {
     "name": "stdout",
     "output_type": "stream",
     "text": [
      "Your name is John William Smith.\n",
      "Your initials are J.W.S.\n"
     ]
    }
   ],
   "source": [
    "# define main\n",
    "def main():\n",
    "    # get the users name\n",
    "    name = input('Enter your full name: ')\n",
    "    # call the initial function for convert the name to initials\n",
    "    initials = initial(name)\n",
    "    # print your full name\n",
    "    print(f'Your name is {name}.')\n",
    "    # print initials\n",
    "    print(f'Your initials are {initials}')\n",
    "\n",
    "# define initials converter function\n",
    "def initial(string):\n",
    "    # split the given string into a list\n",
    "    name_list = string.split()\n",
    "    # create an empty list to concatenate to\n",
    "    initials = ''\n",
    "    # for loop that runs for elements in a list\n",
    "    for item in name_list:\n",
    "        # initial is the first letter of the element at index 0\n",
    "        initial = item[0]\n",
    "        # concatenate initial to the string initials\n",
    "        initials += f'{initial}.'\n",
    "    # return initials \n",
    "    return initials \n",
    "\n",
    "# call main\n",
    "if __name__ == '__main__':\n",
    "    # call main \n",
    "    main()"
   ]
  },
  {
   "cell_type": "markdown",
   "metadata": {},
   "source": [
    "# Programming Exercise #2 Sum of Digits in a String\n",
    "\n",
    "Write a program that asks the user to enter a series of single-digit numbers with nothing \n",
    "separating them. The program should display the sum of all the single digit numbers in the \n",
    "string. For example, if the user enters 2514, the method should return 12, which is the sum \n",
    "of 2, 5, 1, and 4.\n",
    "\n",
    "For this problem I created a function that adds the character in the string if it is a digit to a accumulator variable. I called the function in main and print the output of the function."
   ]
  },
  {
   "cell_type": "code",
   "execution_count": 22,
   "metadata": {},
   "outputs": [
    {
     "name": "stdout",
     "output_type": "stream",
     "text": [
      "This program sums the single digits in a string.\n",
      "You entered 2514.\n",
      "The sum of the digits in the string are 12\n"
     ]
    }
   ],
   "source": [
    "# define main \n",
    "def main():\n",
    "    # Print the program intentions \n",
    "    print('This program sums the single digits in a string.')\n",
    "    # assign user input string to digits\n",
    "    digits = input('Enter a string with digits: ')\n",
    "    \n",
    "    summation = digit_sum(digits)\n",
    "    print(f'You entered {digits}.')\n",
    "    print(f'The sum of the digits in the string are {summation}')\n",
    "\n",
    "    \n",
    "def digit_sum(string):\n",
    "    sum = 0\n",
    "    for ch in string:\n",
    "        if ch.isdigit():\n",
    "            sum += int(ch)\n",
    "    return sum \n",
    "\n",
    "\n",
    "# call main\n",
    "if __name__ == '__main__':\n",
    "    # call main \n",
    "    main()"
   ]
  },
  {
   "cell_type": "markdown",
   "metadata": {},
   "source": [
    "# Programming Exercise #5 Alphabetic Telephone Number Translator\n",
    "\n",
    "Many companies use telephone numbers like 555-GET-FOOD so the number is easier for \n",
    "their customers to remember. On a standard telephone, the alphabetic letters are mapped to \n",
    "numbers in the following fashion:\n",
    "\n",
    "A, B, and C = 2\n",
    "\n",
    "D, E, and F = 3\n",
    "\n",
    "G, H, and I = 4\n",
    "\n",
    "J, K, and L = 5\n",
    "\n",
    "M, N, and O = 6\n",
    "\n",
    "P, Q, R, and S = 7\n",
    "\n",
    "T, U, and V = 8\n",
    "\n",
    "W, X, Y, and Z = 9\n",
    "\n",
    "Write a program that asks the user to enter a 10-character telephone number in the format XXX-XXX-XXXX. The application should display the telephone number with any \n",
    "alphabetic characters that appeared in the original translated to their numeric equivalent. For example"
   ]
  },
  {
   "cell_type": "code",
   "execution_count": 45,
   "metadata": {},
   "outputs": [
    {
     "name": "stdout",
     "output_type": "stream",
     "text": [
      "The number 800-pet-meds is 8007386337\n"
     ]
    }
   ],
   "source": [
    "def main():\n",
    "    num = input('Enter a phone number in the format xxx-xxx-xxxx: ')\n",
    "    phone_num = make_digit(num)\n",
    "    print(f'The number {num} is {phone_num}')\n",
    "\n",
    "def make_digit(string):\n",
    "    num_lower = string.lower()\n",
    "    phone = ''\n",
    "    num2 = 'abc def ghi jkl mno pqrs tuv wxyz'\n",
    "    num_list = num2.split()\n",
    "\n",
    "    \n",
    "    for ch in num_lower:\n",
    "        if ch.isalpha():\n",
    "            for item in num_list:\n",
    "                if ch in item:\n",
    "                    index = num_list.index(item)\n",
    "                    phone += (str(index + 2))\n",
    "        elif ch.isdigit():\n",
    "            phone += ch           \n",
    "    return phone\n",
    "\n",
    "# call main\n",
    "if __name__ == '__main__':\n",
    "    # call main \n",
    "    main()"
   ]
  },
  {
   "cell_type": "code",
   "execution_count": null,
   "metadata": {},
   "outputs": [],
   "source": []
  }
 ],
 "metadata": {
  "kernelspec": {
   "display_name": "Python 3",
   "language": "python",
   "name": "python3"
  },
  "language_info": {
   "codemirror_mode": {
    "name": "ipython",
    "version": 3
   },
   "file_extension": ".py",
   "mimetype": "text/x-python",
   "name": "python",
   "nbconvert_exporter": "python",
   "pygments_lexer": "ipython3",
   "version": "3.11.5"
  }
 },
 "nbformat": 4,
 "nbformat_minor": 2
}
