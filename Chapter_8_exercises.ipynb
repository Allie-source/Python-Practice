{
 "cells": [
  {
   "cell_type": "markdown",
   "metadata": {},
   "source": [
    "# Coding Set 8"
   ]
  },
  {
   "cell_type": "markdown",
   "metadata": {},
   "source": [
    "## Algorithm Workbench #7\n",
    "Write a function that accepts a string as an argument and displays the string backwards.\n",
    "\n",
    "For this problem I approached it by having a for loop iterate for the length of the string in negative indexes. Then the character at the given index is concatenated to a string that started as empty. Then I printed the backwards string"
   ]
  },
  {
   "cell_type": "code",
   "execution_count": 15,
   "metadata": {},
   "outputs": [
    {
     "name": "stdout",
     "output_type": "stream",
     "text": [
      "nascar spelled backwards is racsan\n"
     ]
    }
   ],
   "source": [
    "# call main function\n",
    "def main():\n",
    "    # get string from user and assign to string1\n",
    "    string1 = input('Enter a string to display backwards: ')\n",
    "    # create string2 by calling the backwards function for string 1\n",
    "    string2 = backwards(string1)\n",
    "    # print the input string and the backwards string \n",
    "    print(f'{string1} spelled backwards is {string2}')\n",
    "# define the function to copy a string backwards\n",
    "def backwards(string):\n",
    "    # create a empty string that will have characters added to it\n",
    "    string2 = ''\n",
    "    # use the length of the string in negative indexes for a loop\n",
    "    for index in range(-1, ((-(len(string))) - 1), -1):\n",
    "        # concatenate string at index to string2\n",
    "        string2 += string[index]\n",
    "    # return the backwards string\n",
    "    return string2\n",
    "# call main      \n",
    "if __name__ == '__main__':\n",
    "        # run main\n",
    "        main() \n"
   ]
  },
  {
   "cell_type": "markdown",
   "metadata": {},
   "source": [
    "# Algoithm Workbench #10 \n",
    " Look at the following statement:\n",
    "\n",
    "mystring = 'cookies>milk>fudge>cake>ice cream'\n",
    "\n",
    "Write a statement that splits this string, creating the following list:\n",
    "\n",
    "['cookies', 'milk', 'fudge', 'cake', 'ice cream']\n",
    "\n",
    "For this problem I tokenized the string with the split method and passed the '>' character as the delimiter. Then printed the list."
   ]
  },
  {
   "cell_type": "code",
   "execution_count": 16,
   "metadata": {},
   "outputs": [
    {
     "name": "stdout",
     "output_type": "stream",
     "text": [
      "['cookies', 'milk', 'fudge', 'cake', 'icecream']\n"
     ]
    }
   ],
   "source": [
    "# define main\n",
    "def main():\n",
    "    # input the string from the problem\n",
    "    mystring = 'cookies>milk>fudge>cake>icecream'\n",
    "    # split the string into a list with > as a delimiter\n",
    "    mystring_list = mystring.split('>')\n",
    "    # print the list\n",
    "    print(mystring_list)\n",
    "\n",
    "# call main\n",
    "if __name__ == '__main__':\n",
    "    # call main \n",
    "    main()"
   ]
  },
  {
   "cell_type": "markdown",
   "metadata": {},
   "source": [
    "# Programming Exercise #1 Initials\n",
    "\n",
    "Write a program that gets a string containing a person’s first, middle, and last names, and \n",
    "displays their first, middle, and last initials. For example, if the user enters John William \n",
    "Smith, the program should display J. W. S."
   ]
  },
  {
   "cell_type": "code",
   "execution_count": 17,
   "metadata": {},
   "outputs": [
    {
     "ename": "SyntaxError",
     "evalue": "'(' was never closed (942730099.py, line 5)",
     "output_type": "error",
     "traceback": [
      "\u001b[1;36m  Cell \u001b[1;32mIn[17], line 5\u001b[1;36m\u001b[0m\n\u001b[1;33m    print(f'Your initials are {initials}'\u001b[0m\n\u001b[1;37m         ^\u001b[0m\n\u001b[1;31mSyntaxError\u001b[0m\u001b[1;31m:\u001b[0m '(' was never closed\n"
     ]
    }
   ],
   "source": [
    "def main():\n",
    "    name = input('Enter your full name: ')\n",
    "    initials = initial(name)\n",
    "    print(f'Your name is {name}.')\n",
    "    print(f'Your initials are {initials}')\n",
    "\n",
    "def initial():\n",
    "    name_list = string.split()\n",
    "    initials = ''\n",
    "    for item in name_list:\n",
    "        initial = item[0]\n",
    "        initials += f'[item].'\n",
    "    return initials \n",
    "\n",
    "        \n",
    "\n",
    "\n",
    "\n",
    "# call main\n",
    "if __name__ == '__main__':\n",
    "    # call main \n",
    "    main()"
   ]
  },
  {
   "cell_type": "code",
   "execution_count": null,
   "metadata": {},
   "outputs": [],
   "source": []
  }
 ],
 "metadata": {
  "kernelspec": {
   "display_name": "Python 3",
   "language": "python",
   "name": "python3"
  },
  "language_info": {
   "codemirror_mode": {
    "name": "ipython",
    "version": 3
   },
   "file_extension": ".py",
   "mimetype": "text/x-python",
   "name": "python",
   "nbconvert_exporter": "python",
   "pygments_lexer": "ipython3",
   "version": "3.11.5"
  }
 },
 "nbformat": 4,
 "nbformat_minor": 2
}
