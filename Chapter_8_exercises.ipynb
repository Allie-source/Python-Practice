{
 "cells": [
  {
   "cell_type": "markdown",
   "metadata": {},
   "source": [
    "# Coding Set 8"
   ]
  },
  {
   "cell_type": "markdown",
   "metadata": {},
   "source": [
    "## Algorithm Workbench #7\n",
    "Write a function that accepts a string as an argument and displays the string backwards."
   ]
  },
  {
   "cell_type": "code",
   "execution_count": 5,
   "metadata": {},
   "outputs": [
    {
     "ename": "TypeError",
     "evalue": "can only concatenate str (not \"int\") to str",
     "output_type": "error",
     "traceback": [
      "\u001b[1;31m---------------------------------------------------------------------------\u001b[0m",
      "\u001b[1;31mTypeError\u001b[0m                                 Traceback (most recent call last)",
      "\u001b[1;32mc:\\Users\\Allison\\Documents\\GitHub\\Python-Practice\\Chapter_8_exercises.ipynb Cell 3\u001b[0m line \u001b[0;36m1\n\u001b[0;32m     <a href='vscode-notebook-cell:/c%3A/Users/Allison/Documents/GitHub/Python-Practice/Chapter_8_exercises.ipynb#W0sZmlsZQ%3D%3D?line=9'>10</a>\u001b[0m     \u001b[39mreturn\u001b[39;00m string2\n\u001b[0;32m     <a href='vscode-notebook-cell:/c%3A/Users/Allison/Documents/GitHub/Python-Practice/Chapter_8_exercises.ipynb#W0sZmlsZQ%3D%3D?line=12'>13</a>\u001b[0m \u001b[39mif\u001b[39;00m \u001b[39m__name__\u001b[39m \u001b[39m==\u001b[39m \u001b[39m'\u001b[39m\u001b[39m__main__\u001b[39m\u001b[39m'\u001b[39m:\n\u001b[1;32m---> <a href='vscode-notebook-cell:/c%3A/Users/Allison/Documents/GitHub/Python-Practice/Chapter_8_exercises.ipynb#W0sZmlsZQ%3D%3D?line=13'>14</a>\u001b[0m         main() \n",
      "\u001b[1;32mc:\\Users\\Allison\\Documents\\GitHub\\Python-Practice\\Chapter_8_exercises.ipynb Cell 3\u001b[0m line \u001b[0;36m3\n\u001b[0;32m      <a href='vscode-notebook-cell:/c%3A/Users/Allison/Documents/GitHub/Python-Practice/Chapter_8_exercises.ipynb#W0sZmlsZQ%3D%3D?line=0'>1</a>\u001b[0m \u001b[39mdef\u001b[39;00m \u001b[39mmain\u001b[39m():\n\u001b[0;32m      <a href='vscode-notebook-cell:/c%3A/Users/Allison/Documents/GitHub/Python-Practice/Chapter_8_exercises.ipynb#W0sZmlsZQ%3D%3D?line=1'>2</a>\u001b[0m     string1 \u001b[39m=\u001b[39m \u001b[39minput\u001b[39m(\u001b[39m'\u001b[39m\u001b[39mEnter a string to display backwards: \u001b[39m\u001b[39m'\u001b[39m)\n\u001b[1;32m----> <a href='vscode-notebook-cell:/c%3A/Users/Allison/Documents/GitHub/Python-Practice/Chapter_8_exercises.ipynb#W0sZmlsZQ%3D%3D?line=2'>3</a>\u001b[0m     string2 \u001b[39m=\u001b[39m backwards(string1)\n\u001b[0;32m      <a href='vscode-notebook-cell:/c%3A/Users/Allison/Documents/GitHub/Python-Practice/Chapter_8_exercises.ipynb#W0sZmlsZQ%3D%3D?line=3'>4</a>\u001b[0m     \u001b[39mprint\u001b[39m(string2)\n",
      "\u001b[1;32mc:\\Users\\Allison\\Documents\\GitHub\\Python-Practice\\Chapter_8_exercises.ipynb Cell 3\u001b[0m line \u001b[0;36m9\n\u001b[0;32m      <a href='vscode-notebook-cell:/c%3A/Users/Allison/Documents/GitHub/Python-Practice/Chapter_8_exercises.ipynb#W0sZmlsZQ%3D%3D?line=6'>7</a>\u001b[0m string2 \u001b[39m=\u001b[39m \u001b[39m'\u001b[39m\u001b[39m'\u001b[39m\n\u001b[0;32m      <a href='vscode-notebook-cell:/c%3A/Users/Allison/Documents/GitHub/Python-Practice/Chapter_8_exercises.ipynb#W0sZmlsZQ%3D%3D?line=7'>8</a>\u001b[0m \u001b[39mfor\u001b[39;00m string \u001b[39min\u001b[39;00m \u001b[39mrange\u001b[39m(\u001b[39m-\u001b[39m\u001b[39m1\u001b[39m,\u001b[39m0\u001b[39m):\n\u001b[1;32m----> <a href='vscode-notebook-cell:/c%3A/Users/Allison/Documents/GitHub/Python-Practice/Chapter_8_exercises.ipynb#W0sZmlsZQ%3D%3D?line=8'>9</a>\u001b[0m         string2 \u001b[39m+\u001b[39;49m\u001b[39m=\u001b[39;49m string\n\u001b[0;32m     <a href='vscode-notebook-cell:/c%3A/Users/Allison/Documents/GitHub/Python-Practice/Chapter_8_exercises.ipynb#W0sZmlsZQ%3D%3D?line=9'>10</a>\u001b[0m \u001b[39mreturn\u001b[39;00m string2\n",
      "\u001b[1;31mTypeError\u001b[0m: can only concatenate str (not \"int\") to str"
     ]
    }
   ],
   "source": [
    "def main():\n",
    "    string1 = input('Enter a string to display backwards: ')\n",
    "    string2 = backwards(string1)\n",
    "    print(string2)\n",
    "\n",
    "def backwards(string):\n",
    "    string2 = ''\n",
    "    for string in range(-1,0):\n",
    "            string2 += string\n",
    "    return string2\n",
    "      \n",
    "\n",
    "if __name__ == '__main__':\n",
    "        main() \n"
   ]
  },
  {
   "cell_type": "code",
   "execution_count": null,
   "metadata": {},
   "outputs": [],
   "source": []
  }
 ],
 "metadata": {
  "kernelspec": {
   "display_name": "Python 3",
   "language": "python",
   "name": "python3"
  },
  "language_info": {
   "codemirror_mode": {
    "name": "ipython",
    "version": 3
   },
   "file_extension": ".py",
   "mimetype": "text/x-python",
   "name": "python",
   "nbconvert_exporter": "python",
   "pygments_lexer": "ipython3",
   "version": "3.11.5"
  }
 },
 "nbformat": 4,
 "nbformat_minor": 2
}
