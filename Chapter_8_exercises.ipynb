{
 "cells": [
  {
   "cell_type": "markdown",
   "metadata": {},
   "source": [
    "# Coding Set 8"
   ]
  },
  {
   "cell_type": "markdown",
   "metadata": {},
   "source": [
    "## Algorithm Workbench #7\n",
    "Write a function that accepts a string as an argument and displays the string backwards.\n",
    "\n",
    "For this problem I approached it by having a for loop iterate for the length of the string in negative indexes. Then the character at the given index is concatenated to a string that started as empty. Then I printed the backwards string"
   ]
  },
  {
   "cell_type": "code",
   "execution_count": 15,
   "metadata": {},
   "outputs": [
    {
     "name": "stdout",
     "output_type": "stream",
     "text": [
      "nascar spelled backwards is racsan\n"
     ]
    }
   ],
   "source": [
    "# call main function\n",
    "def main():\n",
    "    # get string from user and assign to string1\n",
    "    string1 = input('Enter a string to display backwards: ')\n",
    "    # create string2 by calling the backwards function for string 1\n",
    "    string2 = backwards(string1)\n",
    "    # print the input string and the backwards string \n",
    "    print(f'{string1} spelled backwards is {string2}')\n",
    "# define the function to copy a string backwards\n",
    "def backwards(string):\n",
    "    # create a empty string that will have characters added to it\n",
    "    string2 = ''\n",
    "    # use the length of the string in negative indexes for a loop\n",
    "    for index in range(-1, ((-(len(string))) - 1), -1):\n",
    "        # concatenate string at index to string2\n",
    "        string2 += string[index]\n",
    "    # return the backwards string\n",
    "    return string2\n",
    "# call main      \n",
    "if __name__ == '__main__':\n",
    "        # run main\n",
    "        main() \n"
   ]
  },
  {
   "cell_type": "markdown",
   "metadata": {},
   "source": [
    "# Algoithm Workbench #10 \n",
    " Look at the following statement:\n",
    "\n",
    "mystring = 'cookies>milk>fudge>cake>ice cream'\n",
    "\n",
    "Write a statement that splits this string, creating the following list:\n",
    "\n",
    "['cookies', 'milk', 'fudge', 'cake', 'ice cream']"
   ]
  },
  {
   "cell_type": "code",
   "execution_count": null,
   "metadata": {},
   "outputs": [],
   "source": [
    "def main():\n",
    "    mystring = 'cookies>milk>fudge>cake>icecream'\n",
    "    \n",
    "\n",
    "if __name__ == '__main__':\n",
    "    main()"
   ]
  }
 ],
 "metadata": {
  "kernelspec": {
   "display_name": "Python 3",
   "language": "python",
   "name": "python3"
  },
  "language_info": {
   "codemirror_mode": {
    "name": "ipython",
    "version": 3
   },
   "file_extension": ".py",
   "mimetype": "text/x-python",
   "name": "python",
   "nbconvert_exporter": "python",
   "pygments_lexer": "ipython3",
   "version": "3.11.5"
  }
 },
 "nbformat": 4,
 "nbformat_minor": 2
}
