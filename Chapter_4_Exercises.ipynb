{
 "cells": [
  {
   "cell_type": "markdown",
   "metadata": {},
   "source": [
    "# Algorithm Workbench \n"
   ]
  },
  {
   "cell_type": "markdown",
   "metadata": {},
   "source": [
    "3. Write a for loop that displays the following set of numbers:\n",
    "0, 10, 20, 30, 40, 50 . . . 1000"
   ]
  },
  {
   "cell_type": "code",
   "execution_count": 2,
   "metadata": {},
   "outputs": [
    {
     "name": "stdout",
     "output_type": "stream",
     "text": [
      "0, 10, 20, 30, 40, 50, 60, 70, 80, 90, 100, 110, 120, 130, 140, 150, 160, 170, 180, 190, 200, 210, 220, 230, 240, 250, 260, 270, 280, 290, 300, 310, 320, 330, 340, 350, 360, 370, 380, 390, 400, 410, 420, 430, 440, 450, 460, 470, 480, 490, 500, 510, 520, 530, 540, 550, 560, 570, 580, 590, 600, 610, 620, 630, 640, 650, 660, 670, 680, 690, 700, 710, 720, 730, 740, 750, 760, 770, 780, 790, 800, 810, 820, 830, 840, 850, 860, 870, 880, 890, 900, 910, 920, 930, 940, 950, 960, 970, 980, 990, 1000, "
     ]
    }
   ],
   "source": [
    "# number in range 0- 100 by increments of 10\n",
    "for num in range(0, 1001, 10):\n",
    "    # the print end is \", \" because the question formats it that way\n",
    "    print(num, end=', ')"
   ]
  },
  {
   "cell_type": "code",
   "execution_count": 3,
   "metadata": {},
   "outputs": [
    {
     "name": "stdout",
     "output_type": "stream",
     "text": [
      "0\n",
      "10\n",
      "20\n",
      "30\n",
      "40\n",
      "50\n",
      "60\n",
      "70\n",
      "80\n",
      "90\n",
      "100\n",
      "110\n",
      "120\n",
      "130\n",
      "140\n",
      "150\n",
      "160\n",
      "170\n",
      "180\n",
      "190\n",
      "200\n",
      "210\n",
      "220\n",
      "230\n",
      "240\n",
      "250\n",
      "260\n",
      "270\n",
      "280\n",
      "290\n",
      "300\n",
      "310\n",
      "320\n",
      "330\n",
      "340\n",
      "350\n",
      "360\n",
      "370\n",
      "380\n",
      "390\n",
      "400\n",
      "410\n",
      "420\n",
      "430\n",
      "440\n",
      "450\n",
      "460\n",
      "470\n",
      "480\n",
      "490\n",
      "500\n",
      "510\n",
      "520\n",
      "530\n",
      "540\n",
      "550\n",
      "560\n",
      "570\n",
      "580\n",
      "590\n",
      "600\n",
      "610\n",
      "620\n",
      "630\n",
      "640\n",
      "650\n",
      "660\n",
      "670\n",
      "680\n",
      "690\n",
      "700\n",
      "710\n",
      "720\n",
      "730\n",
      "740\n",
      "750\n",
      "760\n",
      "770\n",
      "780\n",
      "790\n",
      "800\n",
      "810\n",
      "820\n",
      "830\n",
      "840\n",
      "850\n",
      "860\n",
      "870\n",
      "880\n",
      "890\n",
      "900\n",
      "910\n",
      "920\n",
      "930\n",
      "940\n",
      "950\n",
      "960\n",
      "970\n",
      "980\n",
      "990\n",
      "1000\n"
     ]
    }
   ],
   "source": [
    "# number in range 0- 100 by increments of 10\n",
    "for num in range(0, 1001, 10):\n",
    "    # the print end is \", \" because the question formats it that way\n",
    "    # take away end=', ' to make it a vertical list\n",
    "    print(num)"
   ]
  },
  {
   "cell_type": "markdown",
   "metadata": {},
   "source": [
    "5. Write a loop that calculates the total of the following series of numbers\n",
    "1/30 + 2/29 + 3/28 +... 30/1 "
   ]
  },
  {
   "cell_type": "code",
   "execution_count": 4,
   "metadata": {},
   "outputs": [
    {
     "name": "stdout",
     "output_type": "stream",
     "text": [
      "0.10229885057471264\n",
      "0.20944170771756976\n",
      "0.3575898558657179\n",
      "0.5498975481734102\n",
      "0.7898975481734102\n",
      "1.0815642148400768\n",
      "1.4293903017965985\n",
      "1.8384812108875077\n",
      "2.314671687077984\n",
      "2.8646716870779843\n",
      "3.4962506344464055\n",
      "4.218472856668628\n",
      "5.042002268433333\n",
      "5.979502268433333\n",
      "7.0461689351\n",
      "8.260454649385714\n",
      "9.6450700340011\n",
      "11.228403367334433\n",
      "13.046585185516252\n",
      "15.146585185516251\n",
      "17.591029629960694\n",
      "20.466029629960694\n",
      "23.89460105853212\n",
      "28.06126772519879\n",
      "33.26126772519879\n",
      "40.01126772519879\n",
      "49.34460105853213\n",
      "63.84460105853213\n",
      "93.84460105853213\n"
     ]
    },
    {
     "ename": "ZeroDivisionError",
     "evalue": "division by zero",
     "output_type": "error",
     "traceback": [
      "\u001b[1;31m---------------------------------------------------------------------------\u001b[0m",
      "\u001b[1;31mZeroDivisionError\u001b[0m                         Traceback (most recent call last)",
      "\u001b[1;32mc:\\Users\\Allison\\Documents\\GitHub\\Python-Practice\\Chapter_4_Exercises.ipynb Cell 6\u001b[0m line \u001b[0;36m9\n\u001b[0;32m      <a href='vscode-notebook-cell:/c%3A/Users/Allison/Documents/GitHub/Python-Practice/Chapter_4_Exercises.ipynb#X11sZmlsZQ%3D%3D?line=5'>6</a>\u001b[0m total \u001b[39m=\u001b[39m (numerator \u001b[39m/\u001b[39m denominator)\n\u001b[0;32m      <a href='vscode-notebook-cell:/c%3A/Users/Allison/Documents/GitHub/Python-Practice/Chapter_4_Exercises.ipynb#X11sZmlsZQ%3D%3D?line=7'>8</a>\u001b[0m \u001b[39mwhile\u001b[39;00m numerator \u001b[39m!=\u001b[39m \u001b[39m31\u001b[39m:\n\u001b[1;32m----> <a href='vscode-notebook-cell:/c%3A/Users/Allison/Documents/GitHub/Python-Practice/Chapter_4_Exercises.ipynb#X11sZmlsZQ%3D%3D?line=8'>9</a>\u001b[0m     total \u001b[39m+\u001b[39m\u001b[39m=\u001b[39m ((numerator \u001b[39m+\u001b[39;49m \u001b[39m1\u001b[39;49m)\u001b[39m/\u001b[39;49m(denominator \u001b[39m-\u001b[39;49m \u001b[39m1\u001b[39;49m)) \n\u001b[0;32m     <a href='vscode-notebook-cell:/c%3A/Users/Allison/Documents/GitHub/Python-Practice/Chapter_4_Exercises.ipynb#X11sZmlsZQ%3D%3D?line=9'>10</a>\u001b[0m     numerator \u001b[39m+\u001b[39m\u001b[39m=\u001b[39m \u001b[39m1\u001b[39m\n\u001b[0;32m     <a href='vscode-notebook-cell:/c%3A/Users/Allison/Documents/GitHub/Python-Practice/Chapter_4_Exercises.ipynb#X11sZmlsZQ%3D%3D?line=10'>11</a>\u001b[0m     denominator \u001b[39m-\u001b[39m\u001b[39m=\u001b[39m \u001b[39m1\u001b[39m\n",
      "\u001b[1;31mZeroDivisionError\u001b[0m: division by zero"
     ]
    }
   ],
   "source": [
    "#assign the first numerator to be added \n",
    "numerator = 1\n",
    "#assign the first denominator to be added\n",
    "denominator = 30\n",
    "# keep running total of the sums \n",
    "total = (numerator / denominator)\n",
    "\n",
    "while numerator != 31:\n",
    "    total += ((numerator + 1)/(denominator - 1)) \n",
    "    numerator += 1\n",
    "    denominator -= 1\n",
    "    print(total) \n"
   ]
  },
  {
   "cell_type": "code",
   "execution_count": null,
   "metadata": {},
   "outputs": [],
   "source": []
  }
 ],
 "metadata": {
  "kernelspec": {
   "display_name": "Python 3",
   "language": "python",
   "name": "python3"
  },
  "language_info": {
   "codemirror_mode": {
    "name": "ipython",
    "version": 3
   },
   "file_extension": ".py",
   "mimetype": "text/x-python",
   "name": "python",
   "nbconvert_exporter": "python",
   "pygments_lexer": "ipython3",
   "version": "3.11.5"
  },
  "orig_nbformat": 4
 },
 "nbformat": 4,
 "nbformat_minor": 2
}
