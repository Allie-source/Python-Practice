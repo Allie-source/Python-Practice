{
 "cells": [
  {
   "cell_type": "markdown",
   "metadata": {},
   "source": [
    "# Algorithm Workbench \n"
   ]
  },
  {
   "cell_type": "markdown",
   "metadata": {},
   "source": [
    "3. Write a for loop that displays the following set of numbers:\n",
    "0, 10, 20, 30, 40, 50 . . . 1000"
   ]
  },
  {
   "cell_type": "code",
   "execution_count": null,
   "metadata": {},
   "outputs": [],
   "source": [
    "# number in range 0- 100 by increments of 10\n",
    "for num in range(0, 1001, 10):\n",
    "    # the print end is \", \" because the question formats it that way\n",
    "    print(num, end=', ')"
   ]
  },
  {
   "cell_type": "code",
   "execution_count": null,
   "metadata": {},
   "outputs": [],
   "source": [
    "# number in range 0- 100 by increments of 10\n",
    "for num in range(0, 1001, 10):\n",
    "    # the print end is \", \" because the question formats it that way\n",
    "    # take away end=', ' to make it a vertical list\n",
    "    print(num)"
   ]
  },
  {
   "cell_type": "markdown",
   "metadata": {},
   "source": [
    "5. Write a loop that calculates the total of the following series of numbers\n",
    "1/30 + 2/29 + 3/28 +... 30/1 "
   ]
  },
  {
   "cell_type": "code",
   "execution_count": 9,
   "metadata": {},
   "outputs": [
    {
     "name": "stdout",
     "output_type": "stream",
     "text": [
      "0.10229885057471264\n",
      "0.20944170771756976\n",
      "0.3575898558657179\n",
      "0.5498975481734102\n",
      "0.7898975481734102\n",
      "1.0815642148400768\n",
      "1.4293903017965985\n",
      "1.8384812108875077\n",
      "2.314671687077984\n",
      "2.8646716870779843\n",
      "3.4962506344464055\n",
      "4.218472856668628\n",
      "5.042002268433333\n",
      "5.979502268433333\n",
      "7.0461689351\n",
      "8.260454649385714\n",
      "9.6450700340011\n",
      "11.228403367334433\n",
      "13.046585185516252\n",
      "15.146585185516251\n",
      "17.591029629960694\n",
      "20.466029629960694\n",
      "23.89460105853212\n",
      "28.06126772519879\n",
      "33.26126772519879\n",
      "40.01126772519879\n",
      "49.34460105853213\n",
      "63.84460105853213\n",
      "93.84460105853213\n"
     ]
    }
   ],
   "source": [
    "#assign the first numerator to be added \n",
    "numerator = 1\n",
    "#assign the first denominator to be added\n",
    "denominator = 30\n",
    "# keep running total of the sums \n",
    "total = (numerator / denominator)\n",
    "\n",
    "while numerator != 31 and denominator != 1:\n",
    "    total += ((numerator + 1)/(denominator - 1)) \n",
    "    numerator += 1\n",
    "    denominator -= 1\n",
    "    print(total) \n"
   ]
  },
  {
   "cell_type": "code",
   "execution_count": null,
   "metadata": {},
   "outputs": [],
   "source": []
  }
 ],
 "metadata": {
  "kernelspec": {
   "display_name": "Python 3",
   "language": "python",
   "name": "python3"
  },
  "language_info": {
   "codemirror_mode": {
    "name": "ipython",
    "version": 3
   },
   "file_extension": ".py",
   "mimetype": "text/x-python",
   "name": "python",
   "nbconvert_exporter": "python",
   "pygments_lexer": "ipython3",
   "version": "3.11.5"
  },
  "orig_nbformat": 4
 },
 "nbformat": 4,
 "nbformat_minor": 2
}
