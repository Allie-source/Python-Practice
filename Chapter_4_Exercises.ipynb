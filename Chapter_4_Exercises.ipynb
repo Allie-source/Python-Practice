{
 "cells": [
  {
   "cell_type": "markdown",
   "metadata": {},
   "source": [
    "# Algorithm Workbench \n"
   ]
  },
  {
   "cell_type": "markdown",
   "metadata": {},
   "source": [
    "3. Write a for loop that displays the following set of numbers:\n",
    "0, 10, 20, 30, 40, 50 . . . 1000"
   ]
  },
  {
   "cell_type": "code",
   "execution_count": null,
   "metadata": {},
   "outputs": [],
   "source": [
    "# number in range 0- 100 by increments of 10\n",
    "for num in range(0, 1001, 10):\n",
    "    # the print end is \", \" because the question formats it that way\n",
    "    print(num, end=', ')"
   ]
  },
  {
   "cell_type": "code",
   "execution_count": null,
   "metadata": {},
   "outputs": [],
   "source": [
    "# number in range 0- 100 by increments of 10\n",
    "for num in range(0, 1001, 10):\n",
    "    # the print end is \", \" because the question formats it that way\n",
    "    # take away end=', ' to make it a vertical list\n",
    "    print(num)"
   ]
  },
  {
   "cell_type": "markdown",
   "metadata": {},
   "source": [
    "5. Write a loop that calculates the total of the following series of numbers\n",
    "1/30 + 2/29 + 3/28 +... 30/1 "
   ]
  },
  {
   "cell_type": "code",
   "execution_count": 13,
   "metadata": {},
   "outputs": [
    {
     "name": "stdout",
     "output_type": "stream",
     "text": [
      "1/30\n",
      "2/29\n",
      "3/28\n",
      "4/27\n",
      "5/26\n",
      "6/25\n",
      "7/24\n",
      "8/23\n",
      "9/22\n",
      "10/21\n",
      "11/20\n",
      "12/19\n",
      "13/18\n",
      "14/17\n",
      "15/16\n",
      "16/15\n",
      "17/14\n",
      "18/13\n",
      "19/12\n",
      "20/11\n",
      "21/10\n",
      "22/9\n",
      "23/8\n",
      "24/7\n",
      "25/6\n",
      "26/5\n",
      "27/4\n",
      "28/3\n",
      "29/2\n",
      "30/1\n",
      "93.84460105853213\n"
     ]
    }
   ],
   "source": [
    "#assign the first numerator to be added \n",
    "numerator = 1\n",
    "#assign the first denominator to be added\n",
    "denominator = 30\n",
    "# keep running total of the sums \n",
    "total = (numerator / denominator)\n",
    "# print the first fraction \n",
    "print(f'{numerator}/{denominator}')\n",
    "# setting the parameters for the numerator and denominator \n",
    "while numerator != 31 and denominator != 1:\n",
    "    # add 1 to the numerator and minus 1 from the denominator\n",
    "    total += ((numerator + 1)/(denominator - 1)) \n",
    "    #keep the numerator and denominator variables updated for the next loop\n",
    "    numerator += 1\n",
    "    denominator -= 1\n",
    "    # print the value that is being added to the sum \n",
    "    print(f'{numerator}/{denominator}')\n",
    "#print that total sum \n",
    "print(total)\n"
   ]
  },
  {
   "cell_type": "code",
   "execution_count": null,
   "metadata": {},
   "outputs": [],
   "source": []
  }
 ],
 "metadata": {
  "kernelspec": {
   "display_name": "Python 3",
   "language": "python",
   "name": "python3"
  },
  "language_info": {
   "codemirror_mode": {
    "name": "ipython",
    "version": 3
   },
   "file_extension": ".py",
   "mimetype": "text/x-python",
   "name": "python",
   "nbconvert_exporter": "python",
   "pygments_lexer": "ipython3",
   "version": "3.11.5"
  },
  "orig_nbformat": 4
 },
 "nbformat": 4,
 "nbformat_minor": 2
}
