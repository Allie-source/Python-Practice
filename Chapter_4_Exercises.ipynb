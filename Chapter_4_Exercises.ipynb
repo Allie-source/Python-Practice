{
 "cells": [
  {
   "cell_type": "markdown",
   "metadata": {},
   "source": [
    "# Algorithm Workbench #3\n",
    "Write a for loop that displays the following set of numbers:\n",
    "0, 10, 20, 30, 40, 50 . . . 1000\n",
    "\n",
    "For this problem I approached it by making a for loop with the range set to 0-1001 in increments of 10\n",
    "then for every iteration of the loop it print the number giving for the loop"
   ]
  },
  {
   "cell_type": "code",
   "execution_count": 14,
   "metadata": {},
   "outputs": [
    {
     "name": "stdout",
     "output_type": "stream",
     "text": [
      "0, 10, 20, 30, 40, 50, 60, 70, 80, 90, 100, 110, 120, 130, 140, 150, 160, 170, 180, 190, 200, 210, 220, 230, 240, 250, 260, 270, 280, 290, 300, 310, 320, 330, 340, 350, 360, 370, 380, 390, 400, 410, 420, 430, 440, 450, 460, 470, 480, 490, 500, 510, 520, 530, 540, 550, 560, 570, 580, 590, 600, 610, 620, 630, 640, 650, 660, 670, 680, 690, 700, 710, 720, 730, 740, 750, 760, 770, 780, 790, 800, 810, 820, 830, 840, 850, 860, 870, 880, 890, 900, 910, 920, 930, 940, 950, 960, 970, 980, 990, 1000, "
     ]
    }
   ],
   "source": [
    "# number in range 0- 100 by increments of 10\n",
    "for num in range(0, 1001, 10):\n",
    "    # the print end is \", \" because the question formats it that way\n",
    "    print(num, end=', ')"
   ]
  },
  {
   "cell_type": "code",
   "execution_count": 15,
   "metadata": {},
   "outputs": [
    {
     "name": "stdout",
     "output_type": "stream",
     "text": [
      "0\n",
      "10\n",
      "20\n",
      "30\n",
      "40\n",
      "50\n",
      "60\n",
      "70\n",
      "80\n",
      "90\n",
      "100\n",
      "110\n",
      "120\n",
      "130\n",
      "140\n",
      "150\n",
      "160\n",
      "170\n",
      "180\n",
      "190\n",
      "200\n",
      "210\n",
      "220\n",
      "230\n",
      "240\n",
      "250\n",
      "260\n",
      "270\n",
      "280\n",
      "290\n",
      "300\n",
      "310\n",
      "320\n",
      "330\n",
      "340\n",
      "350\n",
      "360\n",
      "370\n",
      "380\n",
      "390\n",
      "400\n",
      "410\n",
      "420\n",
      "430\n",
      "440\n",
      "450\n",
      "460\n",
      "470\n",
      "480\n",
      "490\n",
      "500\n",
      "510\n",
      "520\n",
      "530\n",
      "540\n",
      "550\n",
      "560\n",
      "570\n",
      "580\n",
      "590\n",
      "600\n",
      "610\n",
      "620\n",
      "630\n",
      "640\n",
      "650\n",
      "660\n",
      "670\n",
      "680\n",
      "690\n",
      "700\n",
      "710\n",
      "720\n",
      "730\n",
      "740\n",
      "750\n",
      "760\n",
      "770\n",
      "780\n",
      "790\n",
      "800\n",
      "810\n",
      "820\n",
      "830\n",
      "840\n",
      "850\n",
      "860\n",
      "870\n",
      "880\n",
      "890\n",
      "900\n",
      "910\n",
      "920\n",
      "930\n",
      "940\n",
      "950\n",
      "960\n",
      "970\n",
      "980\n",
      "990\n",
      "1000\n"
     ]
    }
   ],
   "source": [
    "# number in range 0- 100 by increments of 10\n",
    "for num in range(0, 1001, 10):\n",
    "    # the print end is \", \" because the question formats it that way\n",
    "    # take away end=', ' to make it a vertical list\n",
    "    print(num)"
   ]
  },
  {
   "cell_type": "markdown",
   "metadata": {},
   "source": [
    "# Algorithm Workbench #5 \n",
    "Write a loop that calculates the total of the following series of numbers\n",
    "1/30 + 2/29 + 3/28 +... 30/1 \n",
    "\n",
    "For this problem I first assigned the starting number 1/30 as two seperate variables to do operations on.\n",
    "I have the program print the first number of the list before starting the while loop. Then I have a while loop that adds 1 to the demniminator and numerator then prints that resulting fraction. \n",
    "The while loop will terminate when the numerator is 31 and the denominator is 1."
   ]
  },
  {
   "cell_type": "code",
   "execution_count": 13,
   "metadata": {},
   "outputs": [
    {
     "name": "stdout",
     "output_type": "stream",
     "text": [
      "1/30\n",
      "2/29\n",
      "3/28\n",
      "4/27\n",
      "5/26\n",
      "6/25\n",
      "7/24\n",
      "8/23\n",
      "9/22\n",
      "10/21\n",
      "11/20\n",
      "12/19\n",
      "13/18\n",
      "14/17\n",
      "15/16\n",
      "16/15\n",
      "17/14\n",
      "18/13\n",
      "19/12\n",
      "20/11\n",
      "21/10\n",
      "22/9\n",
      "23/8\n",
      "24/7\n",
      "25/6\n",
      "26/5\n",
      "27/4\n",
      "28/3\n",
      "29/2\n",
      "30/1\n",
      "93.84460105853213\n"
     ]
    }
   ],
   "source": [
    "#assign the first numerator to be added \n",
    "numerator = 1\n",
    "#assign the first denominator to be added\n",
    "denominator = 30\n",
    "# keep running total of the sums \n",
    "total = (numerator / denominator)\n",
    "# print the first fraction \n",
    "print(f'{numerator}/{denominator}')\n",
    "# setting the parameters for the numerator and denominator \n",
    "while numerator != 31 and denominator != 1:\n",
    "    # add 1 to the numerator and minus 1 from the denominator\n",
    "    total += ((numerator + 1)/(denominator - 1)) \n",
    "    #keep the numerator and denominator variables updated for the next loop\n",
    "    numerator += 1\n",
    "    denominator -= 1\n",
    "    # print the value that is being added to the sum \n",
    "    print(f'{numerator}/{denominator}')\n",
    "#print that total sum \n",
    "print(total)\n"
   ]
  },
  {
   "cell_type": "markdown",
   "metadata": {},
   "source": [
    "# Programming Exercise #1\n",
    " Bug Collector:\n",
    "A bug collector collects bugs every day for five days. Write a program that keeps a running \n",
    "total of the number of bugs collected during the five days. The loop should ask for the \n",
    "number of bugs collected for each day, and when the loop is finished, the program should \n",
    "display the total number of bugs collected.\n",
    "\n",
    "For this bug collecting problem I initialized the total bugs at 0 to start the for loop. Then I have a for loop with range 1-6 that will ask you for a number of bugs collected for the day for 5 days and add it to total bugs. After the loop is finished then the program will print the total bugs "
   ]
  },
  {
   "cell_type": "code",
   "execution_count": 18,
   "metadata": {},
   "outputs": [
    {
     "name": "stdout",
     "output_type": "stream",
     "text": [
      "18\n"
     ]
    }
   ],
   "source": [
    "# initial total bugs set to 0\n",
    "total_bugs = 0\n",
    "# for loop that adds total bugs for 5 days \n",
    "for num in range(1,6):\n",
    "    # get input from user and convert to int \n",
    "    # then add it to the total_bugs variable \n",
    "    total_bugs += int(input(f'Enter the bugs collected for day {num}'))\n",
    "# print the total after 5 days \n",
    "print(total_bugs)"
   ]
  },
  {
   "cell_type": "markdown",
   "metadata": {},
   "source": [
    "# Programming Exercise #4\n",
    "Write a program that asks the user for the speed of a vehicle (in miles per hour) \n",
    "and the number of hours it has traveled. It should then use a loop to display the distance \n",
    "the vehicle has traveled for each hour of that time period.\n",
    "\n",
    "for this program I got the speed in mph from the user and the hours traveled. I initialized the total distance at 0 before starting the for loop. Then I have a for loop that for every hour of travel adds the total distance and prints it into columns  \n"
   ]
  },
  {
   "cell_type": "code",
   "execution_count": 31,
   "metadata": {},
   "outputs": [
    {
     "name": "stdout",
     "output_type": "stream",
     "text": [
      "Hours\t\tDistance Traveled\n",
      "---------------------------------\n",
      "1\t\t\t40\n",
      "2\t\t\t80\n",
      "3\t\t\t120\n"
     ]
    }
   ],
   "source": [
    "# get speed in mph from user\n",
    "speed = float(input('Enter the speed in mph: '))\n",
    "# get hours traveled from user\n",
    "hours = int(input('Enter the hours traveled: ')) \n",
    "# initial total distance is set to 0 \n",
    "t_distance = 0 \n",
    "# print the headers for the columns\n",
    "print('Hours\\t\\tDistance Traveled')\n",
    "print('---------------------------------')\n",
    "# for loop with range 1 to hours +1 \n",
    "for num in range(1,(hours + 1)):\n",
    "    #add speed for the hour to the total distance\n",
    "    t_distance += speed \n",
    "    #print the current hour(num) and the total distance  \n",
    "    print(f'{num}\\t\\t\\t{t_distance:.0f}') \n",
    "\n"
   ]
  },
  {
   "cell_type": "markdown",
   "metadata": {},
   "source": [
    "# Programming Exercise #13\n",
    "Population: Write a program that predicts the approximate size of a population of organisms. The \n",
    "application should use text boxes to allow the user to enter the starting number of organisms, the average daily population increase (as a percentage), and the number of days the \n",
    "organisms will be left to multiply.\n",
    "\n",
    "For this problem I apporached it by getting all the population data from the user like starting population, increase rate, and days to grow the population. Then I have a assignment that turns the increase rate into a percentage to use for operations. Then I have a for loop that runs through the days range 2-days+1. day 1 is not included because the starting numbers are technically already day 1 so the loop starts day 2. Then the for loop prints the population for each day of growth."
   ]
  },
  {
   "cell_type": "code",
   "execution_count": 45,
   "metadata": {},
   "outputs": [
    {
     "name": "stdout",
     "output_type": "stream",
     "text": [
      "Day Approximate\t\tPopulation\n",
      "1\t\t\t2\n",
      "2\t\t\t2.60000\n",
      "3\t\t\t3.38000\n",
      "4\t\t\t4.39400\n",
      "5\t\t\t5.71220\n",
      "6\t\t\t7.42586\n",
      "7\t\t\t9.65362\n",
      "8\t\t\t12.54970\n",
      "9\t\t\t16.31461\n",
      "10\t\t\t21.20900\n"
     ]
    }
   ],
   "source": [
    "# get starting population from user\n",
    "start_pop = int(input('Enter the starting number of organisms: '))\n",
    "\n",
    "# get the increase rate from user in a percentage\n",
    "increase_rate = int(input('Average Daily increase: '))\n",
    "\n",
    "# calculate the fercent factor and assigning it to a variable\n",
    "increase_percent = (increase_rate / 100)\n",
    "\n",
    "# get the days the population will grow from the user\n",
    "days = int(input('Number of days to multiply: '))\n",
    "\n",
    "# assign the total population with that starting population\n",
    "total_pop = start_pop\n",
    "\n",
    "#print the headers\n",
    "print('Day Approximate\\t\\tPopulation')\n",
    "# print the first day and starting population \n",
    "print(f'{1}\\t\\t\\t{start_pop}')\n",
    "\n",
    "# a for loop to print day 2 and print until the end day \n",
    "for num in range(2, days + 1):\n",
    "    \n",
    "    #adding the percent increase to the total population\n",
    "    total_pop += (total_pop * increase_percent)\n",
    "    \n",
    "    #print the day and the total pop to five decimal places \n",
    "    print(f'{num}\\t\\t\\t{total_pop:.5f}')\n",
    "\n",
    "\n"
   ]
  },
  {
   "cell_type": "markdown",
   "metadata": {},
   "source": [
    "# Programming Exercise #15\n",
    " Write a program that uses nested loops to draw this pattern\n",
    "\n",
    " for this problem I had a lot of trouble with it for how small the amount of code is. The big key is getting the prints line endings correct. So I put a step value of 6 for the first for loop to use as its range. the first for loop prints the # at the beginning of each line. Then another for loop nested inside runs through its iterations for every iteration of the first loop to add spaces and then at the end of the first for loop it prints # at the end and starts the first loop over again. "
   ]
  },
  {
   "cell_type": "code",
   "execution_count": 48,
   "metadata": {},
   "outputs": [
    {
     "name": "stdout",
     "output_type": "stream",
     "text": [
      "##\n",
      "# #\n",
      "#  #\n",
      "#   #\n",
      "#    #\n",
      "#     #\n"
     ]
    }
   ],
   "source": [
    "# how many lines should the pattern be\n",
    "steps = 6\n",
    "\n",
    "# for loop that goes for steps times\n",
    "for x in range(steps):  \n",
    "    # print # at the start of every line in the loop\n",
    "    print('#', end='')\n",
    "    # nested for loop to print the spaces between the # symbols \n",
    "    for y in range(x):\n",
    "        #print a space for every iteration of y in range x \n",
    "        #adds a space to the line for every iteration of the loop\n",
    "        print(' ', end='')\n",
    "    #print the # symbol at the end of all the spaces\n",
    "    print('#')\n",
    "\n",
    "\n"
   ]
  }
 ],
 "metadata": {
  "kernelspec": {
   "display_name": "Python 3",
   "language": "python",
   "name": "python3"
  },
  "language_info": {
   "codemirror_mode": {
    "name": "ipython",
    "version": 3
   },
   "file_extension": ".py",
   "mimetype": "text/x-python",
   "name": "python",
   "nbconvert_exporter": "python",
   "pygments_lexer": "ipython3",
   "version": "3.11.5"
  },
  "orig_nbformat": 4
 },
 "nbformat": 4,
 "nbformat_minor": 2
}
