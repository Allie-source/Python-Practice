{
 "cells": [
  {
   "cell_type": "markdown",
   "id": "fbb32150",
   "metadata": {},
   "source": [
    "# Algorithm Workbench #4 \n",
    " The following code contains several nested if-else statements. Unfortunately, it \n",
    "was written without proper alignment and indentation. Rewrite the code and use the \n",
    "proper conventions of alignment and indentation."
   ]
  },
  {
   "cell_type": "code",
   "execution_count": 7,
   "id": "98ac8231",
   "metadata": {},
   "outputs": [
    {
     "name": "stdout",
     "output_type": "stream",
     "text": [
      "What was your score?55\n",
      "Your grade is F.\n"
     ]
    }
   ],
   "source": [
    "# the if else and print statement indentations are not correct\n",
    "# had to add the variables for grade score and get the input from user \n",
    "# had to make the input an int in order to make calculations\n",
    "score = int(input(\"What was your score?\"))\n",
    "A_score = 90\n",
    "B_score = 80\n",
    "C_score = 70\n",
    "D_score = 60\n",
    "\n",
    "if score >= A_score:\n",
    "    print('Your grade is A.')\n",
    "else:\n",
    "    if score >= B_score:\n",
    "        print('Your grade is B.')\n",
    "    else:\n",
    "        if score >= C_score:\n",
    "            print('Your grade is C.')\n",
    "        else:\n",
    "            if score >= D_score:\n",
    "                print('Your grade is D.')\n",
    "            else:\n",
    "                print('Your grade is F.')"
   ]
  },
  {
   "cell_type": "markdown",
   "id": "d5fa45bb",
   "metadata": {},
   "source": [
    "# Algorithm Workbench #5\n",
    " Write nested decision structures that perform the following: If amount1 is greater than \n",
    "10 and amount2 is less than 100, display the greater of amount1 and amount2."
   ]
  },
  {
   "cell_type": "code",
   "execution_count": 8,
   "id": "a2d48a80",
   "metadata": {},
   "outputs": [
    {
     "ename": "SyntaxError",
     "evalue": "unterminated string literal (detected at line 8) (939443066.py, line 8)",
     "output_type": "error",
     "traceback": [
      "\u001b[1;36m  Cell \u001b[1;32mIn[8], line 8\u001b[1;36m\u001b[0m\n\u001b[1;33m    print(f'({amount1} is greater than {amount2}.))\u001b[0m\n\u001b[1;37m          ^\u001b[0m\n\u001b[1;31mSyntaxError\u001b[0m\u001b[1;31m:\u001b[0m unterminated string literal (detected at line 8)\n"
     ]
    }
   ],
   "source": [
    "# obtain amount 1 and 2 from the user\n",
    "amount1 = int(input('Enter amount1:'))\n",
    "\n",
    "amount2 = int(input('Enter amount2:'))\n",
    "\n",
    "if amount1 > 10 and amount2 <100:\n",
    "    if amount1 > amount2:\n",
    "        print(f'({amount1} is greater than {amount2}.)')\n",
    "    else:\n",
    "        print(f'({amount2} is greater than {amount1}.)')\n",
    "    "
   ]
  },
  {
   "cell_type": "code",
   "execution_count": null,
   "id": "ab0ea4ea",
   "metadata": {},
   "outputs": [],
   "source": []
  }
 ],
 "metadata": {
  "kernelspec": {
   "display_name": "Python 3 (ipykernel)",
   "language": "python",
   "name": "python3"
  },
  "language_info": {
   "codemirror_mode": {
    "name": "ipython",
    "version": 3
   },
   "file_extension": ".py",
   "mimetype": "text/x-python",
   "name": "python",
   "nbconvert_exporter": "python",
   "pygments_lexer": "ipython3",
   "version": "3.11.4"
  }
 },
 "nbformat": 4,
 "nbformat_minor": 5
}
