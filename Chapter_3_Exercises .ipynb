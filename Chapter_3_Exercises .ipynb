{
 "cells": [
  {
   "cell_type": "markdown",
   "id": "f631d3d2",
   "metadata": {},
   "source": [
    "# Algorithm Workbench #4 \n",
    " The following code contains several nested if-else statements. Unfortunately, it \n",
    "was written without proper alignment and indentation. Rewrite the code and use the \n",
    "proper conventions of alignment and indentation."
   ]
  },
  {
   "cell_type": "code",
   "execution_count": null,
   "id": "a6e7fe1b",
   "metadata": {},
   "outputs": [],
   "source": [
    "# the if statements indentations are not correct\n",
    "if score >= A_score:\n",
    "print('Your grade is A.')\n",
    "else:\n",
    "if score >= B_score:\n",
    "print('Your grade is B.')\n",
    "else:\n",
    "if score >= C_score:\n",
    "print('Your grade is C.')\n",
    "else:\n",
    "if score >= D_score:\n",
    "print('Your grade is D.')\n",
    "else:\n",
    "print('Your grade is F.')"
   ]
  }
 ],
 "metadata": {
  "kernelspec": {
   "display_name": "Python 3 (ipykernel)",
   "language": "python",
   "name": "python3"
  },
  "language_info": {
   "codemirror_mode": {
    "name": "ipython",
    "version": 3
   },
   "file_extension": ".py",
   "mimetype": "text/x-python",
   "name": "python",
   "nbconvert_exporter": "python",
   "pygments_lexer": "ipython3",
   "version": "3.11.4"
  }
 },
 "nbformat": 4,
 "nbformat_minor": 5
}
