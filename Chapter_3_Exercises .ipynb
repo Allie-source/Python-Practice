{
 "cells": [
  {
   "cell_type": "markdown",
   "id": "92a58cbf",
   "metadata": {},
   "source": [
    "# Algorithm Workbench #4 \n",
    " The following code contains several nested if-else statements. Unfortunately, it \n",
    "was written without proper alignment and indentation. Rewrite the code and use the \n",
    "proper conventions of alignment and indentation."
   ]
  },
  {
   "cell_type": "code",
   "execution_count": 7,
   "id": "2d0f7ad0",
   "metadata": {},
   "outputs": [
    {
     "name": "stdout",
     "output_type": "stream",
     "text": [
      "What was your score?55\n",
      "Your grade is F.\n"
     ]
    }
   ],
   "source": [
    "# the if else and print statement indentations are not correct\n",
    "# had to add the variables for grade score and get the input from user \n",
    "# had to make the input an int in order to make calculations\n",
    "score = int(input(\"What was your score?\"))\n",
    "A_score = 90\n",
    "B_score = 80\n",
    "C_score = 70\n",
    "D_score = 60\n",
    "\n",
    "if score >= A_score:\n",
    "    print('Your grade is A.')\n",
    "else:\n",
    "    if score >= B_score:\n",
    "        print('Your grade is B.')\n",
    "    else:\n",
    "        if score >= C_score:\n",
    "            print('Your grade is C.')\n",
    "        else:\n",
    "            if score >= D_score:\n",
    "                print('Your grade is D.')\n",
    "            else:\n",
    "                print('Your grade is F.')"
   ]
  },
  {
   "cell_type": "markdown",
   "id": "4547fb44",
   "metadata": {},
   "source": [
    "# Algorithm Workbench #5\n",
    " Write nested decision structures that perform the following: If amount1 is greater than \n",
    "10 and amount2 is less than 100, display the greater of amount1 and amount2."
   ]
  },
  {
   "cell_type": "code",
   "execution_count": null,
   "id": "48c8bee6",
   "metadata": {},
   "outputs": [],
   "source": [
    "amount1 = int(input('enter amount1:'))"
   ]
  }
 ],
 "metadata": {
  "kernelspec": {
   "display_name": "Python 3 (ipykernel)",
   "language": "python",
   "name": "python3"
  },
  "language_info": {
   "codemirror_mode": {
    "name": "ipython",
    "version": 3
   },
   "file_extension": ".py",
   "mimetype": "text/x-python",
   "name": "python",
   "nbconvert_exporter": "python",
   "pygments_lexer": "ipython3",
   "version": "3.11.4"
  }
 },
 "nbformat": 4,
 "nbformat_minor": 5
}
