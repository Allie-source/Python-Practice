{
 "cells": [
  {
   "cell_type": "markdown",
   "id": "25abe5e0",
   "metadata": {},
   "source": [
    "# Algorithm Workbench #4 \n",
    " The following code contains several nested if-else statements. Unfortunately, it \n",
    "was written without proper alignment and indentation. Rewrite the code and use the \n",
    "proper conventions of alignment and indentation."
   ]
  },
  {
   "cell_type": "code",
   "execution_count": 7,
   "id": "df60a6d3",
   "metadata": {},
   "outputs": [
    {
     "name": "stdout",
     "output_type": "stream",
     "text": [
      "What was your score?55\n",
      "Your grade is F.\n"
     ]
    }
   ],
   "source": [
    "# the if else and print statement indentations are not correct\n",
    "# had to add the variables for grade score and get the input from user \n",
    "# had to make the input an int in order to make calculations\n",
    "score = int(input(\"What was your score?\"))\n",
    "A_score = 90\n",
    "B_score = 80\n",
    "C_score = 70\n",
    "D_score = 60\n",
    "\n",
    "if score >= A_score:\n",
    "    print('Your grade is A.')\n",
    "else:\n",
    "    if score >= B_score:\n",
    "        print('Your grade is B.')\n",
    "    else:\n",
    "        if score >= C_score:\n",
    "            print('Your grade is C.')\n",
    "        else:\n",
    "            if score >= D_score:\n",
    "                print('Your grade is D.')\n",
    "            else:\n",
    "                print('Your grade is F.')"
   ]
  },
  {
   "cell_type": "markdown",
   "id": "12683c10",
   "metadata": {},
   "source": [
    "# Algorithm Workbench #5\n",
    " Write nested decision structures that perform the following: If amount1 is greater than \n",
    "10 and amount2 is less than 100, display the greater of amount1 and amount2."
   ]
  },
  {
   "cell_type": "code",
   "execution_count": 13,
   "id": "9fd786ac",
   "metadata": {
    "scrolled": true
   },
   "outputs": [
    {
     "name": "stdout",
     "output_type": "stream",
     "text": [
      "Enter amount1:11\n",
      "Enter amount2:55\n",
      "(55 is greater than 11.)\n"
     ]
    }
   ],
   "source": [
    "# obtain amount 1 and 2 from the user\n",
    "amount1 = int(input('Enter amount1:'))\n",
    "\n",
    "amount2 = int(input('Enter amount2:'))\n",
    "\n",
    "# if statement to determine if amount1 and amount2 fall within parameters\n",
    "\n",
    "if amount1 > 10 and amount2 <100:\n",
    "    \n",
    "    # a nested structure to determine which amount is greater of the two\n",
    "    if amount1 > amount2:\n",
    "        print(f'({amount1} is greater than {amount2}.)')\n",
    "    else:\n",
    "        print(f'({amount2} is greater than {amount1}.)')\n",
    "#if the input falls outside the parameters then print a string to let user know\n",
    "else:\n",
    "    print('Put in numbers that meet the criteria')\n",
    "    "
   ]
  },
  {
   "cell_type": "markdown",
   "id": "a1f58bf3",
   "metadata": {},
   "source": [
    "# Programming Exercise #1\n",
    "Write a program that asks the user for a number in the range of 1 through 7. The program should display the corresponding day of the week, where 1 = Monday, 2 = Tuesday, \n",
    "3 = Wednesday, 4 = Thursday, 5 = Friday, 6 = Saturday, and 7 = Sunday. The program should \n",
    "display an error message if the user enters a number that is outside the range of 1 through 7."
   ]
  },
  {
   "cell_type": "code",
   "execution_count": 4,
   "id": "a62a0a09",
   "metadata": {},
   "outputs": [
    {
     "name": "stdout",
     "output_type": "stream",
     "text": [
      "enter a number 1-7: 5\n",
      "Friday\n"
     ]
    }
   ],
   "source": [
    "# Get the day number from the user \n",
    "day = int(input('enter a number 1-7: '))\n",
    "\n",
    "# if and elif statements to determine if the input corresponds to a day of the week 1-7\n",
    "if day == 7:\n",
    "    print('Sunday')\n",
    "elif day == 6:\n",
    "    print('Saturday')\n",
    "elif day == 5:\n",
    "    print('Friday')\n",
    "elif day == 4:\n",
    "    print('Thursday')\n",
    "elif day == 3:\n",
    "    print('Wednesday')\n",
    "elif day == 2:\n",
    "    print('Tuesday')\n",
    "elif day == 1:\n",
    "    print('Monday')\n",
    "\n",
    "# else statement to display an error if input not 1-7 \n",
    "else:\n",
    "    print('Error! Enter an input 1-7')\n"
   ]
  },
  {
   "cell_type": "markdown",
   "id": "6ebda3c0",
   "metadata": {},
   "source": [
    "# Programming Exercise #5\n",
    "Write a program that asks the user to enter an object’s mass, then calculates its weight. If \n",
    "the object weighs more than 500 newtons, display a message indicating that it is too heavy. \n",
    "If the object weighs less than 100 newtons, display a message indicating that it is too light."
   ]
  },
  {
   "cell_type": "code",
   "execution_count": 9,
   "id": "c25f3667",
   "metadata": {},
   "outputs": [
    {
     "name": "stdout",
     "output_type": "stream",
     "text": [
      "Enter the objects mass in kilograms: 39\n",
      "weight =382.2 Newtons\n"
     ]
    }
   ],
   "source": [
    "# get the mass of the object in kilograms from the user\n",
    "mass = int(input('Enter the objects mass in kilograms: '))\n",
    "\n",
    "# calculate the weight of the object and assign to variable \"weight\"\n",
    "weight = mass * 9.8\n",
    "\n",
    "# if and elif statements to determine if the weight is inside parameters \n",
    "if weight > 500:\n",
    "    # used f strings to print the weight in the output\n",
    "    # used the precision designator for 1 decimal place output\n",
    "    print(f'Weight = {weight:.1f} Newtons. The object is too heavy.')\n",
    "elif weight < 100:\n",
    "    print(f'Weight = {weight:.1f} Newtons. The object is too light.')\n",
    "else:\n",
    "    print(f'weight = {weight:.1f} Newtons')"
   ]
  },
  {
   "cell_type": "markdown",
   "id": "c2fd5428",
   "metadata": {},
   "source": [
    "# Programming Exercise #16\n",
    "The month of February normally has 28 days. But if it is a leap year, February has 29 days. \n",
    "Write a program that asks the user to enter a year. The program should then display the \n",
    "number of days in February that year. Use the following criteria to identify leap years:\n",
    "1. Determine whether the year is divisible by 100. If it is, then it is a leap year if and only \n",
    "if it is also divisible by 400. For example, 2000 is a leap year, but 2100 is not.\n",
    "2. If the year is not divisible by 100, then it is a leap year if and only if it is divisible by 4. \n",
    "For example, 2008 is a leap year, but 2009 is not."
   ]
  },
  {
   "cell_type": "code",
   "execution_count": 16,
   "id": "3d8ae802",
   "metadata": {},
   "outputs": [
    {
     "name": "stdout",
     "output_type": "stream",
     "text": [
      "Enter a year: 2008\n",
      "In 2008 February has 29 days.\n"
     ]
    }
   ],
   "source": [
    "# get the year from the user\n",
    "year = int(input(\"Enter a year: \"))\n",
    "\n",
    "# if statement to figure out if the year divides evenly in 100 and 400\n",
    "if year % 100 == 0 and year % 400 == 0:\n",
    "    print(f'In {year:.0f} February has 29 days.')\n",
    "          \n",
    "# elif statement to figure out if the year divides evenly in 4 and is not divisable by 100\n",
    "elif year % 100 != 0 and year % 4 == 0:\n",
    "          print(f'In {year:.0f} February has 29 days.')\n",
    "        \n",
    "# print 28 days if the above statements are false \n",
    "else:\n",
    "    print(f'In {year:.0f} February has 28 days.') "
   ]
  },
  {
   "cell_type": "markdown",
   "id": "e3b74463",
   "metadata": {},
   "source": [
    "# Programming Exercise #17\n",
    "Wifi diagnostic tree"
   ]
  },
  {
   "cell_type": "code",
   "execution_count": null,
   "id": "9e3f6ce7",
   "metadata": {},
   "outputs": [],
   "source": []
  }
 ],
 "metadata": {
  "kernelspec": {
   "display_name": "Python 3 (ipykernel)",
   "language": "python",
   "name": "python3"
  },
  "language_info": {
   "codemirror_mode": {
    "name": "ipython",
    "version": 3
   },
   "file_extension": ".py",
   "mimetype": "text/x-python",
   "name": "python",
   "nbconvert_exporter": "python",
   "pygments_lexer": "ipython3",
   "version": "3.11.4"
  }
 },
 "nbformat": 4,
 "nbformat_minor": 5
}
