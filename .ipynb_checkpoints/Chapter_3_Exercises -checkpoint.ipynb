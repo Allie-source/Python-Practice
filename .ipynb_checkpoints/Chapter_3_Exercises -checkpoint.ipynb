{
 "cells": [
  {
   "cell_type": "markdown",
   "id": "fb2fb54f",
   "metadata": {},
   "source": [
    "# Algorithm Workbench #4 \n",
    " The following code contains several nested if-else statements. Unfortunately, it \n",
    "was written without proper alignment and indentation. Rewrite the code and use the \n",
    "proper conventions of alignment and indentation."
   ]
  },
  {
   "cell_type": "code",
   "execution_count": 7,
   "id": "59803ef4",
   "metadata": {},
   "outputs": [
    {
     "name": "stdout",
     "output_type": "stream",
     "text": [
      "What was your score?55\n",
      "Your grade is F.\n"
     ]
    }
   ],
   "source": [
    "# the if else and print statement indentations are not correct\n",
    "# had to add the variables for grade score and get the input from user \n",
    "# had to make the input an int in order to make calculations\n",
    "score = int(input(\"What was your score?\"))\n",
    "A_score = 90\n",
    "B_score = 80\n",
    "C_score = 70\n",
    "D_score = 60\n",
    "\n",
    "if score >= A_score:\n",
    "    print('Your grade is A.')\n",
    "else:\n",
    "    if score >= B_score:\n",
    "        print('Your grade is B.')\n",
    "    else:\n",
    "        if score >= C_score:\n",
    "            print('Your grade is C.')\n",
    "        else:\n",
    "            if score >= D_score:\n",
    "                print('Your grade is D.')\n",
    "            else:\n",
    "                print('Your grade is F.')"
   ]
  },
  {
   "cell_type": "markdown",
   "id": "9e5706e7",
   "metadata": {},
   "source": [
    "# Algorithm Workbench #5\n",
    " Write nested decision structures that perform the following: If amount1 is greater than \n",
    "10 and amount2 is less than 100, display the greater of amount1 and amount2."
   ]
  },
  {
   "cell_type": "code",
   "execution_count": 13,
   "id": "d0e44eb7",
   "metadata": {
    "scrolled": true
   },
   "outputs": [
    {
     "name": "stdout",
     "output_type": "stream",
     "text": [
      "Enter amount1:11\n",
      "Enter amount2:55\n",
      "(55 is greater than 11.)\n"
     ]
    }
   ],
   "source": [
    "# obtain amount 1 and 2 from the user\n",
    "amount1 = int(input('Enter amount1:'))\n",
    "\n",
    "amount2 = int(input('Enter amount2:'))\n",
    "\n",
    "# if statement to determine if amount1 and amount2 fall within parameters\n",
    "\n",
    "if amount1 > 10 and amount2 <100:\n",
    "    \n",
    "    # a nested structure to determine which amount is greater of the two\n",
    "    if amount1 > amount2:\n",
    "        print(f'({amount1} is greater than {amount2}.)')\n",
    "    else:\n",
    "        print(f'({amount2} is greater than {amount1}.)')\n",
    "#if the input falls outside the parameters then print a string to let user know\n",
    "else:\n",
    "    print('Put in numbers that meet the criteria')\n",
    "    "
   ]
  },
  {
   "cell_type": "markdown",
   "id": "56e36281",
   "metadata": {},
   "source": [
    "# Programming Exercise #1\n",
    "Write a program that asks the user for a number in the range of 1 through 7. The program should display the corresponding day of the week, where 1 = Monday, 2 = Tuesday, \n",
    "3 = Wednesday, 4 = Thursday, 5 = Friday, 6 = Saturday, and 7 = Sunday. The program should \n",
    "display an error message if the user enters a number that is outside the range of 1 through 7."
   ]
  },
  {
   "cell_type": "code",
   "execution_count": null,
   "id": "a9256618",
   "metadata": {},
   "outputs": [],
   "source": [
    "# Get the day number from the user \n",
    "day = int(input('enter a number 1-7:'))\n",
    "          \n"
   ]
  },
  {
   "cell_type": "code",
   "execution_count": null,
   "id": "70427dc9",
   "metadata": {},
   "outputs": [],
   "source": []
  }
 ],
 "metadata": {
  "kernelspec": {
   "display_name": "Python 3 (ipykernel)",
   "language": "python",
   "name": "python3"
  },
  "language_info": {
   "codemirror_mode": {
    "name": "ipython",
    "version": 3
   },
   "file_extension": ".py",
   "mimetype": "text/x-python",
   "name": "python",
   "nbconvert_exporter": "python",
   "pygments_lexer": "ipython3",
   "version": "3.11.4"
  }
 },
 "nbformat": 4,
 "nbformat_minor": 5
}
