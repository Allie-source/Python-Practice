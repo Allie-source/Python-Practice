{
 "cells": [
  {
   "cell_type": "markdown",
   "id": "0a573883",
   "metadata": {},
   "source": [
    "# Chapter 1 Ex. \n",
    "\n",
    "   Excercises 1, 3, 5"
   ]
  },
  {
   "cell_type": "markdown",
   "id": "e267e841",
   "metadata": {},
   "source": [
    "## Exercise 1 \n",
    " To make sure that you can interact with the Python interpreter, try the following steps \n",
    "on your computer:"
   ]
  },
  {
   "cell_type": "code",
   "execution_count": 1,
   "id": "40a4a67f",
   "metadata": {},
   "outputs": [
    {
     "name": "stdout",
     "output_type": "stream",
     "text": [
      "This is a test of the Python interpreter\n"
     ]
    }
   ],
   "source": [
    "# testing the print function \n",
    "print('This is a test of the Python interpreter')"
   ]
  },
  {
   "cell_type": "code",
   "execution_count": 8,
   "id": "95fafa05",
   "metadata": {
    "scrolled": true
   },
   "outputs": [
    {
     "name": "stdout",
     "output_type": "stream",
     "text": [
      "Racecar\n"
     ]
    }
   ],
   "source": [
    "# messing around more with the print function and variables \n",
    "a='car'\n",
    "b='Race' \n",
    "print(b+a)"
   ]
  },
  {
   "cell_type": "code",
   "execution_count": 9,
   "id": "6a867dc0",
   "metadata": {},
   "outputs": [
    {
     "name": "stdout",
     "output_type": "stream",
     "text": [
      "Hello World!\n"
     ]
    }
   ],
   "source": [
    "# more messing around with the print function\n",
    "print('Hello World!')"
   ]
  },
  {
   "cell_type": "markdown",
   "id": "edc69ced",
   "metadata": {},
   "source": [
    "## Exercise 3\n",
    " Use what you’ve learned about the binary numbering system in this chapter to convert \n",
    "the following decimal numbers to binary: 11, 65, 100, 255.\n",
    "\n",
    "Logic is to divide the given numbers by two until we get zero. \n",
    "The remainder for each operation is the binary number from last digit to first (https://learningmonkey.in/courses/python/lessons/decimal-to-binary-in-python/)\n",
    "\n",
    "----------------------------------------\n",
    "\n",
    "11 divide by 2. quotient =5 remainder =1\n",
    "\n",
    "5 divide by 2. quotient =2 remainder =1\n",
    "\n",
    "2 divide by 2. quotient =1 remainder =0\n",
    "\n",
    "1 divide by 2. quotient =0 remainder =1\n",
    "\n",
    "Write remainders from last to first. 1011 \n",
    "\n",
    "So this means 11 in binary is 1011\n",
    "\n",
    "\n",
    "--------------------------------------\n",
    "65 divide by 2. quotient =32 remainder =1\n",
    "\n",
    "32 divide by 2. quotient =16 remainder =0\n",
    "\n",
    "16 divide by 2. quotient =8 remainder =0\n",
    "\n",
    "8 divide by 2. quotient =4 remainder =0\n",
    "\n",
    "4 divide by 2. quotient =2 remainder =0\n",
    "\n",
    "2 divide by 2. quotient =1 remainder =0\n",
    "\n",
    "1 divide by 2. quotient =0 remainder =1\n",
    "\n",
    "65 in binary is 1000001 \n",
    "\n",
    "------------------------------------------\n",
    "100 divide by 2. quotient =50 remainder =0\n",
    "\n",
    "50 divide by 2. quotient =25 remainder =0\n",
    "\n",
    "25 divide by 2. quotient =12 remainder =1\n",
    "\n",
    "12 divide by 2. quotient =6 remainder =0\n",
    "\n",
    "6 divide by 2. quotient =3 remainder =0\n",
    "\n",
    "3 divide by 2. quotient =1 remainder =1\n",
    "\n",
    "1 divide by 2. quotient =1 remainder =1\n",
    "\n",
    "100 in binary is 1100100\n",
    "\n",
    "--------------------------------------------\n",
    "255 divide by 2. quotient =127 remainder =1\n",
    "\n",
    "127 divide by 2. quotient =63 remainder =1\n",
    "\n",
    "63 divide by 2. quotient =31 remainder =1\n",
    "\n",
    "31 divide by 2. quotient =15 remainder =1\n",
    "\n",
    "15 divide by 2. quotient =7 remainder =1\n",
    "\n",
    "7 divide by 2. quotient =3 remainder =1\n",
    "\n",
    "3 divide by 2. quotient =1 remainder =1\n",
    "\n",
    "1 divide by 2. quotient =0 remainder =1\n",
    "\n",
    "255 in binary is 11111111"
   ]
  },
  {
   "cell_type": "code",
   "execution_count": 30,
   "id": "b9a0889a",
   "metadata": {},
   "outputs": [
    {
     "name": "stdout",
     "output_type": "stream",
     "text": [
      "The binary equivalent of 11 is: 0b1011\n",
      "The binary equivalent of 65 is: 0b1000001\n",
      "The binary equivalent of 100 is: 0b1100100\n",
      "The binary equivalent of 255 is: 0b11111111\n"
     ]
    }
   ],
   "source": [
    "# converting to binary using the python bin function that I googled.\n",
    "\n",
    "# This site helped  me https://www.programiz.com/python-programming/methods/built-in/bin\n",
    "\n",
    "#The prefix 0b on the binary outputs represents that the result is a binary string \n",
    "\n",
    "#assigning variables to the bin funtion with the numbers I want to find the binary equivalent for\n",
    "a=bin(11)\n",
    "b=bin(65)\n",
    "c=bin(100)\n",
    "d=bin(255)\n",
    "\n",
    "\n",
    "# Printing a string with a variable       \n",
    "print(\"The binary equivalent of 11 is:\",a)\n",
    "print(\"The binary equivalent of 65 is:\",b)\n",
    "print(\"The binary equivalent of 100 is:\",c)\n",
    "print(\"The binary equivalent of 255 is:\",d)"
   ]
  },
  {
   "cell_type": "markdown",
   "id": "aedf73cc",
   "metadata": {},
   "source": [
    "## Exercise 5 \n",
    "Look at the ASCII chart in Appendix C and determine the codes for each letter of your \n",
    "first name.\n",
    "\n",
    "Allie A= 65, l= 108, l= 108, i= 105, e= 101. "
   ]
  }
 ],
 "metadata": {
  "kernelspec": {
   "display_name": "Python 3 (ipykernel)",
   "language": "python",
   "name": "python3"
  },
  "language_info": {
   "codemirror_mode": {
    "name": "ipython",
    "version": 3
   },
   "file_extension": ".py",
   "mimetype": "text/x-python",
   "name": "python",
   "nbconvert_exporter": "python",
   "pygments_lexer": "ipython3",
   "version": "3.11.4"
  }
 },
 "nbformat": 4,
 "nbformat_minor": 5
}
