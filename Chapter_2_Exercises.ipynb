{
 "cells": [
  {
   "cell_type": "markdown",
   "id": "5e4a6093",
   "metadata": {},
   "source": [
    "# Chapter 2 Exercises \n"
   ]
  },
  {
   "cell_type": "markdown",
   "id": "2dce51e5",
   "metadata": {},
   "source": [
    "## Algorithm Workbench #11"
   ]
  },
  {
   "cell_type": "markdown",
   "id": "2ffd6b60",
   "metadata": {},
   "source": [
    "#### Assume the following statement has been executed.\n",
    "#### number = 1234567.456\n",
    "#### Write a python statement that displays the value referenced by the number variable formatted as 1,234,567.5"
   ]
  },
  {
   "cell_type": "code",
   "execution_count": 1,
   "id": "fd12f686",
   "metadata": {},
   "outputs": [
    {
     "name": "stdout",
     "output_type": "stream",
     "text": [
      "1,234,567.5\n"
     ]
    }
   ],
   "source": [
    "# print a number with commas and the precision formatted to one decimal place \n",
    "number = 1234567.456\n",
    "print(f'{number:,.1f}')"
   ]
  },
  {
   "cell_type": "markdown",
   "id": "cdd202bd",
   "metadata": {},
   "source": [
    "## Program Exercise #9\n",
    "#### Celsius to Fahrenheit Temperature Converter"
   ]
  },
  {
   "cell_type": "code",
   "execution_count": 3,
   "id": "931379b8",
   "metadata": {},
   "outputs": [
    {
     "name": "stdout",
     "output_type": "stream",
     "text": [
      "Enter the degrees in celsius. 19\n"
     ]
    }
   ],
   "source": [
    "# testing getting an input from a user and assigning it to the variable temp_c \n",
    "# temp_c is short for temperature celsius \n",
    "temp_c = float(input('Enter the degrees in celsius. '))\n",
    "\n"
   ]
  },
  {
   "cell_type": "code",
   "execution_count": 6,
   "id": "e963d9f7",
   "metadata": {},
   "outputs": [
    {
     "name": "stdout",
     "output_type": "stream",
     "text": [
      "Enter the degrees in celsius: 19\n",
      "19.0'Degrees Celsius is equal to:'66.2'Degrees fahrenheit.'\n"
     ]
    }
   ],
   "source": [
    "# taking input from the user and assigning it to the variable temp_c\n",
    "temp_c = float(input('Enter the degrees in celsius: ')) \n",
    "\n",
    "\n",
    "# writing a python statement for the celsius to fahrenheit conversion formula\n",
    "# temp_f is the temperature converted to fahrenheit \n",
    "temp_f = (9 * temp_c) / 5 + 32\n",
    "\n",
    "\n",
    "# print the degrees celsius converted to fahrenheit\n",
    "print(f\"{temp_c:.1f}'Degrees Celsius is equal to:'{temp_f:.1f}'Degrees fahrenheit.'\")"
   ]
  },
  {
   "cell_type": "code",
   "execution_count": 11,
   "id": "558f6ec3",
   "metadata": {},
   "outputs": [
    {
     "name": "stdout",
     "output_type": "stream",
     "text": [
      "Enter the degrees in Celsius: 0\n",
      "0.0 degrees Celsius is equal to 32.0 degrees Fahrenheit.\n"
     ]
    }
   ],
   "source": [
    "# get degrees Celsius from the user, convert to float and assign to the variable temp_c\n",
    "temp_c = float(input('Enter the degrees in Celsius: ')) \n",
    "\n",
    "# formula for converting Celsius to Fahrenheit \n",
    "temp_f = (9 * temp_c) / 5 + 32\n",
    "\n",
    "# print the degrees celsius to fahrenheit\n",
    "# cleaned up the output. previous attempt had unnecessary characters in the output \n",
    "print(f\"{temp_c:.1f} degrees Celsius is equal to {temp_f:.1f} degrees Fahrenheit.\")"
   ]
  },
  {
   "cell_type": "markdown",
   "id": "6efae600",
   "metadata": {},
   "source": [
    "# Program Exercise #13\n",
    "#### Determine the number of grapevines that will fit in a row"
   ]
  },
  {
   "cell_type": "code",
   "execution_count": 17,
   "id": "59a72644",
   "metadata": {},
   "outputs": [
    {
     "name": "stdout",
     "output_type": "stream",
     "text": [
      "What is the length of the row in feet? 1\n",
      "What is the amount of space used by the end post assembly in feet? 2\n",
      "What is the amount of space between the vines in feet? 3\n"
     ]
    }
   ],
   "source": [
    "# asks the user for the length of the future row in feet\n",
    "row_length = float(input('What is the length of the row in feet? '))\n",
    "\n",
    "# asks the user for the space that the post end assembly uses in feet \n",
    "post_end_length = float(input('What is the amount of space used by the \\\n",
    "end post assembly in feet? '))\n",
    "\n",
    "# asks the user for the amount of space between the future vines in feet\n",
    "vine_space = float(input('What is the amount of space between the vines \\\n",
    "in feet? '))\n",
    "                                                          "
   ]
  },
  {
   "cell_type": "code",
   "execution_count": 18,
   "id": "a5a8592b",
   "metadata": {},
   "outputs": [
    {
     "name": "stdout",
     "output_type": "stream",
     "text": [
      "What is the length of the row in feet? 20\n",
      "What is the amount of space used by the end post assembly in feet? 5\n",
      "What is the amount of space between the vines in feet? 2\n",
      "5 grapevines will fit in the row.\n"
     ]
    }
   ],
   "source": [
    "# asks the user for the length of the future row in feet\n",
    "row_length = float(input('What is the length of the row in feet? '))\n",
    "\n",
    "# asks the user for the space that the end post assembly uses in feet \n",
    "post_end_length = float(input('What is the amount of space used by the \\\n",
    "end post assembly in feet? '))\n",
    "\n",
    "# asks the user for the amount of space between the future vines in feet\n",
    "vine_space = float(input('What is the amount of space between the vines \\\n",
    "in feet? '))\n",
    "                                                          \n",
    "# the formula for calculating how many vines will fit in a row\n",
    "total_vines = (row_length - 2 * post_end_length) / vine_space\n",
    " \n",
    "# print the total vines that will fit in a row with zero decimal places     \n",
    "print(f'{total_vines:.0f} grapevines will fit in the row.')"
   ]
  },
  {
   "cell_type": "code",
   "execution_count": 20,
   "id": "a8baf3ae",
   "metadata": {},
   "outputs": [
    {
     "name": "stdout",
     "output_type": "stream",
     "text": [
      "What is the length of the row in feet? 20\n",
      "What is the amount of space used by the end post assembly in feet? 5\n",
      "What is the amount of space between the vines in feet? 1\n",
      "\n",
      "10 grapevines will fit in the row.\n"
     ]
    }
   ],
   "source": [
    "# asks the user for the length of the future row in feet\n",
    "row_length = float(input('What is the length of the row in feet? '))\n",
    "\n",
    "# asks the user for the space that the end post assembly uses in feet \n",
    "post_end_length = float(input('What is the amount of space used by the \\\n",
    "end post assembly in feet? '))\n",
    "\n",
    "# asks the user for the amount of space between the future vines in feet\n",
    "vine_space = float(input('What is the amount of space between the vines \\\n",
    "in feet? '))\n",
    "                                                          \n",
    "# the formula for calculating how many vines will fit in a row\n",
    "total_vines = (row_length - 2 * post_end_length) / vine_space\n",
    " \n",
    "# print the total vines that will fit in a row with zero decimal places\n",
    "# put a newline \\n on the output so it looks cleaner\n",
    "print(f'\\n{total_vines:.0f} grapevines will fit in the row.')"
   ]
  },
  {
   "cell_type": "code",
   "execution_count": null,
   "id": "aee60617",
   "metadata": {},
   "outputs": [],
   "source": []
  }
 ],
 "metadata": {
  "kernelspec": {
   "display_name": "Python 3 (ipykernel)",
   "language": "python",
   "name": "python3"
  },
  "language_info": {
   "codemirror_mode": {
    "name": "ipython",
    "version": 3
   },
   "file_extension": ".py",
   "mimetype": "text/x-python",
   "name": "python",
   "nbconvert_exporter": "python",
   "pygments_lexer": "ipython3",
   "version": "3.11.4"
  }
 },
 "nbformat": 4,
 "nbformat_minor": 5
}
