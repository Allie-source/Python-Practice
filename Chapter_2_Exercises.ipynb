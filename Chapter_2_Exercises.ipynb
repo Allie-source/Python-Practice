{
 "cells": [
  {
   "cell_type": "markdown",
   "id": "656da1c3",
   "metadata": {},
   "source": [
    "# Chapter 2 Exercises \n"
   ]
  },
  {
   "cell_type": "markdown",
   "id": "5cec3824",
   "metadata": {},
   "source": [
    "## Algorithm Workbench #11"
   ]
  },
  {
   "cell_type": "markdown",
   "id": "1a290857",
   "metadata": {},
   "source": [
    "Assume the following statement has been executed.\n",
    "number = 1234567.456\n",
    "\n",
    "Write a python statement that displays the value referenced by the number variable formatted as 1,234,567.5"
   ]
  },
  {
   "cell_type": "code",
   "execution_count": 1,
   "id": "072bfc7c",
   "metadata": {},
   "outputs": [
    {
     "name": "stdout",
     "output_type": "stream",
     "text": [
      "1,234,567.5\n"
     ]
    }
   ],
   "source": [
    "# print a number with commas and the precision formatted to one decimal place \n",
    "number = 1234567.456\n",
    "print(f'{number:,.1f}')"
   ]
  },
  {
   "cell_type": "markdown",
   "id": "2ced151d",
   "metadata": {},
   "source": [
    "## Program Exercise #9\n",
    "Celsius to Fahrenheit Temperature Converter"
   ]
  },
  {
   "cell_type": "code",
   "execution_count": 3,
   "id": "f1361d7e",
   "metadata": {},
   "outputs": [
    {
     "name": "stdout",
     "output_type": "stream",
     "text": [
      "Enter the degrees in celsius. 19\n"
     ]
    }
   ],
   "source": [
    "# testing getting an input from a user and assigning it to the variable temp_c \n",
    "# temp_c is short for temperature celsius \n",
    "temp_c = float(input('Enter the degrees in celsius. '))\n"
   ]
  },
  {
   "cell_type": "code",
   "execution_count": 6,
   "id": "cba91467",
   "metadata": {},
   "outputs": [
    {
     "name": "stdout",
     "output_type": "stream",
     "text": [
      "Enter the degrees in celsius: 19\n",
      "19.0'Degrees Celsius is equal to:'66.2'Degrees fahrenheit.'\n"
     ]
    }
   ],
   "source": [
    "# taking input from the user and assigning it to the variable temp_c\n",
    "temp_c = float(input('Enter the degrees in celsius: ')) \n",
    "\n",
    "\n",
    "# writing a python statement for the celsius to fahrenheit conversion formula\n",
    "# temp_f is the temperature converted to fahrenheit \n",
    "temp_f = (9 * temp_c) / 5 + 32\n",
    "\n",
    "\n",
    "# print the degrees celsius converted to fahrenheit\n",
    "print(f\"{temp_c:.1f}'Degrees Celsius is equal to:'{temp_f:.1f}'Degrees fahrenheit.'\")"
   ]
  },
  {
   "cell_type": "code",
   "execution_count": 11,
   "id": "21db5cdd",
   "metadata": {},
   "outputs": [
    {
     "name": "stdout",
     "output_type": "stream",
     "text": [
      "Enter the degrees in Celsius: 0\n",
      "0.0 degrees Celsius is equal to 32.0 degrees Fahrenheit.\n"
     ]
    }
   ],
   "source": [
    "# get degrees Celsius from the user, convert to float and assign to the variable temp_c\n",
    "temp_c = float(input('Enter the degrees in Celsius: ')) \n",
    "\n",
    "# formula for converting Celsius to Fahrenheit \n",
    "temp_f = (9 * temp_c) / 5 + 32\n",
    "\n",
    "# print the degrees celsius to fahrenheit\n",
    "# cleaned up the output. previous attempt had unnecessary characters in the output \n",
    "print(f\"{temp_c:.1f} degrees Celsius is equal to {temp_f:.1f} degrees Fahrenheit.\")"
   ]
  },
  {
   "cell_type": "markdown",
   "id": "22267ab3",
   "metadata": {},
   "source": [
    "## Program Exercise #13\n",
    "Determine the number of grapevines that will fit in a row"
   ]
  },
  {
   "cell_type": "code",
   "execution_count": 17,
   "id": "56e1a15b",
   "metadata": {},
   "outputs": [
    {
     "name": "stdout",
     "output_type": "stream",
     "text": [
      "What is the length of the row in feet? 1\n",
      "What is the amount of space used by the end post assembly in feet? 2\n",
      "What is the amount of space between the vines in feet? 3\n"
     ]
    }
   ],
   "source": [
    "# asks the user for the length of the future row in feet\n",
    "# converts the input to float using a nested function \n",
    "row_length = float(input('What is the length of the row in feet? '))\n",
    "\n",
    "# asks the user for the space that the post end assembly uses in feet\n",
    "# converts the input to float using a nested function\n",
    "# uses the line continuation character \\ to make the code more compact  \n",
    "post_end_length = float(input('What is the amount of space used by the \\\n",
    "end post assembly in feet? '))\n",
    "\n",
    "# asks the user for the amount of space between the future vines in feet\n",
    "# converts the input to float using a nested function\n",
    "# uses the line continuation character \\ to make the code more compact\n",
    "vine_space = float(input('What is the amount of space between the vines \\\n",
    "in feet? '))\n",
    "                                                          "
   ]
  },
  {
   "cell_type": "code",
   "execution_count": 18,
   "id": "c515eef2",
   "metadata": {},
   "outputs": [
    {
     "name": "stdout",
     "output_type": "stream",
     "text": [
      "What is the length of the row in feet? 20\n",
      "What is the amount of space used by the end post assembly in feet? 5\n",
      "What is the amount of space between the vines in feet? 2\n",
      "5 grapevines will fit in the row.\n"
     ]
    }
   ],
   "source": [
    "# asks the user for the length of the future row in feet\n",
    "row_length = float(input('What is the length of the row in feet? '))\n",
    "\n",
    "# asks the user for the space that the end post assembly uses in feet \n",
    "post_end_length = float(input('What is the amount of space used by the \\\n",
    "end post assembly in feet? '))\n",
    "\n",
    "# asks the user for the amount of space between the future vines in feet\n",
    "vine_space = float(input('What is the amount of space between the vines \\\n",
    "in feet? '))\n",
    "                                                          \n",
    "# the formula for calculating how many vines will fit in a row\n",
    "total_vines = (row_length - 2 * post_end_length) / vine_space\n",
    " \n",
    "# print the total vines that will fit in a row with zero decimal places     \n",
    "print(f'{total_vines:.0f} grapevines will fit in the row.')"
   ]
  },
  {
   "cell_type": "code",
   "execution_count": 20,
   "id": "91bc1ba6",
   "metadata": {},
   "outputs": [
    {
     "name": "stdout",
     "output_type": "stream",
     "text": [
      "What is the length of the row in feet? 20\n",
      "What is the amount of space used by the end post assembly in feet? 5\n",
      "What is the amount of space between the vines in feet? 1\n",
      "\n",
      "10 grapevines will fit in the row.\n"
     ]
    }
   ],
   "source": [
    "# asks the user for the length of the future row in feet\n",
    "row_length = float(input('What is the length of the row in feet? '))\n",
    "\n",
    "# asks the user for the space that the end post assembly uses in feet \n",
    "post_end_length = float(input('What is the amount of space used by the \\\n",
    "end post assembly in feet? '))\n",
    "\n",
    "# asks the user for the amount of space between the future vines in feet\n",
    "vine_space = float(input('What is the amount of space between the vines \\\n",
    "in feet? '))\n",
    "                                                          \n",
    "# the formula for calculating how many vines will fit in a row\n",
    "total_vines = (row_length - 2 * post_end_length) / vine_space\n",
    " \n",
    "# print the total vines that will fit in a row with zero decimal places\n",
    "# put a newline \\n on the output so it looks cleaner\n",
    "print(f'\\n{total_vines:.0f} grapevines will fit in the row.')"
   ]
  },
  {
   "cell_type": "markdown",
   "id": "0701b551",
   "metadata": {},
   "source": [
    "## Program Exercise #7\n",
    "Calculate a cars miles per gallon "
   ]
  },
  {
   "cell_type": "code",
   "execution_count": 3,
   "id": "b7977817",
   "metadata": {},
   "outputs": [
    {
     "ename": "SyntaxError",
     "evalue": "unterminated string literal (detected at line 6) (3748884116.py, line 6)",
     "output_type": "error",
     "traceback": [
      "\u001b[1;36m  Cell \u001b[1;32mIn[3], line 6\u001b[1;36m\u001b[0m\n\u001b[1;33m    print(f'the miles per gallon is: {mpg:.1f})\u001b[0m\n\u001b[1;37m          ^\u001b[0m\n\u001b[1;31mSyntaxError\u001b[0m\u001b[1;31m:\u001b[0m unterminated string literal (detected at line 6)\n"
     ]
    }
   ],
   "source": [
    "miles = float(input('Enter the number of miles: '))\n",
    "gallon = float(input('Enter the number of gallons: '))\n",
    "\n",
    "mpg = miles / gallon\n",
    "\n",
    "print(f'the miles per gallon is: {mpg:.1f})"
   ]
  },
  {
   "cell_type": "code",
   "execution_count": null,
   "id": "a1d60e50",
   "metadata": {},
   "outputs": [],
   "source": []
  }
 ],
 "metadata": {
  "kernelspec": {
   "display_name": "Python 3 (ipykernel)",
   "language": "python",
   "name": "python3"
  },
  "language_info": {
   "codemirror_mode": {
    "name": "ipython",
    "version": 3
   },
   "file_extension": ".py",
   "mimetype": "text/x-python",
   "name": "python",
   "nbconvert_exporter": "python",
   "pygments_lexer": "ipython3",
   "version": "3.11.4"
  }
 },
 "nbformat": 4,
 "nbformat_minor": 5
}
