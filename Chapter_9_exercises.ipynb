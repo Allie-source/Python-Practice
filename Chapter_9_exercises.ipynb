{
 "cells": [
  {
   "cell_type": "markdown",
   "metadata": {},
   "source": [
    "# Coding Set 9\n",
    "\n",
    "## Programming Exercise #4 Unique Words\n",
    "Write a program that opens a specified text file then displays a list of all the unique words \n",
    "found in the file."
   ]
  },
  {
   "cell_type": "code",
   "execution_count": 7,
   "metadata": {},
   "outputs": [
    {
     "name": "stdout",
     "output_type": "stream",
     "text": [
      "This program displays the unique words in a file.\n",
      "{'are', 'To', 'gone', 'and', 'final', 'Enterprise.', 'before', 'seek', 'out', 'to', 'life', 'the', 'starship', 'new', 'has', 'These', 'man', 'frontier.', 'continuing', 'voyages', 'of', \"It's\", 'strange', 'Space', 'boldly', 'no', 'worlds,', 'civilizations.', 'explore', 'go', 'where', 'mission,'}\n"
     ]
    }
   ],
   "source": [
    "import Unique\n",
    "\n",
    "def main():\n",
    "    print('This program displays the unique words in a file.')\n",
    "    file_name = input('Enter the file you want to count the words of:')\n",
    "    infile = open(f'{file_name}', 'r')\n",
    "    unique_words = Unique.unique_word(infile)\n",
    "    print(unique_words)\n",
    "\n",
    "\n",
    "if __name__ == '__main__':\n",
    "    # call main \n",
    "    main()"
   ]
  },
  {
   "cell_type": "code",
   "execution_count": null,
   "metadata": {},
   "outputs": [],
   "source": []
  }
 ],
 "metadata": {
  "kernelspec": {
   "display_name": "Python 3",
   "language": "python",
   "name": "python3"
  },
  "language_info": {
   "codemirror_mode": {
    "name": "ipython",
    "version": 3
   },
   "file_extension": ".py",
   "mimetype": "text/x-python",
   "name": "python",
   "nbconvert_exporter": "python",
   "pygments_lexer": "ipython3",
   "version": "3.11.5"
  }
 },
 "nbformat": 4,
 "nbformat_minor": 2
}
