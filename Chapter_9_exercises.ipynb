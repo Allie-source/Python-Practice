{
 "cells": [
  {
   "cell_type": "markdown",
   "metadata": {},
   "source": [
    "# Coding Set 9\n",
    "\n",
    "## Programming Exercise #4 Unique Words\n",
    "Write a program that opens a specified text file then displays a list of all the unique words \n",
    "found in the file.\n",
    "\n",
    "For this problem I made the main logic first of getting a filename from the user and then calling the unique_word function from the Unique custom module. The unique word function splits the lines in the file into a list of words serparated by the space character. then I update the list of words to a set that started empty. Bacause you cannot have duplicate elements in a set if the program tried to add a word that is already in the set it would just keep the one value of the element. Then I have the function return a set to the part of the program that called it and then print the set. "
   ]
  },
  {
   "cell_type": "code",
   "execution_count": 9,
   "metadata": {},
   "outputs": [
    {
     "name": "stdout",
     "output_type": "stream",
     "text": [
      "This program displays the unique words in a file.\n",
      "{'are', 'To', 'gone', 'and', 'final', 'Enterprise.', 'before', 'seek', 'out', 'to', 'life', 'the', 'starship', 'new', 'has', 'These', 'man', 'frontier.', 'continuing', 'voyages', 'of', \"It's\", 'strange', 'Space', 'boldly', 'no', 'worlds,', 'civilizations.', 'explore', 'go', 'where', 'mission,'}\n"
     ]
    }
   ],
   "source": [
    "# import the custom module Unique\n",
    "# explained in the snagit video\n",
    "import Unique\n",
    "\n",
    "#define main \n",
    "def main():\n",
    "    # print the intent of the program\n",
    "    print('This program displays the unique words in a file.')\n",
    "    # get the file to open from the user\n",
    "    file_name = input('Enter the file you want to count the words of:')\n",
    "    # open the file the user specifies \n",
    "    infile = open(f'{file_name}', 'r')\n",
    "    # call the unique word function from the module Unique\n",
    "    unique_words = Unique.unique_word(infile)\n",
    "    # print the unique words in the set\n",
    "    print(unique_words)\n",
    "\n",
    "# call main \n",
    "if __name__ == '__main__':\n",
    "    # call main \n",
    "    main()"
   ]
  }
 ],
 "metadata": {
  "kernelspec": {
   "display_name": "Python 3",
   "language": "python",
   "name": "python3"
  },
  "language_info": {
   "codemirror_mode": {
    "name": "ipython",
    "version": 3
   },
   "file_extension": ".py",
   "mimetype": "text/x-python",
   "name": "python",
   "nbconvert_exporter": "python",
   "pygments_lexer": "ipython3",
   "version": "3.11.5"
  }
 },
 "nbformat": 4,
 "nbformat_minor": 2
}
