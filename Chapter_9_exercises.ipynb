{
 "cells": [
  {
   "cell_type": "markdown",
   "metadata": {},
   "source": [
    "# Coding Set 9\n",
    "\n",
    "## Programming Exercise #4 Unique Words\n",
    "Write a program that opens a specified text file then displays a list of all the unique words \n",
    "found in the file."
   ]
  },
  {
   "cell_type": "code",
   "execution_count": 4,
   "metadata": {},
   "outputs": [
    {
     "name": "stdout",
     "output_type": "stream",
     "text": [
      "This program displays the unique words in a file.\n",
      "{'are', 'To', 'gone', 'worlds,to', 'and', 'final', 'Enterprise.', 'before', 'seek', 'out', 'life', 'the', 'starship', 'new', 'has', 'These', 'man', 'frontier.', 'continuing', 'voyages', 'of', 'mission,To', \"It's\", 'strange', 'Space', 'boldly', 'no', 'civilizations.', 'explore', 'go', 'where'}\n"
     ]
    }
   ],
   "source": [
    "def main():\n",
    "    print('This program displays the unique words in a file.')\n",
    "    file_name = input('Enter the file you want to count the words of:')\n",
    "    infile = open(f'{file_name}', 'r')\n",
    "    unique_words = unique_word(infile)\n",
    "    print(unique_words)\n",
    "\n",
    "def unique_word(file):\n",
    "    unique = set()\n",
    "    for line in file:\n",
    "        words = line.split()\n",
    "        unique.update(words)\n",
    "    return unique\n",
    "\n",
    "\n",
    "\n",
    "\n",
    "if __name__ == '__main__':\n",
    "    # call main \n",
    "    main()"
   ]
  },
  {
   "cell_type": "code",
   "execution_count": null,
   "metadata": {},
   "outputs": [],
   "source": []
  }
 ],
 "metadata": {
  "kernelspec": {
   "display_name": "Python 3",
   "language": "python",
   "name": "python3"
  },
  "language_info": {
   "codemirror_mode": {
    "name": "ipython",
    "version": 3
   },
   "file_extension": ".py",
   "mimetype": "text/x-python",
   "name": "python",
   "nbconvert_exporter": "python",
   "pygments_lexer": "ipython3",
   "version": "3.11.5"
  }
 },
 "nbformat": 4,
 "nbformat_minor": 2
}
