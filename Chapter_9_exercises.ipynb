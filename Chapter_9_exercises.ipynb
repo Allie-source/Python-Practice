{
 "cells": [
  {
   "cell_type": "markdown",
   "metadata": {},
   "source": [
    "# Coding Set 9\n",
    "\n",
    "## Programming Exercise #4 Unique Words\n",
    "Write a program that opens a specified text file then displays a list of all the unique words \n",
    "found in the file."
   ]
  },
  {
   "cell_type": "code",
   "execution_count": null,
   "metadata": {},
   "outputs": [],
   "source": [
    "def main():\n",
    "    print('This program displays the unique words in a file.')\n",
    "    file_name = input('Enter the file you want to count the words of:')\n",
    "    infile = open(f'{file_name}', 'r')\n",
    "    unique_words = unique_word(infile)\n",
    "    print(unique_words)\n",
    "\n",
    "def unique_word(file):\n",
    "\n",
    "\n",
    "\n",
    "# call main\n",
    "if __name__ == '__main__':\n",
    "    # call main \n",
    "    main()"
   ]
  }
 ],
 "metadata": {
  "language_info": {
   "name": "python"
  }
 },
 "nbformat": 4,
 "nbformat_minor": 2
}
