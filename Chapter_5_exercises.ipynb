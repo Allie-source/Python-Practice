{
 "cells": [
  {
   "cell_type": "markdown",
   "metadata": {},
   "source": [
    "# Chapter 5 Exercises \n",
    "\n",
    "## Algorithm Workbench # 1 \n",
    " Write a function named times_ten. The function should accept an argument and \n",
    "display the product of its argument multiplied times 10"
   ]
  },
  {
   "cell_type": "code",
   "execution_count": 4,
   "metadata": {},
   "outputs": [
    {
     "name": "stdout",
     "output_type": "stream",
     "text": [
      "500\n"
     ]
    }
   ],
   "source": [
    "# To approach this problem I made a function that times a input by 10 \n",
    "# then I called this function in the main to execute with the input num\n",
    "# Then the main prints the result of the times_ten function \n",
    "\n",
    "# defining the main function to get a number from the user and times it by 10\n",
    "def main():\n",
    "    # getting the input from the user and assigning it to the variable num\n",
    "    num = int(input('Enter a numer to times it by 10: '))\n",
    "    # taking the input and calling the times_ten function to times num by 10\n",
    "    result = times_ten(num)\n",
    "    #print the result of num times ten\n",
    "    print(result)\n",
    "# defining the times ten function with the variable num\n",
    "def times_ten(num):\n",
    "    #taking num times ten and assigning answer to the varriable result\n",
    "    result = num * 10\n",
    "    # return the result to where the function was called in the program \n",
    "    return result\n",
    "# this calls the main function and executes it\n",
    "main()"
   ]
  },
  {
   "cell_type": "code",
   "execution_count": null,
   "metadata": {},
   "outputs": [],
   "source": []
  }
 ],
 "metadata": {
  "kernelspec": {
   "display_name": "Python 3",
   "language": "python",
   "name": "python3"
  },
  "language_info": {
   "codemirror_mode": {
    "name": "ipython",
    "version": 3
   },
   "file_extension": ".py",
   "mimetype": "text/x-python",
   "name": "python",
   "nbconvert_exporter": "python",
   "pygments_lexer": "ipython3",
   "version": "3.11.5"
  },
  "orig_nbformat": 4
 },
 "nbformat": 4,
 "nbformat_minor": 2
}
