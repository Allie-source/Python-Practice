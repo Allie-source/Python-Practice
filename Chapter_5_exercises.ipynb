{
 "cells": [
  {
   "cell_type": "markdown",
   "metadata": {},
   "source": [
    "# Chapter 5 Exercises \n",
    "\n",
    "## Algorithm Workbench # 1 \n",
    " Write a function named times_ten. The function should accept an argument and \n",
    "display the product of its argument multiplied times 10"
   ]
  },
  {
   "cell_type": "code",
   "execution_count": 4,
   "metadata": {},
   "outputs": [
    {
     "name": "stdout",
     "output_type": "stream",
     "text": [
      "500\n"
     ]
    }
   ],
   "source": [
    "# To approach this problem I made a function that times a input by 10 \n",
    "# then I called this function in the main to execute with the input num\n",
    "# Then the main prints the result of the times_ten function \n",
    "\n",
    "# defining the main function to get a number from the user and times it by 10\n",
    "def main():\n",
    "    # getting the input from the user and assigning it to the variable num\n",
    "    num = int(input('Enter a numer to times it by 10: '))\n",
    "    # taking the input and calling the times_ten function to times num by 10\n",
    "    result = times_ten(num)\n",
    "    #print the result of num times ten\n",
    "    print(result)\n",
    "# defining the times ten function with the variable num\n",
    "def times_ten(num):\n",
    "    #taking num times ten and assigning answer to the varriable result\n",
    "    result = num * 10\n",
    "    # return the result to where the function was called in the program \n",
    "    return result\n",
    "# this calls the main function and executes it\n",
    "main()"
   ]
  },
  {
   "cell_type": "markdown",
   "metadata": {},
   "source": [
    "## Algorithm Workbench #6\n",
    "Write a statement that generates a random number in the range of 1 through 100 and \n",
    "assigns it to a variable named rand."
   ]
  },
  {
   "cell_type": "code",
   "execution_count": 9,
   "metadata": {},
   "outputs": [
    {
     "name": "stdout",
     "output_type": "stream",
     "text": [
      "52\n"
     ]
    }
   ],
   "source": [
    "# for this problem I imported the random module and used randrange to get a random nunmber from 1-100\n",
    "# at first I used the random function but that only gives a number betweeen 0.0 - 1.0 \n",
    "# then I tried the uniform random function but it returns a floating point number \n",
    "# then I remembered the randrange function and used that with a set range\n",
    "\n",
    "# Import the random function so you can use the random functions \n",
    "import random\n",
    "\n",
    "# using random.randrange witht the range set from 1-100\n",
    "rand = random.randrange(1,100)\n",
    "# print the variable rand which is a \"random\" number\n",
    "print(rand)\n"
   ]
  },
  {
   "cell_type": "markdown",
   "metadata": {},
   "source": [
    "# Programming Exercises \n",
    "## Programming Exercise #1\n",
    "Write a program that asks the user to enter a distance in kilometers, then converts that \n",
    "distance to miles. The conversion formula is as follows:\n",
    "Miles = Kilometers * 0.6214"
   ]
  },
  {
   "cell_type": "code",
   "execution_count": 14,
   "metadata": {},
   "outputs": [
    {
     "name": "stdout",
     "output_type": "stream",
     "text": [
      "This program converts kilometers to miles\n",
      "100 Kilometers is equal to 62.14.\n"
     ]
    }
   ],
   "source": [
    "#To make this program I set up a main function to get input from the user \n",
    "# then I took the user input and sent it as a arugument for the function km_to_mi\n",
    "# I created the km_to_mi(kilometers to miles) function to convert km to mi\n",
    "\n",
    "#defining the main function of the program\n",
    "def main():\n",
    "    # print what the program is trying to do\n",
    "    print('This program converts kilometers to miles')\n",
    "    # get the kilometers from the user and assign to the km(kilometer) variable\n",
    "    km = int(input('Enter the kilometers to convert to miles: ')) \n",
    "    #assigning miles to the function km_to_mi(kilometers to miles) with the argument km\n",
    "    miles = km_to_mi(km)\n",
    "    #print the result of the function \n",
    "    # miles is formatted to print to four decimal places\n",
    "    # because the conversion constant has four significant figures\n",
    "    print(f'{km} Kilometers is equal to {miles:.4} miles.')\n",
    "# defining the function to convert kilometers to miles\n",
    "# km_to_mi(kilometer to mile)\n",
    "def km_to_mi(kilometer):\n",
    "    # converting kilometers to miles and assigning it to the variable miles\n",
    "    miles = kilometer * 0.6214\n",
    "    # this returns the variable miles to the part of the program that calls the function km_to_mi\n",
    "    return miles\n",
    "# run the main program \n",
    "main()"
   ]
  },
  {
   "cell_type": "markdown",
   "metadata": {},
   "source": [
    "## Programming Exercise 17 Prime Numbers\n",
    "A prime number is a number that is only evenly divisible by itself and 1. For example, the \n",
    "number 5 is prime because it can only be evenly divided by 1 and 5. The number 6, however,\n",
    "is not prime because it can be divided evenly by 1, 2, 3, and 6.\n",
    "    Write a Boolean function named is_prime which takes an integer as an argument and \n",
    "returns true if the argument is a prime number, or false otherwise. Use the function in \n",
    "a program that prompts the user to enter a number then displays a message indicating \n",
    "whether the number is prime."
   ]
  },
  {
   "cell_type": "code",
   "execution_count": 35,
   "metadata": {},
   "outputs": [
    {
     "name": "stdout",
     "output_type": "stream",
     "text": [
      "This program determines if a number is prime.\n",
      "44 is not a prime number.\n"
     ]
    }
   ],
   "source": [
    "def main():\n",
    "    print('This program determines if a number is prime.')\n",
    "    number = int(input('Enter a number: '))\n",
    "    prime = is_prime(number)\n",
    "    if prime == True:\n",
    "        print(f'{number} is a prime number.')\n",
    "    else:\n",
    "        print(f'{number} is not a prime number.')\n",
    "\n",
    "def is_prime(num):\n",
    "    if num % num == 0 and num % 2 == 1:\n",
    "        return True\n",
    "    else:\n",
    "        return False\n",
    "main()"
   ]
  },
  {
   "cell_type": "code",
   "execution_count": null,
   "metadata": {},
   "outputs": [],
   "source": []
  }
 ],
 "metadata": {
  "kernelspec": {
   "display_name": "Python 3",
   "language": "python",
   "name": "python3"
  },
  "language_info": {
   "codemirror_mode": {
    "name": "ipython",
    "version": 3
   },
   "file_extension": ".py",
   "mimetype": "text/x-python",
   "name": "python",
   "nbconvert_exporter": "python",
   "pygments_lexer": "ipython3",
   "version": "3.11.5"
  },
  "orig_nbformat": 4
 },
 "nbformat": 4,
 "nbformat_minor": 2
}
