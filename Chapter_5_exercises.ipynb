{
 "cells": [
  {
   "cell_type": "markdown",
   "metadata": {},
   "source": [
    "# Chapter 5 Exercises \n",
    "\n",
    "## Algorithm Workbench #1 \n",
    " Write a function named times_ten. The function should accept an argument and \n",
    "display the product of its argument multiplied times 10\n",
    "\n",
    "To approach this problem I made a function that times a input by 10 \n",
    "then I called this function in the main to execute with the input num\n",
    "Then the main prints the result of the times_ten function "
   ]
  },
  {
   "cell_type": "code",
   "execution_count": 4,
   "metadata": {},
   "outputs": [
    {
     "name": "stdout",
     "output_type": "stream",
     "text": [
      "500\n"
     ]
    }
   ],
   "source": [
    "# defining the main function to get a number from the user and times it by 10\n",
    "def main():\n",
    "    # getting the input from the user and assigning it to the variable num\n",
    "    num = int(input('Enter a numer to times it by 10: '))\n",
    "    # taking the input and calling the times_ten function to times num by 10\n",
    "    result = times_ten(num)\n",
    "    #print the result of num times ten\n",
    "    print(result)\n",
    "# defining the times ten function with the variable num\n",
    "def times_ten(num):\n",
    "    #taking num times ten and assigning answer to the varriable result\n",
    "    result = num * 10\n",
    "    # return the result to where the function was called in the program \n",
    "    return result\n",
    "# this calls the main function and executes it\n",
    "main()"
   ]
  },
  {
   "cell_type": "markdown",
   "metadata": {},
   "source": [
    "## Algorithm Workbench #6\n",
    "Write a statement that generates a random number in the range of 1 through 100 and \n",
    "assigns it to a variable named rand.\n",
    "\n",
    "for this problem I imported the random module and used randrange to get a random nunmber from 1-100\n",
    "at first I used the random function but that only gives a number betweeen 0.0 - 1.0 \n",
    "then I tried the uniform random function but it returns a floating point number \n",
    "then I remembered the randrange function and used that with a set range"
   ]
  },
  {
   "cell_type": "code",
   "execution_count": 9,
   "metadata": {},
   "outputs": [
    {
     "name": "stdout",
     "output_type": "stream",
     "text": [
      "52\n"
     ]
    }
   ],
   "source": [
    "# Import the random function so you can use the random functions \n",
    "import random\n",
    "\n",
    "# using random.randrange witht the range set from 1-100\n",
    "rand = random.randrange(1,100)\n",
    "# print the variable rand which is a \"random\" number\n",
    "print(rand)\n"
   ]
  },
  {
   "cell_type": "markdown",
   "metadata": {},
   "source": [
    "# Programming Exercises \n",
    "## Programming Exercise #1\n",
    "Write a program that asks the user to enter a distance in kilometers, then converts that \n",
    "distance to miles. The conversion formula is as follows:\n",
    "Miles = Kilometers * 0.6214\n",
    "\n",
    "To make this program I set up a main function to get input from the user \n",
    "then I took the user input and sent it as a arugument for the function km_to_mi\n",
    "I created the km_to_mi(kilometers to miles) function to convert km to mi"
   ]
  },
  {
   "cell_type": "code",
   "execution_count": 1,
   "metadata": {},
   "outputs": [
    {
     "name": "stdout",
     "output_type": "stream",
     "text": [
      "This program converts kilometers to miles\n",
      "100 Kilometers is equal to 62.14 miles.\n"
     ]
    }
   ],
   "source": [
    "#defining the main function of the program\n",
    "def main():\n",
    "    # print what the program is trying to do\n",
    "    print('This program converts kilometers to miles')\n",
    "    # get the kilometers from the user and assign to the km(kilometer) variable\n",
    "    km = int(input('Enter the kilometers to convert to miles: ')) \n",
    "    #assigning miles to the function km_to_mi(kilometers to miles) with the argument km\n",
    "    miles = km_to_mi(km)\n",
    "    #print the result of the function \n",
    "    # miles is formatted to print to four decimal places\n",
    "    # because the conversion constant has four significant figures\n",
    "    print(f'{km} Kilometers is equal to {miles:.4} miles.')\n",
    "# defining the function to convert kilometers to miles\n",
    "# km_to_mi(kilometer to mile)\n",
    "def km_to_mi(kilometer):\n",
    "    # converting kilometers to miles and assigning it to the variable miles\n",
    "    miles = kilometer * 0.6214\n",
    "    # this returns the variable miles to the part of the program that calls the function km_to_mi\n",
    "    return miles\n",
    "# run the main program \n",
    "main()"
   ]
  },
  {
   "cell_type": "markdown",
   "metadata": {},
   "source": [
    "## Programming Exercise 17 Prime Numbers\n",
    "A prime number is a number that is only evenly divisible by itself and 1. For example, the \n",
    "number 5 is prime because it can only be evenly divided by 1 and 5. The number 6, however,\n",
    "is not prime because it can be divided evenly by 1, 2, 3, and 6.\n",
    "    Write a Boolean function named is_prime which takes an integer as an argument and \n",
    "returns true if the argument is a prime number, or false otherwise. Use the function in \n",
    "a program that prompts the user to enter a number then displays a message indicating \n",
    "whether the number is prime.\n",
    "\n",
    "For this problem I had a lot of issues with getting the right output. My logic was flawed at the start and I was using an if and statement for the is_prime function. Then when I tried a for loop in range(2,input) instead I had success. For some reason I only got correct output when I made the return true line indented with the for statement and not the nested if statment using an else statement."
   ]
  },
  {
   "cell_type": "code",
   "execution_count": 27,
   "metadata": {},
   "outputs": [
    {
     "name": "stdout",
     "output_type": "stream",
     "text": [
      "This program determines if a number is prime.\n",
      "6 is not a prime number.\n"
     ]
    }
   ],
   "source": [
    "# defining the main function  \n",
    "def main():\n",
    "    # print a program welcome message \n",
    "    print('This program determines if a number is prime.')\n",
    "    # get the number from the user that they want to know if its prime\n",
    "    number = int(input('Enter a number: '))\n",
    "    # an assignment statement that takes the output from the function\n",
    "    # is_prime and sets it to the variable prime\n",
    "    prime = is_prime(number)\n",
    "    # if prime is true then print the number is prime\n",
    "    if prime == True:\n",
    "        print(f'{number} is a prime number.')\n",
    "    # if prime is not equal to True then it prints the number is not prime \n",
    "    else:\n",
    "        print(f'{number} is not a prime number.')\n",
    "# defining the function is_prime to determine if a given integer is prime \n",
    "def is_prime(input):\n",
    "    # a for statement that runs from range 2-input \n",
    "    for number in range(2,input):\n",
    "        # an if statement to use the % operator and if it returns 0 it means it divides evenly\n",
    "        if input % number == 0:\n",
    "            #return false if it divides evenly by a number \n",
    "            return False\n",
    "    #returns true if the number is prime\n",
    "    return True\n",
    "# execute main function \n",
    "main()"
   ]
  },
  {
   "cell_type": "markdown",
   "metadata": {},
   "source": [
    "## Programming Exercise #18 Prime Number List\n",
    "This exercise assumes that you have already written the is_prime function in Programming \n",
    "Exercise 17. Write another program that displays all of the prime numbers from 1 to 100. \n",
    "The program should have a loop that calls the is_prime function.\n",
    "\n",
    "This problem was pretty simple for me after having to make the is_prime function in the previous exercise. I used a main function that has a for loop in range(2,101) and runs the input through the is_prime function. If the is_prime function returns True then print the numbee, else pass. I don't think I actually need the else pass statement for it to work the same. "
   ]
  },
  {
   "cell_type": "code",
   "execution_count": 25,
   "metadata": {},
   "outputs": [
    {
     "name": "stdout",
     "output_type": "stream",
     "text": [
      "This program will print the prime numbers from 1-100.\n",
      "2, 3, 5, 7, 11, 13, 17, 19, 23, 29, 31, 37, 41, 43, 47, 53, 59, 61, 67, 71, 73, 79, 83, 89, 97, "
     ]
    }
   ],
   "source": [
    "def main():\n",
    "    # print the programs intent\n",
    "    print('This program will print the prime numbers from 1-100.')\n",
    "    # a for loop with range 2-100\n",
    "    for num in range(2,101):\n",
    "        #setting is prime to the loop target variable\n",
    "        prime = is_prime(num)\n",
    "        # if the number is prime then print the number\n",
    "        if prime == True:\n",
    "            print(num, end=\", \")\n",
    "        # if the number is not prime then pass on the loop\n",
    "        # don't think I actually need this here but it's here\n",
    "        else:\n",
    "            pass\n",
    "        \n",
    "# defining the function is_prime to determine if a given integer is prime \n",
    "def is_prime(input):\n",
    "    # a for statement that runs from range 2-input \n",
    "    for number in range(2,input):\n",
    "        # an if statement to use the % operator and if it returns 0 it means it divides evenly\n",
    "        if input % number == 0:\n",
    "            #return false if it divides evenly by a number \n",
    "            return False\n",
    "    #returns true if the number is prime\n",
    "    return True\n",
    "    \n",
    "\n",
    "main()"
   ]
  },
  {
   "cell_type": "markdown",
   "metadata": {},
   "source": [
    "# Programming Exercise #21 Rock Paper Scissors\n",
    "Write a program that lets the user play the game of Rock, Paper, Scissors against the computer. The program should work as follows:\n",
    "1. When the program begins, a random number in the range of 1 through 3 is generated. \n",
    "If the number is 1, then the computer has chosen rock. If the number is 2, then the \n",
    "computer has chosen paper. If the number is 3, then the computer has chosen scissors. \n",
    "(Don’t display the computer’s choice yet.)\n",
    "2. The user enters his or her choice of “rock,” “paper,” or “scissors” at the keyboard.\n",
    "3. The computer’s choice is displayed.\n",
    "4. A winner is selected according to the following rules:\n",
    "\n",
    "• If one player chooses rock and the other player chooses scissors, then rock wins. \n",
    "(Rock smashes scissors.)\n",
    "\n",
    "• If one player chooses scissors and the other player chooses paper, then scissors wins. \n",
    "(Scissors cuts paper.)\n",
    "\n",
    "• If one player chooses paper and the other player chooses rock, then paper wins. \n",
    "(Paper wraps rock.)\n",
    "\n",
    "• If both players make the same choice, the game must be played again to determine \n",
    "the winner.\n",
    "\n",
    "For this exercise I just started by making the random function that would output a number 1-3. Then I started the main function and started to work on converting the computers choice into a string rock, paper, or scissors. Then I made a validation loop which gave me a lot of trouble. At first I used a while statement with three or's and the program would just hang. Then I used the less than and greater than to set a range of acceptable inputs and it worked. After this we have the player input converted to strings. Then I used if elif and else statements to determine if the player won or if it was a tie, if not then the player loses. "
   ]
  },
  {
   "cell_type": "code",
   "execution_count": 3,
   "metadata": {},
   "outputs": [
    {
     "name": "stdout",
     "output_type": "stream",
     "text": [
      "This is a game of Rock, Paper, Scissors.\n",
      "1 = Rock, 2 = Paper, 3 = Scissors\n",
      "Please use numbers 1, 2, or 3 for your choice\n",
      "1 = Rock, 2 = Paper, 3 = Scissors\n",
      "You chose: Paper\n",
      "The computer chose: Paper\n",
      "Its a tie!\n"
     ]
    }
   ],
   "source": [
    "# importthe random module\n",
    "import random\n",
    "# defining the main function\n",
    "def main():\n",
    "    # print the intent of the program\n",
    "    print('This is a game of Rock, Paper, Scissors.')\n",
    "    # getting a random number 1-3 from the function rps\n",
    "    # and assigning it to the computers turn\n",
    "    computer_turn = rps() \n",
    "    # initialize the computers turn as a string computer choice\n",
    "    computer_choice = ''\n",
    "    #if and else statements that assign the computers turn \n",
    "    # to a string computers_choice that is rock paper or scissors\n",
    "    if computer_turn == 1:\n",
    "        computer_choice = 'Rock'\n",
    "    elif computer_turn == 2:\n",
    "        computer_choice = 'Paper'\n",
    "    elif computer_turn == 3:\n",
    "        computer_choice = 'Scissors'\n",
    "    # print the accepted inputs from the user\n",
    "    print('1 = Rock, 2 = Paper, 3 = Scissors')\n",
    "    # get input from the user 1-3 and assign it to the variable player_input\n",
    "    player_input = int(input('Enter a number 1-3:'))\n",
    "    # validation loop for the input to make sure the input is 1 2 or 3 \n",
    "    while player_input < 1 or player_input > 3:\n",
    "        print('Please use numbers 1, 2, or 3 for your choice')\n",
    "        print('1 = Rock, 2 = Paper, 3 = Scissors')\n",
    "        player_input = int(input('Enter a number 1-3:'))\n",
    "    # initializing the variable player_choice\n",
    "    player_choice = ''\n",
    "    #if and else statements that assign the player_input\n",
    "    # to a string player_choice that is rock paper or scissors\n",
    "    if player_input == 1:\n",
    "        player_choice = 'Rock'\n",
    "    elif player_input == 2:\n",
    "        player_choice = 'Paper'\n",
    "    elif player_input == 3:\n",
    "        player_choice = 'Scissors'\n",
    "    # if statement that if the player chooses rock and the computer picks scissors\n",
    "    # then print the choices and say you win \n",
    "    if (player_input == 1 and computer_turn == 3):\n",
    "        print(f'You chose: {player_choice}')\n",
    "        print(f'The computer chose: {computer_choice}')\n",
    "        print('You Win!')\n",
    "\n",
    "    # if statement that if the player chooses paper and the computer picks rock\n",
    "    # then print the choices and say you win\n",
    "    elif (player_input == 2 and computer_turn == 1):\n",
    "        print(f'You chose: {player_choice}')\n",
    "        print(f'The computer chose: {computer_choice}')\n",
    "        print('You Win!')\n",
    "    \n",
    "    # if statement that if the player chooses scissors and the computer picks paper\n",
    "    # then print the choices and say you win\n",
    "    elif (player_input == 3 and computer_turn == 2):\n",
    "        print(f'You chose: {player_choice}')\n",
    "        print(f'The computer chose: {computer_choice}')\n",
    "        print('You Win!')\n",
    "# if statement if the player chooses the same thing as the computer\n",
    "# prints its a tie\n",
    "    elif player_input == computer_turn:\n",
    "        print(f'You chose: {player_choice}')\n",
    "        print(f'The computer chose: {computer_choice}')\n",
    "        print('Its a tie!')\n",
    "    # if none of the above winning or tie scenarios happen then you \n",
    "    # lost and the computer won\n",
    "    else:\n",
    "        print(f'You chose: {player_choice}')\n",
    "        print(f'The computer chose: {computer_choice}')\n",
    "        print('You lose')\n",
    "\n",
    "\n",
    "#defining the rock paper scissors function(rps)\n",
    "def rps():\n",
    "    # getting a random number from the randrange function\n",
    "    # and assigning it to the variable comp_choice\n",
    "    comp_choice = random.randrange(1,4)\n",
    "    # return the computers choice \n",
    "    return comp_choice \n",
    "# execute the main function\n",
    "main()"
   ]
  }
 ],
 "metadata": {
  "kernelspec": {
   "display_name": "Python 3",
   "language": "python",
   "name": "python3"
  },
  "language_info": {
   "codemirror_mode": {
    "name": "ipython",
    "version": 3
   },
   "file_extension": ".py",
   "mimetype": "text/x-python",
   "name": "python",
   "nbconvert_exporter": "python",
   "pygments_lexer": "ipython3",
   "version": "3.11.5"
  },
  "orig_nbformat": 4
 },
 "nbformat": 4,
 "nbformat_minor": 2
}
