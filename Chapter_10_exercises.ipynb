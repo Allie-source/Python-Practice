{
 "cells": [
  {
   "cell_type": "markdown",
   "metadata": {},
   "source": [
    "# Programming Exercise #4 Employee Class\n",
    "write a class named Employee that holds the following data about an employee in attributes: name, ID number, department, and job title.\n",
    "\n",
    "Once you have written the class, write a program that creates three Employee objects to hold the following data:\n",
    "\n",
    "Susan Meyers, 47899, Accounting, Vice President\n",
    "\n",
    "Mark Jones, 39119, IT, Programmer\n",
    "\n",
    "Joy Rogers, 81774, Manufacturing, Engineer\n",
    "\n",
    "The program should store this data in the three objects, then display the data for each employee on the screen"
   ]
  },
  {
   "cell_type": "code",
   "execution_count": 1,
   "metadata": {},
   "outputs": [],
   "source": [
    "class Employee:\n",
    "    def __init__(self, name, id_number, department, job_title):\n",
    "        self.__name = name\n",
    "        self.__id_number = id_number\n",
    "        self.__department = department \n",
    "        self.__job_title = job_title\n",
    "\n",
    "    def set_name(self, name):\n",
    "        self.__name = name \n",
    "\n",
    "    def set_id(self, id_number):\n",
    "        self.__id_number = id_number\n",
    "    \n",
    "    def set_department(self, department):\n",
    "        self.__department = department\n",
    "\n",
    "    def __str__(self):\n",
    "        return f'Name: {self.__name}\\n' \\\n",
    "        f'ID Number: {self.__id_number}\\n' \\\n",
    "        f'Department: {self.__department}\\n' \\\n",
    "        f'Job Title: {self.__job_title}'\n",
    "    "
   ]
  },
  {
   "cell_type": "code",
   "execution_count": 5,
   "metadata": {},
   "outputs": [],
   "source": [
    "def main():\n",
    "    again = 'y'\n",
    "    employees = []\n",
    "    while again.lower == 'y':\n",
    "        name = input('Enter the employees name: ')\n",
    "        id_number = input('Enter the employees id number: ')\n",
    "        department = input('enter the employees department: ')\n",
    "        title = input('Enter the employees job title:')\n",
    "\n",
    "        employee = Employee(name, id_number, department, title)\n",
    "\n",
    "        employees += employee \n",
    "\n",
    "        again = input('Do you want to enter another employee? (y/n): ')\n",
    "    print(employees) \n"
   ]
  },
  {
   "cell_type": "code",
   "execution_count": null,
   "metadata": {},
   "outputs": [],
   "source": []
  }
 ],
 "metadata": {
  "kernelspec": {
   "display_name": "Python 3",
   "language": "python",
   "name": "python3"
  },
  "language_info": {
   "codemirror_mode": {
    "name": "ipython",
    "version": 3
   },
   "file_extension": ".py",
   "mimetype": "text/x-python",
   "name": "python",
   "nbconvert_exporter": "python",
   "pygments_lexer": "ipython3",
   "version": "3.11.5"
  }
 },
 "nbformat": 4,
 "nbformat_minor": 2
}
