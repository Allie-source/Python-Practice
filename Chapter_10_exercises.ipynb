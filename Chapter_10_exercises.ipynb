{
 "cells": [
  {
   "cell_type": "markdown",
   "metadata": {},
   "source": [
    "# Programming Exercise #4 Employee Class\n",
    "write a class named Employee that holds the following data about an employee in attributes: name, ID number, department, and job title.\n",
    "\n",
    "Once you have written the class, write a program that creates three Employee objects to hold the following data:\n",
    "\n",
    "Susan Meyers, 47899, Accounting, Vice President\n",
    "\n",
    "Mark Jones, 39119, IT, Programmer\n",
    "\n",
    "Joy Rogers, 81774, Manufacturing, Engineer\n",
    "\n",
    "The program should store this data in the three objects, then display the data for each employee on the screen\n",
    "\n",
    "For this problem I use a while loop to ask for an employees information for each iteration. I created the Employee class to create the employee object that contains name, id number, department, and job title. The while loop calls this class after asking the user for the employees information. Then the newly created employee object is appended to the employees list."
   ]
  },
  {
   "cell_type": "code",
   "execution_count": 23,
   "metadata": {},
   "outputs": [
    {
     "name": "stdout",
     "output_type": "stream",
     "text": [
      "Name: Susan Meyers\n",
      "ID Number: 47899\n",
      "Department: Accounting\n",
      "Job Title: Vice President\n",
      "Name: Mark Jones \n",
      "ID Number: 39119\n",
      "Department: IT\n",
      "Job Title: Programmer\n",
      "Name: Joy Rogers\n",
      "ID Number: 81774\n",
      "Department: Manufacturing\n",
      "Job Title: Engineer\n"
     ]
    }
   ],
   "source": [
    "# import the custom module with Employee class\n",
    "import employ\n",
    "# define main \n",
    "def main():\n",
    "    # set again to 'y' for the while loop to run\n",
    "    again = 'y'\n",
    "    # create an empty list that will be appended to\n",
    "    employees = []\n",
    "    # while loop that iterates as long as again = 'y' \n",
    "    while again.lower() == 'y':\n",
    "        # get the name from the userd\n",
    "        name = input('Enter the employees name: ')\n",
    "        # get the id number from the user\n",
    "        id_number = input('Enter the employees id number: ')\n",
    "        # get the department from the user \n",
    "        department = input('enter the employees department: ')\n",
    "        # get the title from the user \n",
    "        title = input('Enter the employees job title:')\n",
    "        # pass name, id_number, department, and job_title to the employee class \n",
    "        employee = employ.Employ(name, id_number, department, title) \n",
    "        # add the employee to the employees list \n",
    "        employees.append(employee)\n",
    "        # ask user to run loop again with the again variable\n",
    "        again = input('Do you want to enter another employee? (y/n): ')\n",
    "    # call the display list funtion\n",
    "    display_list(employees)\n",
    "# define a function that displays a list \n",
    "def display_list(employees):\n",
    "    # for loop that iterates over the objects int he list employees\n",
    "    for item in employees:\n",
    "        # print the __str__ method from the object\n",
    "        print(item)\n",
    "# define main    \n",
    "if __name__ == '__main__':\n",
    "    # call main \n",
    "    main()"
   ]
  },
  {
   "cell_type": "markdown",
   "metadata": {},
   "source": [
    "# Programming Exercise #7 Employee Management System\n",
    "\n",
    "This exercise assumes you have created the Employee class for Programming Exercise 4. \n",
    "Create a program that stores Employee objects in a dictionary. Use the employee ID number as the key. The program should present a menu that lets the user perform the following \n",
    "actions:\n",
    "\n",
    "• Look up an employee in the dictionary\n",
    "\n",
    "• Add a new employee to the dictionary\n",
    "\n",
    "• Change an existing employee’s name, department, and job title in the dictionary\n",
    "\n",
    "• Delete an employee from the dictionary\n",
    "\n",
    "• Quit the program\n",
    "\n",
    "When the program ends, it should pickle the dictionary and save it to a file. Each time the \n",
    "program starts, it should try to load the pickled dictionary from the file. If the file does not \n",
    "exist, the program should start with an empty dictionary"
   ]
  },
  {
   "cell_type": "code",
   "execution_count": null,
   "metadata": {},
   "outputs": [],
   "source": [
    "def main():\n",
    "    pass\n",
    "def menu():\n",
    "    pass\n",
    "def change_name(employee):\n",
    "    pass\n",
    "def change_department(employee):\n",
    "    pass\n",
    "def "
   ]
  }
 ],
 "metadata": {
  "kernelspec": {
   "display_name": "Python 3",
   "language": "python",
   "name": "python3"
  },
  "language_info": {
   "codemirror_mode": {
    "name": "ipython",
    "version": 3
   },
   "file_extension": ".py",
   "mimetype": "text/x-python",
   "name": "python",
   "nbconvert_exporter": "python",
   "pygments_lexer": "ipython3",
   "version": "3.11.5"
  }
 },
 "nbformat": 4,
 "nbformat_minor": 2
}
