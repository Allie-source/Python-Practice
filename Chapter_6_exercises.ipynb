{
 "cells": [
  {
   "cell_type": "markdown",
   "metadata": {},
   "source": [
    "# Coding Set #6"
   ]
  },
  {
   "cell_type": "markdown",
   "metadata": {},
   "source": [
    "## Algorithm Workbench #3\n",
    " Write code that does the following: opens an output file with the filename number_\n",
    "list.txt, uses a loop to write the numbers 1 through 100 to the file, then closes \n",
    "the file.\n",
    "\n",
    "For this problem I approached it with a basic for loop with a range that writes to the file every iteration of the loop. I had trouble at first with finding the file on my disk and then realized I didn't put main() at the end of my program so that it would actually execute."
   ]
  },
  {
   "cell_type": "code",
   "execution_count": 11,
   "metadata": {},
   "outputs": [],
   "source": [
    "# defining main function\n",
    "def main():\n",
    "    # open list in write mode and assign it to myfile \n",
    "    myfile = open('list.txt', 'w')\n",
    "    # a for loop to iterate 100 times and give the loop the number 1-100\n",
    "    for num in range(1,101):\n",
    "        # write the f string to the file with a \\n added on the end \n",
    "        myfile.write(f'{num}' + '\\n')\n",
    "    # close the file \n",
    "    myfile.close()\n",
    "# call main   \n",
    "main()"
   ]
  },
  {
   "cell_type": "markdown",
   "metadata": {},
   "source": [
    "## Algorithm Workbench #4\n",
    " Write code that does the following: opens the number_list.txt file that was created \n",
    "by the code you wrote in question 3, reads all of the numbers from the file and displays \n",
    "them, then closes the file.\n",
    "\n",
    "For this problem I remembered from the chapter that if you only want to read lines from a file then you can use a for loop to read each line and automatically end the loop when the file has no more lines. I also used rstrip to take the newline character off the end of the line that was read."
   ]
  },
  {
   "cell_type": "code",
   "execution_count": 21,
   "metadata": {},
   "outputs": [
    {
     "name": "stdout",
     "output_type": "stream",
     "text": [
      "1, 2, 3, 4, 5, 6, 7, 8, 9, 10, 11, 12, 13, 14, 15, 16, 17, 18, 19, 20, 21, 22, 23, 24, 25, 26, 27, 28, 29, 30, 31, 32, 33, 34, 35, 36, 37, 38, 39, 40, 41, 42, 43, 44, 45, 46, 47, 48, 49, 50, 51, 52, 53, 54, 55, 56, 57, 58, 59, 60, 61, 62, 63, 64, 65, 66, 67, 68, 69, 70, 71, 72, 73, 74, 75, 76, 77, 78, 79, 80, 81, 82, 83, 84, 85, 86, 87, 88, 89, 90, 91, 92, 93, 94, 95, 96, 97, 98, 99, 100, "
     ]
    }
   ],
   "source": [
    "# define main \n",
    "def main():\n",
    "    # open list.txt in read mode and assign it to the myfile variable \n",
    "    myfile = open('list.txt', 'r')\n",
    "    # a for loop that reads every line in the file\n",
    "    for line in myfile:\n",
    "        # stripping the \\n from the end of the line that was read\n",
    "        line = line.rstrip('\\n')\n",
    "        # print the line with an ending of '' \n",
    "        print(f'{line}, ', end='')\n",
    "    # close the file \n",
    "    myfile.close()\n",
    "# call main \n",
    "main()"
   ]
  },
  {
   "cell_type": "markdown",
   "metadata": {},
   "source": [
    "## Programming Exercise #1 File Display \n",
    "Assume a file containing a series of integers is named numbers.txt and exists on the computer’s disk. Write a program that displays all of the numbers in the file."
   ]
  },
  {
   "cell_type": "code",
   "execution_count": null,
   "metadata": {},
   "outputs": [],
   "source": []
  }
 ],
 "metadata": {
  "kernelspec": {
   "display_name": "Python 3",
   "language": "python",
   "name": "python3"
  },
  "language_info": {
   "codemirror_mode": {
    "name": "ipython",
    "version": 3
   },
   "file_extension": ".py",
   "mimetype": "text/x-python",
   "name": "python",
   "nbconvert_exporter": "python",
   "pygments_lexer": "ipython3",
   "version": "3.11.5"
  },
  "orig_nbformat": 4
 },
 "nbformat": 4,
 "nbformat_minor": 2
}
