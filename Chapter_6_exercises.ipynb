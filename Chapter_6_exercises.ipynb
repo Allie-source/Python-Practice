{
 "cells": [
  {
   "cell_type": "markdown",
   "metadata": {},
   "source": [
    "# Coding Set #6"
   ]
  },
  {
   "cell_type": "markdown",
   "metadata": {},
   "source": [
    "## Algorithm Workbench #3\n",
    " Write code that does the following: opens an output file with the filename number_\n",
    "list.txt, uses a loop to write the numbers 1 through 100 to the file, then closes \n",
    "the file.\n",
    "\n",
    "For this problem I approached it with a basic for loop with a range that writes to the file every iteration of the loop. I had trouble at first with finding the file on my disk and then realized I didn't put main() at the end of my program so that it would actually execute."
   ]
  },
  {
   "cell_type": "code",
   "execution_count": 11,
   "metadata": {},
   "outputs": [],
   "source": [
    "# defining main function\n",
    "def main():\n",
    "    # open list in write mode and assign it to myfile \n",
    "    myfile = open('list.txt', 'w')\n",
    "    # a for loop to iterate 100 times and give the loop the number 1-100\n",
    "    for num in range(1,101):\n",
    "        # write the f string to the file with a \\n added on the end \n",
    "        myfile.write(f'{num}' + '\\n')\n",
    "    # close the file \n",
    "    myfile.close()\n",
    "# call main   \n",
    "main()"
   ]
  },
  {
   "cell_type": "markdown",
   "metadata": {},
   "source": [
    "## Algorithm Workbench #4\n",
    " Write code that does the following: opens the number_list.txt file that was created \n",
    "by the code you wrote in question 3, reads all of the numbers from the file and displays \n",
    "them, then closes the file.\n",
    "\n",
    "For this problem I remembered from the chapter that if you only want to read lines from a file then you can use a for loop to read each line and automatically end the loop when the file has no more lines. I also used rstrip to take the newline character off the end of the line that was read."
   ]
  },
  {
   "cell_type": "code",
   "execution_count": 21,
   "metadata": {},
   "outputs": [
    {
     "name": "stdout",
     "output_type": "stream",
     "text": [
      "1, 2, 3, 4, 5, 6, 7, 8, 9, 10, 11, 12, 13, 14, 15, 16, 17, 18, 19, 20, 21, 22, 23, 24, 25, 26, 27, 28, 29, 30, 31, 32, 33, 34, 35, 36, 37, 38, 39, 40, 41, 42, 43, 44, 45, 46, 47, 48, 49, 50, 51, 52, 53, 54, 55, 56, 57, 58, 59, 60, 61, 62, 63, 64, 65, 66, 67, 68, 69, 70, 71, 72, 73, 74, 75, 76, 77, 78, 79, 80, 81, 82, 83, 84, 85, 86, 87, 88, 89, 90, 91, 92, 93, 94, 95, 96, 97, 98, 99, 100, "
     ]
    }
   ],
   "source": [
    "# define main \n",
    "def main():\n",
    "    # open list.txt in read mode and assign it to the myfile variable \n",
    "    myfile = open('list.txt', 'r')\n",
    "    # a for loop that reads every line in the file\n",
    "    for line in myfile:\n",
    "        # stripping the \\n from the end of the line that was read\n",
    "        line = line.rstrip('\\n')\n",
    "        # print the line with an ending of '' \n",
    "        print(f'{line}, ', end='')\n",
    "    # close the file \n",
    "    myfile.close()\n",
    "# call main \n",
    "main()"
   ]
  },
  {
   "cell_type": "markdown",
   "metadata": {},
   "source": [
    "## Programming Exercise #1 File Display \n",
    "Assume a file containing a series of integers is named numbers.txt and exists on the computer’s disk. Write a program that displays all of the numbers in the file.\n",
    "\n",
    "For this problem I made the file numbers.txt in notepad because I was curious if it would work. It printed perfectly and this code is very similar to what is written in alorithm workbench #4 and I approached it the same way."
   ]
  },
  {
   "cell_type": "code",
   "execution_count": 23,
   "metadata": {},
   "outputs": [
    {
     "name": "stdout",
     "output_type": "stream",
     "text": [
      "1\n",
      "3\n",
      "6\n",
      "9\n",
      "2\n",
      "4\n",
      "6\n",
      "8\n"
     ]
    }
   ],
   "source": [
    "# define main\n",
    "def main():\n",
    "    # open numbers.txt in read mode and assign the file object to myfile\n",
    "    myfile = open('numbers.txt', 'r')\n",
    "    # for loop that iterated for every line in myfile\n",
    "    for line in myfile:\n",
    "        # strip \\n from line \n",
    "        line = line.rstrip('\\n')\n",
    "        # print the line that had \\n stripped from it \n",
    "        print(line)\n",
    "    # close the file \n",
    "    myfile.close()\n",
    "# call main \n",
    "main()"
   ]
  },
  {
   "cell_type": "markdown",
   "metadata": {},
   "source": [
    "## Programming Exercise #6 Average of Numbers \n",
    "Assume a file containing a series of integers is named numbers.txt and exists on the \n",
    "computer’s disk. Write a program that calculates the average of all the numbers stored in \n",
    "the file.\n",
    "\n",
    "I approached this problem by having accumulators for how many numbers are added and the sum of the numbers. Then after the file is read and all the numbers have been added then the total is divided by how many numbers are added."
   ]
  },
  {
   "cell_type": "code",
   "execution_count": 26,
   "metadata": {},
   "outputs": [
    {
     "name": "stdout",
     "output_type": "stream",
     "text": [
      "4.875\n"
     ]
    }
   ],
   "source": [
    "# defining main\n",
    "def main():\n",
    "    # open numbers.txt and assign to the file variable myfile \n",
    "    myfile = open('numbers.txt', 'r')\n",
    "    # accumulator for how many numbers are added \n",
    "    count = 0\n",
    "    # the total of all the numbers together \n",
    "    number = 0\n",
    "    # for loop that reads lines in myfile \n",
    "    for line in myfile:\n",
    "        # converting the line to an int to do an operation on it\n",
    "        num = int(line)\n",
    "        # add the number to the total\n",
    "        number += num \n",
    "        # add 1 to the count for every line that is read\n",
    "        count += 1\n",
    "    # close the file\n",
    "    myfile.close()\n",
    "    # calculating the average of the numbers in the file\n",
    "    average = number / count\n",
    "    # print the average \n",
    "    print(average)\n",
    "# call main \n",
    "main()"
   ]
  },
  {
   "cell_type": "markdown",
   "metadata": {},
   "source": [
    "## Programming Exercise #9 Exception Handling\n",
    "Modify the program that you wrote for Exercise 6 so it handles the following exceptions:\n",
    "\n",
    "• It should handle any IOError exceptions that are raised when the file is opened and data \n",
    "is read from it.\n",
    "\n",
    "• It should handle any ValueError exceptions that are raised when the items that are read \n",
    "from the file are converted to a number.\n",
    "\n",
    "For this problem I created exceptions for IO and Value errors. To test the IO error I put in the wrong file name to open in read mode. To test the value error I changed one of the lines in number.txt to the word six instead of 6. I have the exception handlers print the generic exception object that is assigned to the variable err."
   ]
  },
  {
   "cell_type": "code",
   "execution_count": 31,
   "metadata": {},
   "outputs": [
    {
     "name": "stdout",
     "output_type": "stream",
     "text": [
      "[Errno 2] No such file or directory: 'numbrs.txt'\n"
     ]
    }
   ],
   "source": [
    "# defining main \n",
    "def main():\n",
    "    # try to open the file \n",
    "    try:\n",
    "      # open numbers.txt and assign to the file variable myfile \n",
    "        myfile = open('numbrs.txt', 'r')\n",
    "        # accumulator for how many numbers are added \n",
    "        count = 0\n",
    "        # the total of all the numbers together \n",
    "        number = 0\n",
    "        # for loop that reads lines in myfile \n",
    "        for line in myfile:\n",
    "            # converting the line to an int to do an operation on it\n",
    "            num = int(line)\n",
    "            # add the number to the total\n",
    "            number += num \n",
    "            # add 1 to the count for every line that is read\n",
    "            count += 1\n",
    "        # close the file\n",
    "        myfile.close()\n",
    "        # calculating the average of the numbers in the file\n",
    "        average = number / count\n",
    "        # print the average \n",
    "        print(average)\n",
    "    # except when an IO error has occured in the try statement \n",
    "    except IOError as err:\n",
    "        # print the exception object \n",
    "        print(err)\n",
    "    # except when a value error has occured in the try statement \n",
    "    except ValueError as err:\n",
    "        # print the exception object \n",
    "        print(err)\n",
    "# call main \n",
    "main()"
   ]
  },
  {
   "cell_type": "code",
   "execution_count": 32,
   "metadata": {},
   "outputs": [
    {
     "name": "stdout",
     "output_type": "stream",
     "text": [
      "invalid literal for int() with base 10: 'six\\n'\n"
     ]
    }
   ],
   "source": [
    "# define main \n",
    "def main():\n",
    "    # try these statements \n",
    "    try:\n",
    "      # open numbers.txt and assign to the file variable myfile \n",
    "        myfile = open('numbers.txt', 'r')\n",
    "        # accumulator for how many numbers are added \n",
    "        count = 0\n",
    "        # the total of all the numbers together \n",
    "        number = 0\n",
    "        # for loop that reads lines in myfile \n",
    "        for line in myfile:\n",
    "            # converting the line to an int to do an operation on it\n",
    "            num = int(line)\n",
    "            # add the number to the total\n",
    "            number += num \n",
    "            # add 1 to the count for every line that is read\n",
    "            count += 1\n",
    "        # close the file\n",
    "        myfile.close()\n",
    "        # calculating the average of the numbers in the file\n",
    "        average = number / count\n",
    "        # print the average \n",
    "        print(average)\n",
    "    # exception for when a IO error has occured \n",
    "    except IOError as err:\n",
    "        # print the exception object \n",
    "        print(err)\n",
    "    # exception for when a value error has occured \n",
    "    except ValueError as err:\n",
    "        # print the exception object\n",
    "        print(err)\n",
    "# call main\n",
    "main()"
   ]
  },
  {
   "cell_type": "markdown",
   "metadata": {},
   "source": [
    "## Programming Exercise #12 Average Steps Taken \n",
    "A Personal Fitness Tracker is a wearable device that tracks your physical activity, calories \n",
    "burned, heart rate, sleeping patterns, and so on. One common physical activity that most \n",
    "of these devices track is the number of steps you take each day.\n",
    "If you have downloaded this book’s source code from the Computer Science Portal, you \n",
    "will find a file named steps.txt in the Chapter 06 folder. (The Computer Science Portal \n",
    "can be found at www.pearsonhighered.com/gaddis.) The steps.txt file contains the \n",
    "number of steps a person has taken each day for a year. There are 365 lines in the file, and \n",
    "each line contains the number of steps taken during a day. (The first line is the number of \n",
    "steps taken on January 1st, the second line is the number of steps taken on January 2nd, \n",
    "and so forth.) Write a program that reads the file, then displays the average number of \n",
    "steps taken for each month. (The data is from a year that was not a leap year, so February \n",
    "has 28 days.)"
   ]
  },
  {
   "cell_type": "code",
   "execution_count": 18,
   "metadata": {},
   "outputs": [],
   "source": [
    "# creating a text document of the steps taken\n",
    "# in a day for every day of the year\n",
    "# there are 365 lines in the file \n",
    "\n",
    "# import random \n",
    "import random \n",
    "# open the file steps.txt as year_step \n",
    "with open('steps.txt', 'w') as year_step:\n",
    "    # iterate a loop 365 times\n",
    "    for num in range(1,366):\n",
    "        # write the random number and a newline character\n",
    "        year_step.write(str(random.randint(1000,5000)) + '\\n')\n",
    "        \n",
    "                    "
   ]
  },
  {
   "cell_type": "code",
   "execution_count": 20,
   "metadata": {},
   "outputs": [
    {
     "ename": "TypeError",
     "evalue": "unsupported operand type(s) for /: 'int' and 'str'",
     "output_type": "error",
     "traceback": [
      "\u001b[1;31m---------------------------------------------------------------------------\u001b[0m",
      "\u001b[1;31mTypeError\u001b[0m                                 Traceback (most recent call last)",
      "\u001b[1;32mc:\\Users\\Allison\\Documents\\GitHub\\Python-Practice\\Chapter_6_exercises.ipynb Cell 15\u001b[0m line \u001b[0;36m1\n\u001b[0;32m     <a href='vscode-notebook-cell:/c%3A/Users/Allison/Documents/GitHub/Python-Practice/Chapter_6_exercises.ipynb#X24sZmlsZQ%3D%3D?line=12'>13</a>\u001b[0m     total_steps \u001b[39m+\u001b[39m\u001b[39m=\u001b[39m \u001b[39mint\u001b[39m(steps\u001b[39m.\u001b[39mreadline())\n\u001b[0;32m     <a href='vscode-notebook-cell:/c%3A/Users/Allison/Documents/GitHub/Python-Practice/Chapter_6_exercises.ipynb#X24sZmlsZQ%3D%3D?line=13'>14</a>\u001b[0m month_counter \u001b[39m+\u001b[39m\u001b[39m=\u001b[39m \u001b[39m1\u001b[39m\n\u001b[1;32m---> <a href='vscode-notebook-cell:/c%3A/Users/Allison/Documents/GitHub/Python-Practice/Chapter_6_exercises.ipynb#X24sZmlsZQ%3D%3D?line=14'>15</a>\u001b[0m average \u001b[39m=\u001b[39m total_steps \u001b[39m/\u001b[39;49m line\n\u001b[0;32m     <a href='vscode-notebook-cell:/c%3A/Users/Allison/Documents/GitHub/Python-Practice/Chapter_6_exercises.ipynb#X24sZmlsZQ%3D%3D?line=15'>16</a>\u001b[0m \u001b[39mprint\u001b[39m(\u001b[39mf\u001b[39m\u001b[39m'\u001b[39m\u001b[39mThe average steps are \u001b[39m\u001b[39m{\u001b[39;00maverage\u001b[39m}\u001b[39;00m\u001b[39m for month \u001b[39m\u001b[39m{\u001b[39;00mmonth_counter\u001b[39m}\u001b[39;00m\u001b[39m.\u001b[39m\u001b[39m'\u001b[39m)\n",
      "\u001b[1;31mTypeError\u001b[0m: unsupported operand type(s) for /: 'int' and 'str'"
     ]
    }
   ],
   "source": [
    "with open('days_in_month.txt', 'r') as month:\n",
    "\n",
    "    steps = open('steps.txt', 'r')\n",
    "    month_counter = 0 \n",
    "\n",
    "    for line in month:\n",
    "\n",
    "        total_steps = 0\n",
    "        days_in_month = line \n",
    "\n",
    "\n",
    "        for day in range(1, int(line) + 1):\n",
    "            total_steps += int(steps.readline())\n",
    "        month_counter += 1\n",
    "        average = total_steps / int(line)\n",
    "        print(f'The average steps are {average} for month {month_counter}.')\n",
    "        \n",
    "\n",
    "\n",
    "\n",
    "\n",
    "\n",
    "\n"
   ]
  },
  {
   "cell_type": "code",
   "execution_count": null,
   "metadata": {},
   "outputs": [],
   "source": []
  }
 ],
 "metadata": {
  "kernelspec": {
   "display_name": "Python 3",
   "language": "python",
   "name": "python3"
  },
  "language_info": {
   "codemirror_mode": {
    "name": "ipython",
    "version": 3
   },
   "file_extension": ".py",
   "mimetype": "text/x-python",
   "name": "python",
   "nbconvert_exporter": "python",
   "pygments_lexer": "ipython3",
   "version": "3.11.5"
  },
  "orig_nbformat": 4
 },
 "nbformat": 4,
 "nbformat_minor": 2
}
