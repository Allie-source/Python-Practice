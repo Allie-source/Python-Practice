{
 "cells": [
  {
   "cell_type": "markdown",
   "metadata": {},
   "source": [
    "# 1. Employee and ProductionWorker Classes\n",
    "Write an Employee class that keeps data attributes for the following pieces of information:\n",
    "\n",
    "• Employee name\n",
    "\n",
    "• Employee number\n",
    "\n",
    "Next, write a class named ProductionWorker that is a subclass of the Employee class. \n",
    "The ProductionWorker class should keep data attributes for the following information:\n",
    "\n",
    "• Shift number (an integer, such as 1, 2, or 3)\n",
    "\n",
    "• Hourly pay rate\n",
    "\n",
    "The workday is divided into two shifts: day and night. The shift attribute will hold an \n",
    "integer value representing the shift that the employee works. The day shift is shift 1 and the \n",
    "night shift is shift 2. Write the appropriate accessor and mutator methods for each class.\n",
    "\n",
    "Once you have written the classes, write a program that creates an object of the \n",
    "ProductionWorker class and prompts the user to enter data for each of the object’s data \n",
    "attributes. Store the data in the object, then use the object’s accessor methods to retrieve it \n",
    "and display it on the screen."
   ]
  },
  {
   "cell_type": "code",
   "execution_count": 2,
   "metadata": {},
   "outputs": [
    {
     "name": "stdout",
     "output_type": "stream",
     "text": [
      "Enter Employee Details.\n",
      "Employee details:\n",
      "Name: Joe Dirt\n",
      "ID Number: 12345\n",
      "Shift: Night Shift\n",
      "Hourly Pay: $20.50\n"
     ]
    }
   ],
   "source": [
    "import employee\n",
    "def main():\n",
    "\n",
    "    print('Enter Employee Details.')\n",
    "    name = input('Enter the employees name: ')\n",
    "    number = input('Enter the employee ID number: ')\n",
    "    shift = int(input('Enter the Employees shift number 1 for Day or 2 for Night'))\n",
    "    pay = input('Enter the workers hourly pay: ')\n",
    "\n",
    "    worker = employee.ProductionWorker(name, number, shift, pay)\n",
    "\n",
    "\n",
    "    print(\"Employee details:\")\n",
    "    print(f\"Name: {worker.get_name()}\")\n",
    "    print(f\"ID Number: {worker.get_number()}\")\n",
    "    print(f\"Shift: {worker.get_shift()}\")\n",
    "    print(f\"Hourly Pay: ${worker.get_pay()}\")\n",
    "\n",
    "if __name__ == '__main__':\n",
    "    main()\n",
    "\n",
    "\n"
   ]
  },
  {
   "cell_type": "code",
   "execution_count": null,
   "metadata": {},
   "outputs": [],
   "source": []
  }
 ],
 "metadata": {
  "kernelspec": {
   "display_name": "Python 3",
   "language": "python",
   "name": "python3"
  },
  "language_info": {
   "codemirror_mode": {
    "name": "ipython",
    "version": 3
   },
   "file_extension": ".py",
   "mimetype": "text/x-python",
   "name": "python",
   "nbconvert_exporter": "python",
   "pygments_lexer": "ipython3",
   "version": "3.11.5"
  }
 },
 "nbformat": 4,
 "nbformat_minor": 2
}
