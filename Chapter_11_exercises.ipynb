{
 "cells": [
  {
   "cell_type": "markdown",
   "metadata": {},
   "source": [
    "# 1. Employee and ProductionWorker Classes\n",
    "Write an Employee class that keeps data attributes for the following pieces of information:\n",
    "\n",
    "• Employee name\n",
    "\n",
    "• Employee number\n",
    "\n",
    "Next, write a class named ProductionWorker that is a subclass of the Employee class. \n",
    "The ProductionWorker class should keep data attributes for the following information:\n",
    "\n",
    "• Shift number (an integer, such as 1, 2, or 3)\n",
    "\n",
    "• Hourly pay rate\n",
    "\n",
    "The workday is divided into two shifts: day and night. The shift attribute will hold an \n",
    "integer value representing the shift that the employee works. The day shift is shift 1 and the \n",
    "night shift is shift 2. Write the appropriate accessor and mutator methods for each class.\n",
    "\n",
    "Once you have written the classes, write a program that creates an object of the \n",
    "ProductionWorker class and prompts the user to enter data for each of the object’s data \n",
    "attributes. Store the data in the object, then use the object’s accessor methods to retrieve it \n",
    "and display it on the screen.\n",
    "\n",
    "For this problem I first created a basic Employee class with data attributes of name and id number and the respective accessor and mutator methods. Then I created ProductionWorker class as a subclass of Employee so it inherits the employee name and id number data attributes and methods. I saved these definitions in employee.py so I can imporrt them into my program. I wrote the get_shift accessor method so that it takes a data attribute either 1 or 2 and has an if statement that returns a string either \"Day Shift\" or \"Night Shift\". Then I wrote a basic program that creates an object of the production worker class and then uses the accessors methods to display the objects data. "
   ]
  },
  {
   "cell_type": "code",
   "execution_count": 2,
   "metadata": {},
   "outputs": [
    {
     "name": "stdout",
     "output_type": "stream",
     "text": [
      "Enter Employee Details.\n",
      "Employee details:\n",
      "Name: Joe Dirt\n",
      "ID Number: 12345\n",
      "Shift: Night Shift\n",
      "Hourly Pay: $20.50\n"
     ]
    }
   ],
   "source": [
    "# import employee class module\n",
    "import employee\n",
    "# define main\n",
    "def main():\n",
    "    # print program instructions\n",
    "    print('Enter Employee Details.')\n",
    "    # get name from user\n",
    "    name = input('Enter the employees name: ')\n",
    "    # get number from user\n",
    "    number = input('Enter the employee ID number: ')\n",
    "    # get shift worked as an integer from user\n",
    "    shift = int(input('Enter the Employees shift number 1 for Day or 2 for Night'))\n",
    "    # get hourly pay from user\n",
    "    pay = input('Enter the workers hourly pay: ')\n",
    "    # create an instance of the productionworker class as worker\n",
    "    # pass name, number, shift, and pay as arguments\n",
    "    worker = employee.ProductionWorker(name, number, shift, pay)\n",
    "\n",
    "    # print details\n",
    "    print(\"Employee details:\")\n",
    "    # f string print of the employees name\n",
    "    print(f\"Name: {worker.get_name()}\")\n",
    "    # f string of employee number\n",
    "    print(f\"ID Number: {worker.get_number()}\")\n",
    "    # f string of shift worked night or day\n",
    "    print(f\"Shift: {worker.get_shift()}\")\n",
    "    # f string that diplays pay\n",
    "    print(f\"Hourly Pay: ${worker.get_pay()}\")\n",
    "# define main\n",
    "if __name__ == '__main__':\n",
    "    # call main \n",
    "    main()\n",
    "\n",
    "\n"
   ]
  },
  {
   "cell_type": "markdown",
   "metadata": {},
   "source": [
    "# 2. ShiftSupervisor Class\n",
    "In a particular factory, a shift supervisor is a salaried employee who supervises a shift. In \n",
    "addition to a salary, the shift supervisor earns a yearly bonus when his or her shift meets \n",
    "production goals. Write a ShiftSupervisor class that is a subclass of the Employee class \n",
    "you created in Programming Exercise 1. The ShiftSupervisor class should keep a data \n",
    "attribute for the annual salary, and a data attribute for the annual production bonus that \n",
    "a shift supervisor has earned. Demonstrate the class by writing a program that uses a \n",
    "ShiftSupervisor object.\n",
    "\n",
    "For this problem I approached it very similarly to problem 1. I added a class definition to employee.py that is a subclass of Employee called ShiftSupervisor. It has set/get methods for supervisors salary and bonus. For the get_bonus accessor method I had the user input either y or n depending on if the supervisor earned the bonus, then if the supervisor earned the bonus it calculates the bonus as 5% of the supervisors pay. I wrote a basic program similar to above that creates an object of the subclass and uses the accessor methods to display the data attributes of the object. "
   ]
  },
  {
   "cell_type": "code",
   "execution_count": 2,
   "metadata": {},
   "outputs": [
    {
     "name": "stdout",
     "output_type": "stream",
     "text": [
      "Enter Supervisor Details.\n",
      "Supervisor details:\n",
      "Name: Dan Harmon\n",
      "ID Number: 123456\n",
      "Yearly Salary: $ 100000.0\n",
      "Bonus Earned: $ 5000.0\n"
     ]
    }
   ],
   "source": [
    "# import employee module\n",
    "import employee\n",
    "# define main \n",
    "def main():\n",
    "    # print program instructions\n",
    "    print('Enter Supervisor Details.')\n",
    "    # ask user for supervisors name\n",
    "    name = input('Enter the supervisors name: ')\n",
    "    # get supervisor id number form the user \n",
    "    number = input('Enter the supervisors ID number: ')\n",
    "    # get salary as an int from user\n",
    "    salary = int(input('Enter the supervisors yearly salary: '))\n",
    "    # get if a supervisor earned a bonus\n",
    "    bonus = input('Did the shift supervisor earn a bonus: y/n')\n",
    "\n",
    "    # create an instance of the shiftsupervisor class and pass \n",
    "    # name, number, salary, and bonus as arguments\n",
    "    worker = employee.ShiftSupervisor(name, number, salary, bonus)\n",
    "    \n",
    "    \n",
    "    # print object details\n",
    "    print(\"Supervisor details:\")\n",
    "    # print supervisors name\n",
    "    print(f\"Name: {worker.get_name()}\")\n",
    "    # print id number\n",
    "    print(f\"ID Number: {worker.get_number()}\")\n",
    "    # print salary to 1 decimal place\n",
    "    print(f\"Yearly Salary: ${worker.get_salary(): .1f}\")\n",
    "    # print bonus earned to one decimal point \n",
    "    print(f\"Bonus Earned: ${worker.get_bonus(): .1f}\")\n",
    "# define main\n",
    "if __name__ == '__main__':\n",
    "    # call main \n",
    "    main()"
   ]
  }
 ],
 "metadata": {
  "kernelspec": {
   "display_name": "Python 3",
   "language": "python",
   "name": "python3"
  },
  "language_info": {
   "codemirror_mode": {
    "name": "ipython",
    "version": 3
   },
   "file_extension": ".py",
   "mimetype": "text/x-python",
   "name": "python",
   "nbconvert_exporter": "python",
   "pygments_lexer": "ipython3",
   "version": "3.11.5"
  }
 },
 "nbformat": 4,
 "nbformat_minor": 2
}
