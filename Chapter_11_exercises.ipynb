{
 "cells": [
  {
   "cell_type": "markdown",
   "metadata": {},
   "source": [
    "# 1. Employee and ProductionWorker Classes\n",
    "Write an Employee class that keeps data attributes for the following pieces of information:\n",
    "\n",
    "• Employee name\n",
    "\n",
    "• Employee number\n",
    "\n",
    "Next, write a class named ProductionWorker that is a subclass of the Employee class. \n",
    "The ProductionWorker class should keep data attributes for the following information:\n",
    "\n",
    "• Shift number (an integer, such as 1, 2, or 3)\n",
    "\n",
    "• Hourly pay rate\n",
    "\n",
    "The workday is divided into two shifts: day and night. The shift attribute will hold an \n",
    "integer value representing the shift that the employee works. The day shift is shift 1 and the \n",
    "night shift is shift 2. Write the appropriate accessor and mutator methods for each class.\n",
    "\n",
    "Once you have written the classes, write a program that creates an object of the \n",
    "ProductionWorker class and prompts the user to enter data for each of the object’s data \n",
    "attributes. Store the data in the object, then use the object’s accessor methods to retrieve it \n",
    "and display it on the screen."
   ]
  },
  {
   "cell_type": "code",
   "execution_count": null,
   "metadata": {},
   "outputs": [],
   "source": [
    "class Employee:\n",
    "\n",
    "    def __init__(self, name, number):\n",
    "        self.__name = name\n",
    "        self.__number = number \n",
    "\n",
    "    def set_name(self, name):\n",
    "        self.__name = name \n",
    "\n",
    "    def set_number(self, number):\n",
    "        self.__number = number\n",
    "\n",
    "    def get_name(self):\n",
    "        return self.__name\n",
    "    \n",
    "    def get_number(self):\n",
    "        return self.__number\n",
    "    \n",
    "class ProductionWorker(Employee):\n",
    "\n",
    "    def __init__(self, name, number, shift, pay):\n",
    "\n",
    "        Employee.__init__(self, name, number)\n",
    "\n",
    "        self.__shift = shift\n",
    "        self.__pay = pay \n",
    "    \n",
    "    def set_shift(self, shift):\n",
    "        self.__shift = shift \n",
    "\n",
    "    def set_pay(self, pay):\n",
    "        self.__pay = pay\n",
    "\n",
    "    def get_shift(self):\n",
    "        \n",
    "        return self.__shift\n",
    "    \n",
    "    def get_pay(self):\n",
    "        return self.__pay \n",
    "\n",
    "    \n"
   ]
  }
 ],
 "metadata": {
  "language_info": {
   "name": "python"
  }
 },
 "nbformat": 4,
 "nbformat_minor": 2
}
